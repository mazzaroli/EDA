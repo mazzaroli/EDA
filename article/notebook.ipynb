{
 "cells": [
  {
   "cell_type": "markdown",
   "metadata": {},
   "source": [
    "\n",
    "# Análisis Exploratorio de Datos\n"
   ]
  },
  {
   "cell_type": "markdown",
   "metadata": {},
   "source": [
    "# Tema 1: Introducción al análisis exploratorio de datos\n"
   ]
  },
  {
   "cell_type": "markdown",
   "metadata": {},
   "source": [
    "## ¿Qué es y para qué sirve el análisis exploratorio de datos?\n",
    "\n",
    "**Que aprenderas en esta lectura?**\n",
    "\n",
    "- Entenderas que es y para que sirve un **A**nalisis **E**xploratorio de **D**atos (**E**xploratory **D**ata **A**nalysis o **E.D.A**).\n",
    "- Concoeras los dsitintos tipos de analisis de datos que existen.\n",
    "0 Identificaras distintos tipos de variables y analisis que puedes realizar con ellas.\n",
    "- Seras capaz de explorar conjuntos de datos de $n$ varaiables.\n",
    "- Identificaras las **ventajas** y **desventajas** de distintas visualizaciones de datos.\n",
    "\n",
    "**Conocimientos requeridos:**\n",
    "\n",
    "Para que puedas ir realizando y entendiendo los trabajos al par de la lectura, se asume que posees conocimientos previos en.\n",
    "\n",
    "- Python y algun notebook de tu preferencia.\n",
    "- Principios de visualizacion de datos.\n",
    "- Pandas y NumPy.\n",
    "- Matplotlib y Seaborn.\n",
    "- Estadistica.\n",
    "\n",
    "### Que es el Analisis Exploratorio de Datos (E.D.A)\n",
    "\n",
    "En pocas palabras un [Analisis exploratorio de datos](https://es.wikipedia.org/wiki/An%C3%A1lisis_exploratorio_de_datos) es el proceso determinado por el cientifico [John W. Turkey](https://es.wikipedia.org/wiki/John_W._Tukey) para su tratamiento estadistico de muestras recogidas durante la investigacion.\n",
    "\n",
    "**Los procesos basicos para un E.D.A**\n",
    "\n",
    "1. **Transformar los datos:** Nos sirve para saber que hacer frente a valores nulos, faltantes o datos atípicos. Además de establecer si hay necesidad de reducir la dimensionalidad de datos.\n",
    "\n",
    "1. **Visualizar:** Utilizar alguna herramienta para hacer una representación gráfica de los datos por ejemplo, R, Jupyter notebook, Google Colab, etc.\n",
    "\n",
    "1. **Analizar e Interpretar:** Analizar e interpretar los datos a través de diferentes visualizaciones.\n",
    "\n",
    "1. **Documentar:** Documentar todas las gráficas y estadísticas generadas.\n",
    "\n",
    "Los puntos sera trabajar en el proceso de **conocer en detalle nuestros datos** y ortogarles un sentido, poder **determinaremos la forma correcta de como tratarlos**, indagar en en ellos para **obtener las respuestas que necesitemos** y **transformar los datos en informacion util**."
   ]
  },
  {
   "cell_type": "markdown",
   "metadata": {},
   "source": [
    "## ¿Cómo hacer un análisis exploratorio de datos?\n",
    "\n",
    "### Por que deberias realizar un Analisis Exploratorio de Datos?\n",
    "\n",
    "**Organizar y entender las variables**\n",
    "\n",
    "Lograremos identificar los distintos tipos de variables, las categorias a las que pertenecen y por consiguiente el tipo de analisis que podemos realizar con ellas.\n",
    "\n",
    "**Establecer relaciones entre variables**\n",
    "\n",
    "Lograr establecer realciones entre las variables, por ejemplo ver como una variable se modifica si la grafico junto a otra,\n",
    "\n",
    "**Encontrar patrones ocultos en los datos**\n",
    "\n",
    "Encontraras patrones que de no haber hecho las visualizaciones y la exploracion de los datos no hubieran sido visibles a simple vista.\n",
    "\n",
    "Este sera el punto donde buscaremos encontrar los **data insights**\n",
    "\n",
    "**Ayudarte a escorger el modelo correcto para la necesidad correcta**\n",
    "\n",
    "Al empezar con un conjunto de datos podemos pensar que elegiremos algun modelo que prediga $X$ cosa, pero no obstante sin antes identificar que varibles sirven, cuales no sirven, como se encuentran relacionadas, cuales son las variables que mejor se ajustan a algun tipo de modelo u otro, lo mas probable es que al construir el modelo tengamos un resultado deficiente.\n",
    "\n",
    "El realizar el EDA nos ayudara a encontrar el modelo correcto para la necesidad correcta.\n",
    "\n",
    "**Ayuda a la toma de decisiones basadas en datos**\n",
    "\n",
    "La toma de decisiones basadas en los datos sera uso de hechos, métricas y datos para guiar decisiones estratégicas que se alineen con las metas, objetivos y las iniciativas de nuestra organización.\n",
    "\n",
    "### Cuales son los pasos para realizar un analisis exploratorio de datos?\n",
    "\n",
    "En cada paso para nuestro EDA, deberemos tener en cuenta una serie de preguntas para lograr avanzar en el analisis.\n",
    "\n",
    "**PASO 1: Hacer preguntas**\n",
    "\n",
    "Una vez visualizados los datos, debemos empezar a preguntarnos sobre ellos.\n",
    "\n",
    "- Que te gustaria encontrar?\n",
    "- Que quisieras saber de los datos?\n",
    "- Cual es la razon para realizar el analisis?\n",
    "\n",
    "Una vez tengamos nuestras preguntas, podremos generar una guia para nuestro proceso de exploracion de datos\n",
    "\n",
    "**PASO 2: Determinar el tamano de los datos**\n",
    "\n",
    "\n",
    "- Cuantas observaciones existen?\n",
    "- Cuantas variables hay?\n",
    "- Necesito todas las observaciones?\n",
    "- Necesito todas las variables?\n",
    "\n",
    "**PASO 3: Categorizar las variables**\n",
    "\n",
    "- Cuantas variables categoricas existen?\n",
    "- Cuantas variables continuas existen?\n",
    "- Como puedo explorar cada variable dependiendo de su categoria?\n",
    "\n",
    "**PASO 4: Limpieza y validacion de datos**\n",
    "\n",
    "- tengo valores faltantes?\n",
    "- Cual es la proporcion de datos faltantes\n",
    "- Como puedo tratar los datos faltantes?\n",
    "- Cual es la distribucion de los datos?\n",
    "- Tengo valores atipicos?\n",
    "\n",
    "**PASO 5: Establecer relaciones**\n",
    "\n",
    "- Existen algun tipo de relacion entre mi variable $X$ y $Y$>\n",
    "- Que pasa si ahora considero a la variable $Z$ en el analisis?\n",
    "- Que significa que las observaciones se agrupen?\n",
    "- Que significa el patron que se observa?\n",
    "\n",
    "\n",
    "> Este proceso es ciclico. A pesar de que pueda parecer infinito, este proceso en algun momento debe salir del ciclo y continuar para obtener algun tipo de valor\n",
    "\n",
    "<img src='https://www.researchgate.net/publication/284215308/figure/fig12/AS:668708305383433@1536443892537/Fases-componentes-de-la-metodologia-CRISP-DM-7.ppm' width='328'>\n",
    "<img src='https://static.platzi.com/media/user_upload/graph13-1d72d4bc-0711-48fc-b529-6c232c79259e.jpg' width='500'>\n"
   ]
  },
  {
   "cell_type": "markdown",
   "metadata": {},
   "source": [
    "## Tipos de análisis de datos\n",
    "\n",
    "### Tipos de analitica de datos\n",
    "\n",
    "Sin importar el tamano del conjunto de datos que tengamos, podemos dividir el conjunto de datos en 4 partes evocando a una pregunta escencial por cada etapa\n",
    "\n",
    "#### Analitica Descriptiva \n",
    "\n",
    "Es el análisis más básico. Permite dar una vista general de las propiedades, dimensiones y comportamiento de un fenómeno desde la mera descripción de los datos.\n",
    "\n",
    "#### Analitica Diagnostica \n",
    "\n",
    "Es aplicar unos criterios diferenciales a los datos descriptivos para identificar una situación problemática. Permite establecer relaciones entre variables y crear hipótesis sobre las posibles causas de su comportamiento actual.\n",
    "\n",
    "#### Analitica Predictiva \n",
    "\n",
    "Utiliza datos para explicar un posible comportamiento de las variables de interés si se siguen las tendencias actuales o si estas cambian. Permite determinar si la situación problemática identificada puede representar mayor o menor riesgo en el futuro.\n",
    "\n",
    "#### Analitica Prescriptiva \n",
    "\n",
    "Utiliza datos para apoyar la toma de decisiones, con base en eventos del pasado. Propone soluciones basadas en evidencia. Igualmente, la etapa prescriptiva también puede hacer iniciar el ciclo de nuevo, ya que monitorear la solución también da pie a procesos nuevos de descripción y diagnóstico de ese monitoreo, volviendo a iniciar el ciclo una vez más.\n",
    "\n",
    "<img src='https://gravitar.biz/wp-content/uploads/2021/07/tipos-de-analitica-gravitar_Mesa-de-trabajo-1.png' width='450'>\n",
    "\n",
    "### Ejemplo\n",
    "\n",
    "1. __Analitica Descriptiva (Que sucedio?)__\\\n",
    "    Fuiste a dormir por la noche como cualquier otra sintiendote bien, pero al despertar te das cuenta que te sientes fatigado, con dolor muscular, flema y fiebre. Al preguntarte que esta sucedientio hiciste una descripcion de los sintomas que te hacen sentir mal.\n",
    "    Al tratar de averiguar por que te sientes mal recuerdas que estuviste junto a un companero de trabajo que se sentia enfermo hace dos dias, por lo que que decides ir al medico para poder recibir un diagnostico\n",
    "\n",
    "2. __Analitica Diagnostica (Porque sucedio?)__\\\n",
    "    Cuando llegas al hospital, el doctor hara un breve interrogatorio para tener una descripcion general de lo que te esta ocurriendo, pidiendote que le repitas los sintomas que tienes en ese momento para luego darte un diagnostico y concluir de que tienes un resfriado comun tas la descripcion de tus sintomas.\n",
    "\n",
    "3. __Analitica Predictiva (Que podría pasar si?)__\\\n",
    "    Antes de irte del hospital, una enfermeta te detiene y te menciona que quiere hacerte unos analisis ya que puede ocurrir el caso de lo que seria una enfermedad comun para la normalidad de las personas, a ti te trate completamente diferente, por lo cual la enfermera realiza los analisis necesarios para saber si puede ocurrir una situacion inesperada ante esta enfermedad por cierta condicion, tras los analisis se concluye que estas bien y pasas a la siguiente etapa\n",
    "\n",
    "4. __Analitica Prescriptiva (Que debería hacerse?)__\\\n",
    "    La enfermera al llegar a la conclusion de que te encuentras bien, te da el alta y previamente te preescribe los medicamentos y tipo de descanso que tendras que realizar. "
   ]
  },
  {
   "cell_type": "markdown",
   "metadata": {},
   "source": [
    "## Tipos de datos y análisis de variables\n",
    "\n",
    "### Tipos de variables\n",
    "\n",
    "Las variables categóricas pueden clasificarse en:\n",
    "\n",
    "#### Variables categóricas\n",
    "\n",
    "[**Variable nominal**](https://es.wikipedia.org/wiki/Variable_estad%C3%ADstica#Variable_nominal)\n",
    "\n",
    "Es aquella variable cualitativa cuya categoría no sigue ningún orden, se agrupa sin ninguna jerarquía entre sí.\n",
    "\n",
    "Ejemplos:\n",
    "\n",
    "- Lateralidad (zurdo, diestro)\n",
    "- Estado civil (soltero, casado, divorciado, unión libre)\n",
    "- Grupo sanguíneo (Grupo A-Grupo B-Grupo AB-Grupo 0)\n",
    "\n",
    "[**Variable ordinal**](https://es.wikipedia.org/wiki/Variable_estad%C3%ADstica#Variable_ordinal)\n",
    "\n",
    "Son aquellas variables categóricas con orden secuencial o progresión natural esperable o jerarquía.\n",
    "\n",
    "Ejemplos:\n",
    "\n",
    "- Medalla deportiva (oro, plata, bronce)\n",
    "- Nivel de clase educativa (último año, primer año, etc.)\n",
    "\n",
    "#### Variables numéricas\n",
    "\n",
    "[**Variables continuas**](https://es.wikipedia.org/wiki/Variable_estad%C3%ADstica#Variables_continuas)\n",
    "\n",
    "Son aquellas características que se miden dentro de un rango continuo infinito de valores numéricos y se registran con números reales. Pueden presentar cualquier valor dentro de cierto intervalo.\n",
    "\n",
    "Ejemplos:\n",
    "\n",
    "- Estatura (1,76543 m)\n",
    "- Peso (55,6625 kg)\n",
    "- Tamaño de lesión de leishmaniasis (6,0458 mm)\n",
    "\n",
    "[**Variables discretas**](https://es.wikipedia.org/wiki/Variable_estad%C3%ADstica#Variables_discretas)\n",
    "\n",
    "También llamadas discontinuas, están asociadas a conteos o enumeraciones, razón por la cual solo pueden registrarse con números enteros (0,1,2,3, etc.)\n",
    "\n",
    "Ejemplos:\n",
    "\n",
    "- Número de hijos en una familia (0, 1, 2, 3, etc.)\n",
    "- Número de familias residentes en una manzana (20, 25, 45)\n",
    "- Número de insectos atrapados en una red (0, 1, 2, 5, 10)\n",
    "\n",
    "### Tipos de analisis\n",
    "\n",
    "#### Analisis Univariado\n",
    "\n",
    "El Analisis Univariado busca analizar cada variable por separado, entender sus caracteristicas y como se definen por si misma.\n",
    "\n",
    "#### Analisis Bivariado\n",
    "\n",
    "El Analisis Bivariado busca analizar la relacion de cada par de variables. Permite buscar relaciones intrinsecas entre los datos\n",
    "\n",
    "#### Analisis Multivariado\n",
    "\n",
    "El Analisis Multivariado busca analizar el efecto simultaneo de multiples variables. Analiza la variables como un conjunto\n",
    "______\n",
    "\n",
    "> En el comienzo de la EDA, el análisis univariado te va a dar informacion mucho mas valiosa que comenzar con todas las variables al mismo tiempo. Te ayuda a analizar la contribución individual de una variable sobre las demas para luego incrementar la cantidad de variables y analizar los efectos en conjunto."
   ]
  },
  {
   "cell_type": "markdown",
   "metadata": {},
   "source": [
    "## Herramientas de software para el análisis exploratorio de datos\n",
    "\n",
    "Existen una gran variedad de herramientas que podemos usar, esto sera un proceso en el que tendras que ver por tu cuenta cual es tu herramienta preferida, ya que al fin de cuentas lo que importara son los resultados que entregues.\n",
    "\n",
    "Aca tienes un listado de herramientas de las que puedes probar:\n",
    "\n",
    "- Jupyter \n",
    "- R Studio\n",
    "- Visual Studio COde\n",
    "- Google Colab\n",
    "- Deepnote\n",
    "- Amazon EMR\n",
    "- Amazon SageMaker\n",
    "- Azure Machine Learning\n",
    "- Google Cloud Plataform\n",
    "- Apache Spark\n",
    "\n",
    "La plataforma que usaremos sera la de Deepnote, pero sientete comodo de escoger la que mas te guste!"
   ]
  },
  {
   "cell_type": "markdown",
   "metadata": {},
   "source": [
    "## Conociendo nuestros datos: palmerpenguis\n",
    "\n",
    "Si quieres saber mas sobre como se ubtuvieron los datos a trabajar visita la pagina:\\\n",
    "https://pallter.marine.rutgers.edu/"
   ]
  },
  {
   "cell_type": "markdown",
   "metadata": {},
   "source": [
    "### Instalar librerias necesarias"
   ]
  },
  {
   "cell_type": "code",
   "execution_count": 1,
   "metadata": {},
   "outputs": [],
   "source": [
    "# !pip install --upgrade pip\n",
    "# !pip install palmerpenguins numpy pandas seaborn matplotlib empiricaldist statsmodels sklearn pyjanitor"
   ]
  },
  {
   "cell_type": "markdown",
   "metadata": {},
   "source": [
    "### Importar librerias"
   ]
  },
  {
   "cell_type": "code",
   "execution_count": 2,
   "metadata": {},
   "outputs": [],
   "source": [
    "import empiricaldist\n",
    "import janitor\n",
    "import matplotlib.pyplot as plt\n",
    "import numpy as np\n",
    "import pandas as pd\n",
    "import palmerpenguins\n",
    "import scipy.stats\n",
    "import seaborn as sns\n",
    "import sklearn.metrics\n",
    "import statsmodels.api as sm\n",
    "import statsmodels.formula.api as smf\n",
    "import statsmodels.stats as ss"
   ]
  },
  {
   "cell_type": "markdown",
   "metadata": {},
   "source": [
    "### Establecer apariencia general de los graficos"
   ]
  },
  {
   "cell_type": "code",
   "execution_count": 3,
   "metadata": {},
   "outputs": [],
   "source": [
    "%matplotlib inline\n",
    "sns.set_style(style='whitegrid')\n",
    "sns.set_context(context='notebook')\n",
    "plt.rcParams['figure.figsize'] = (11,9.4)\n",
    "\n",
    "penguin_color = {\n",
    "    'Adelie':'#ff6602ff',\n",
    "    'Gentoo':'#0f7175ff',\n",
    "    'Chinstrap':'#c65dc9ff',\n",
    "}"
   ]
  },
  {
   "cell_type": "markdown",
   "metadata": {},
   "source": [
    "### Cargar los datos"
   ]
  },
  {
   "cell_type": "markdown",
   "metadata": {},
   "source": [
    "#### Utilizando el paquete palmerpenguins"
   ]
  },
  {
   "cell_type": "markdown",
   "metadata": {},
   "source": [
    "##### [Datos Crudos](https://wiki.salahumanitaria.co/wiki/Datos_crudos#:~:text=Los%20datos%20crudos%20es%20un,se%20conocen%20como%20datos%20primarios.)"
   ]
  },
  {
   "cell_type": "code",
   "execution_count": 4,
   "metadata": {},
   "outputs": [
    {
     "data": {
      "text/html": [
       "<div>\n",
       "<style scoped>\n",
       "    .dataframe tbody tr th:only-of-type {\n",
       "        vertical-align: middle;\n",
       "    }\n",
       "\n",
       "    .dataframe tbody tr th {\n",
       "        vertical-align: top;\n",
       "    }\n",
       "\n",
       "    .dataframe thead th {\n",
       "        text-align: right;\n",
       "    }\n",
       "</style>\n",
       "<table border=\"1\" class=\"dataframe\">\n",
       "  <thead>\n",
       "    <tr style=\"text-align: right;\">\n",
       "      <th></th>\n",
       "      <th>studyName</th>\n",
       "      <th>Sample Number</th>\n",
       "      <th>Species</th>\n",
       "      <th>Region</th>\n",
       "      <th>Island</th>\n",
       "      <th>Stage</th>\n",
       "      <th>Individual ID</th>\n",
       "      <th>Clutch Completion</th>\n",
       "      <th>Date Egg</th>\n",
       "      <th>Culmen Length (mm)</th>\n",
       "      <th>Culmen Depth (mm)</th>\n",
       "      <th>Flipper Length (mm)</th>\n",
       "      <th>Body Mass (g)</th>\n",
       "      <th>Sex</th>\n",
       "      <th>Delta 15 N (o/oo)</th>\n",
       "      <th>Delta 13 C (o/oo)</th>\n",
       "      <th>Comments</th>\n",
       "    </tr>\n",
       "  </thead>\n",
       "  <tbody>\n",
       "    <tr>\n",
       "      <th>0</th>\n",
       "      <td>PAL0708</td>\n",
       "      <td>1</td>\n",
       "      <td>Adelie Penguin (Pygoscelis adeliae)</td>\n",
       "      <td>Anvers</td>\n",
       "      <td>Torgersen</td>\n",
       "      <td>Adult, 1 Egg Stage</td>\n",
       "      <td>N1A1</td>\n",
       "      <td>Yes</td>\n",
       "      <td>2007-11-11</td>\n",
       "      <td>39.1</td>\n",
       "      <td>18.7</td>\n",
       "      <td>181.0</td>\n",
       "      <td>3750.0</td>\n",
       "      <td>MALE</td>\n",
       "      <td>NaN</td>\n",
       "      <td>NaN</td>\n",
       "      <td>Not enough blood for isotopes.</td>\n",
       "    </tr>\n",
       "    <tr>\n",
       "      <th>1</th>\n",
       "      <td>PAL0708</td>\n",
       "      <td>2</td>\n",
       "      <td>Adelie Penguin (Pygoscelis adeliae)</td>\n",
       "      <td>Anvers</td>\n",
       "      <td>Torgersen</td>\n",
       "      <td>Adult, 1 Egg Stage</td>\n",
       "      <td>N1A2</td>\n",
       "      <td>Yes</td>\n",
       "      <td>2007-11-11</td>\n",
       "      <td>39.5</td>\n",
       "      <td>17.4</td>\n",
       "      <td>186.0</td>\n",
       "      <td>3800.0</td>\n",
       "      <td>FEMALE</td>\n",
       "      <td>8.94956</td>\n",
       "      <td>-24.69454</td>\n",
       "      <td>NaN</td>\n",
       "    </tr>\n",
       "    <tr>\n",
       "      <th>2</th>\n",
       "      <td>PAL0708</td>\n",
       "      <td>3</td>\n",
       "      <td>Adelie Penguin (Pygoscelis adeliae)</td>\n",
       "      <td>Anvers</td>\n",
       "      <td>Torgersen</td>\n",
       "      <td>Adult, 1 Egg Stage</td>\n",
       "      <td>N2A1</td>\n",
       "      <td>Yes</td>\n",
       "      <td>2007-11-16</td>\n",
       "      <td>40.3</td>\n",
       "      <td>18.0</td>\n",
       "      <td>195.0</td>\n",
       "      <td>3250.0</td>\n",
       "      <td>FEMALE</td>\n",
       "      <td>8.36821</td>\n",
       "      <td>-25.33302</td>\n",
       "      <td>NaN</td>\n",
       "    </tr>\n",
       "    <tr>\n",
       "      <th>3</th>\n",
       "      <td>PAL0708</td>\n",
       "      <td>4</td>\n",
       "      <td>Adelie Penguin (Pygoscelis adeliae)</td>\n",
       "      <td>Anvers</td>\n",
       "      <td>Torgersen</td>\n",
       "      <td>Adult, 1 Egg Stage</td>\n",
       "      <td>N2A2</td>\n",
       "      <td>Yes</td>\n",
       "      <td>2007-11-16</td>\n",
       "      <td>NaN</td>\n",
       "      <td>NaN</td>\n",
       "      <td>NaN</td>\n",
       "      <td>NaN</td>\n",
       "      <td>NaN</td>\n",
       "      <td>NaN</td>\n",
       "      <td>NaN</td>\n",
       "      <td>Adult not sampled.</td>\n",
       "    </tr>\n",
       "    <tr>\n",
       "      <th>4</th>\n",
       "      <td>PAL0708</td>\n",
       "      <td>5</td>\n",
       "      <td>Adelie Penguin (Pygoscelis adeliae)</td>\n",
       "      <td>Anvers</td>\n",
       "      <td>Torgersen</td>\n",
       "      <td>Adult, 1 Egg Stage</td>\n",
       "      <td>N3A1</td>\n",
       "      <td>Yes</td>\n",
       "      <td>2007-11-16</td>\n",
       "      <td>36.7</td>\n",
       "      <td>19.3</td>\n",
       "      <td>193.0</td>\n",
       "      <td>3450.0</td>\n",
       "      <td>FEMALE</td>\n",
       "      <td>8.76651</td>\n",
       "      <td>-25.32426</td>\n",
       "      <td>NaN</td>\n",
       "    </tr>\n",
       "  </tbody>\n",
       "</table>\n",
       "</div>"
      ],
      "text/plain": [
       "  studyName  Sample Number                              Species  Region  \\\n",
       "0   PAL0708              1  Adelie Penguin (Pygoscelis adeliae)  Anvers   \n",
       "1   PAL0708              2  Adelie Penguin (Pygoscelis adeliae)  Anvers   \n",
       "2   PAL0708              3  Adelie Penguin (Pygoscelis adeliae)  Anvers   \n",
       "3   PAL0708              4  Adelie Penguin (Pygoscelis adeliae)  Anvers   \n",
       "4   PAL0708              5  Adelie Penguin (Pygoscelis adeliae)  Anvers   \n",
       "\n",
       "      Island               Stage Individual ID Clutch Completion    Date Egg  \\\n",
       "0  Torgersen  Adult, 1 Egg Stage          N1A1               Yes  2007-11-11   \n",
       "1  Torgersen  Adult, 1 Egg Stage          N1A2               Yes  2007-11-11   \n",
       "2  Torgersen  Adult, 1 Egg Stage          N2A1               Yes  2007-11-16   \n",
       "3  Torgersen  Adult, 1 Egg Stage          N2A2               Yes  2007-11-16   \n",
       "4  Torgersen  Adult, 1 Egg Stage          N3A1               Yes  2007-11-16   \n",
       "\n",
       "   Culmen Length (mm)  Culmen Depth (mm)  Flipper Length (mm)  Body Mass (g)  \\\n",
       "0                39.1               18.7                181.0         3750.0   \n",
       "1                39.5               17.4                186.0         3800.0   \n",
       "2                40.3               18.0                195.0         3250.0   \n",
       "3                 NaN                NaN                  NaN            NaN   \n",
       "4                36.7               19.3                193.0         3450.0   \n",
       "\n",
       "      Sex  Delta 15 N (o/oo)  Delta 13 C (o/oo)  \\\n",
       "0    MALE                NaN                NaN   \n",
       "1  FEMALE            8.94956          -24.69454   \n",
       "2  FEMALE            8.36821          -25.33302   \n",
       "3     NaN                NaN                NaN   \n",
       "4  FEMALE            8.76651          -25.32426   \n",
       "\n",
       "                         Comments  \n",
       "0  Not enough blood for isotopes.  \n",
       "1                             NaN  \n",
       "2                             NaN  \n",
       "3              Adult not sampled.  \n",
       "4                             NaN  "
      ]
     },
     "execution_count": 4,
     "metadata": {},
     "output_type": "execute_result"
    }
   ],
   "source": [
    "raw_penguins_df = palmerpenguins.load_penguins_raw()\n",
    "raw_penguins_df.head()"
   ]
  },
  {
   "cell_type": "markdown",
   "metadata": {},
   "source": [
    "##### [Datos Previamente procesados](https://blog.powerdata.es/el-valor-de-la-gestion-de-datos/calidad-de-datos-en-mineria-de-datos-a-traves-del-preprocesamiento#:~:text=El%20preprocesamiento%20de%20datos%20es,sean%20m%C3%A1s%20f%C3%A1ciles%20de%20utilizar.)"
   ]
  },
  {
   "cell_type": "code",
   "execution_count": 5,
   "metadata": {},
   "outputs": [
    {
     "data": {
      "text/html": [
       "<div>\n",
       "<style scoped>\n",
       "    .dataframe tbody tr th:only-of-type {\n",
       "        vertical-align: middle;\n",
       "    }\n",
       "\n",
       "    .dataframe tbody tr th {\n",
       "        vertical-align: top;\n",
       "    }\n",
       "\n",
       "    .dataframe thead th {\n",
       "        text-align: right;\n",
       "    }\n",
       "</style>\n",
       "<table border=\"1\" class=\"dataframe\">\n",
       "  <thead>\n",
       "    <tr style=\"text-align: right;\">\n",
       "      <th></th>\n",
       "      <th>species</th>\n",
       "      <th>island</th>\n",
       "      <th>bill_length_mm</th>\n",
       "      <th>bill_depth_mm</th>\n",
       "      <th>flipper_length_mm</th>\n",
       "      <th>body_mass_g</th>\n",
       "      <th>sex</th>\n",
       "      <th>year</th>\n",
       "    </tr>\n",
       "  </thead>\n",
       "  <tbody>\n",
       "    <tr>\n",
       "      <th>0</th>\n",
       "      <td>Adelie</td>\n",
       "      <td>Torgersen</td>\n",
       "      <td>39.1</td>\n",
       "      <td>18.7</td>\n",
       "      <td>181.0</td>\n",
       "      <td>3750.0</td>\n",
       "      <td>male</td>\n",
       "      <td>2007</td>\n",
       "    </tr>\n",
       "    <tr>\n",
       "      <th>1</th>\n",
       "      <td>Adelie</td>\n",
       "      <td>Torgersen</td>\n",
       "      <td>39.5</td>\n",
       "      <td>17.4</td>\n",
       "      <td>186.0</td>\n",
       "      <td>3800.0</td>\n",
       "      <td>female</td>\n",
       "      <td>2007</td>\n",
       "    </tr>\n",
       "    <tr>\n",
       "      <th>2</th>\n",
       "      <td>Adelie</td>\n",
       "      <td>Torgersen</td>\n",
       "      <td>40.3</td>\n",
       "      <td>18.0</td>\n",
       "      <td>195.0</td>\n",
       "      <td>3250.0</td>\n",
       "      <td>female</td>\n",
       "      <td>2007</td>\n",
       "    </tr>\n",
       "    <tr>\n",
       "      <th>3</th>\n",
       "      <td>Adelie</td>\n",
       "      <td>Torgersen</td>\n",
       "      <td>NaN</td>\n",
       "      <td>NaN</td>\n",
       "      <td>NaN</td>\n",
       "      <td>NaN</td>\n",
       "      <td>NaN</td>\n",
       "      <td>2007</td>\n",
       "    </tr>\n",
       "    <tr>\n",
       "      <th>4</th>\n",
       "      <td>Adelie</td>\n",
       "      <td>Torgersen</td>\n",
       "      <td>36.7</td>\n",
       "      <td>19.3</td>\n",
       "      <td>193.0</td>\n",
       "      <td>3450.0</td>\n",
       "      <td>female</td>\n",
       "      <td>2007</td>\n",
       "    </tr>\n",
       "  </tbody>\n",
       "</table>\n",
       "</div>"
      ],
      "text/plain": [
       "  species     island  bill_length_mm  bill_depth_mm  flipper_length_mm  \\\n",
       "0  Adelie  Torgersen            39.1           18.7              181.0   \n",
       "1  Adelie  Torgersen            39.5           17.4              186.0   \n",
       "2  Adelie  Torgersen            40.3           18.0              195.0   \n",
       "3  Adelie  Torgersen             NaN            NaN                NaN   \n",
       "4  Adelie  Torgersen            36.7           19.3              193.0   \n",
       "\n",
       "   body_mass_g     sex  year  \n",
       "0       3750.0    male  2007  \n",
       "1       3800.0  female  2007  \n",
       "2       3250.0  female  2007  \n",
       "3          NaN     NaN  2007  \n",
       "4       3450.0  female  2007  "
      ]
     },
     "execution_count": 5,
     "metadata": {},
     "output_type": "execute_result"
    }
   ],
   "source": [
    "preprocess_penguins_df = palmerpenguins.load_penguins()\n",
    "preprocess_penguins_df.head()"
   ]
  },
  {
   "cell_type": "markdown",
   "metadata": {},
   "source": [
    "#### Utilizando Pandas\n",
    "\n",
    "- [Datos crudos](https://raw.githubusercontent.com/allisonhorst/palmerpenguins/master/inst/extdata/penguins_raw.csv) \n",
    "- [Datos preprocesados](https://raw.githubusercontent.com/allisonhorst/palmerpenguins/master/inst/extdata/penguins_raw.csv) "
   ]
  },
  {
   "cell_type": "code",
   "execution_count": 6,
   "metadata": {},
   "outputs": [],
   "source": [
    "raw_penguins_df = pd.read_csv('https://raw.githubusercontent.com/allisonhorst/palmerpenguins/master/inst/extdata/penguins_raw.csv') # Raw Data\n",
    "preprocess_penguins_df = pd.read_csv('https://raw.githubusercontent.com/allisonhorst/palmerpenguins/master/inst/extdata/penguins.csv') # preprocessed Data"
   ]
  },
  {
   "cell_type": "code",
   "execution_count": 7,
   "metadata": {},
   "outputs": [
    {
     "data": {
      "text/html": [
       "<div>\n",
       "<style scoped>\n",
       "    .dataframe tbody tr th:only-of-type {\n",
       "        vertical-align: middle;\n",
       "    }\n",
       "\n",
       "    .dataframe tbody tr th {\n",
       "        vertical-align: top;\n",
       "    }\n",
       "\n",
       "    .dataframe thead th {\n",
       "        text-align: right;\n",
       "    }\n",
       "</style>\n",
       "<table border=\"1\" class=\"dataframe\">\n",
       "  <thead>\n",
       "    <tr style=\"text-align: right;\">\n",
       "      <th></th>\n",
       "      <th>studyName</th>\n",
       "      <th>Sample Number</th>\n",
       "      <th>Species</th>\n",
       "      <th>Region</th>\n",
       "      <th>Island</th>\n",
       "      <th>Stage</th>\n",
       "      <th>Individual ID</th>\n",
       "      <th>Clutch Completion</th>\n",
       "      <th>Date Egg</th>\n",
       "      <th>Culmen Length (mm)</th>\n",
       "      <th>Culmen Depth (mm)</th>\n",
       "      <th>Flipper Length (mm)</th>\n",
       "      <th>Body Mass (g)</th>\n",
       "      <th>Sex</th>\n",
       "      <th>Delta 15 N (o/oo)</th>\n",
       "      <th>Delta 13 C (o/oo)</th>\n",
       "      <th>Comments</th>\n",
       "    </tr>\n",
       "  </thead>\n",
       "  <tbody>\n",
       "    <tr>\n",
       "      <th>0</th>\n",
       "      <td>PAL0708</td>\n",
       "      <td>1</td>\n",
       "      <td>Adelie Penguin (Pygoscelis adeliae)</td>\n",
       "      <td>Anvers</td>\n",
       "      <td>Torgersen</td>\n",
       "      <td>Adult, 1 Egg Stage</td>\n",
       "      <td>N1A1</td>\n",
       "      <td>Yes</td>\n",
       "      <td>2007-11-11</td>\n",
       "      <td>39.1</td>\n",
       "      <td>18.7</td>\n",
       "      <td>181.0</td>\n",
       "      <td>3750.0</td>\n",
       "      <td>MALE</td>\n",
       "      <td>NaN</td>\n",
       "      <td>NaN</td>\n",
       "      <td>Not enough blood for isotopes.</td>\n",
       "    </tr>\n",
       "    <tr>\n",
       "      <th>1</th>\n",
       "      <td>PAL0708</td>\n",
       "      <td>2</td>\n",
       "      <td>Adelie Penguin (Pygoscelis adeliae)</td>\n",
       "      <td>Anvers</td>\n",
       "      <td>Torgersen</td>\n",
       "      <td>Adult, 1 Egg Stage</td>\n",
       "      <td>N1A2</td>\n",
       "      <td>Yes</td>\n",
       "      <td>2007-11-11</td>\n",
       "      <td>39.5</td>\n",
       "      <td>17.4</td>\n",
       "      <td>186.0</td>\n",
       "      <td>3800.0</td>\n",
       "      <td>FEMALE</td>\n",
       "      <td>8.94956</td>\n",
       "      <td>-24.69454</td>\n",
       "      <td>NaN</td>\n",
       "    </tr>\n",
       "    <tr>\n",
       "      <th>2</th>\n",
       "      <td>PAL0708</td>\n",
       "      <td>3</td>\n",
       "      <td>Adelie Penguin (Pygoscelis adeliae)</td>\n",
       "      <td>Anvers</td>\n",
       "      <td>Torgersen</td>\n",
       "      <td>Adult, 1 Egg Stage</td>\n",
       "      <td>N2A1</td>\n",
       "      <td>Yes</td>\n",
       "      <td>2007-11-16</td>\n",
       "      <td>40.3</td>\n",
       "      <td>18.0</td>\n",
       "      <td>195.0</td>\n",
       "      <td>3250.0</td>\n",
       "      <td>FEMALE</td>\n",
       "      <td>8.36821</td>\n",
       "      <td>-25.33302</td>\n",
       "      <td>NaN</td>\n",
       "    </tr>\n",
       "  </tbody>\n",
       "</table>\n",
       "</div>"
      ],
      "text/plain": [
       "  studyName  Sample Number                              Species  Region  \\\n",
       "0   PAL0708              1  Adelie Penguin (Pygoscelis adeliae)  Anvers   \n",
       "1   PAL0708              2  Adelie Penguin (Pygoscelis adeliae)  Anvers   \n",
       "2   PAL0708              3  Adelie Penguin (Pygoscelis adeliae)  Anvers   \n",
       "\n",
       "      Island               Stage Individual ID Clutch Completion    Date Egg  \\\n",
       "0  Torgersen  Adult, 1 Egg Stage          N1A1               Yes  2007-11-11   \n",
       "1  Torgersen  Adult, 1 Egg Stage          N1A2               Yes  2007-11-11   \n",
       "2  Torgersen  Adult, 1 Egg Stage          N2A1               Yes  2007-11-16   \n",
       "\n",
       "   Culmen Length (mm)  Culmen Depth (mm)  Flipper Length (mm)  Body Mass (g)  \\\n",
       "0                39.1               18.7                181.0         3750.0   \n",
       "1                39.5               17.4                186.0         3800.0   \n",
       "2                40.3               18.0                195.0         3250.0   \n",
       "\n",
       "      Sex  Delta 15 N (o/oo)  Delta 13 C (o/oo)  \\\n",
       "0    MALE                NaN                NaN   \n",
       "1  FEMALE            8.94956          -24.69454   \n",
       "2  FEMALE            8.36821          -25.33302   \n",
       "\n",
       "                         Comments  \n",
       "0  Not enough blood for isotopes.  \n",
       "1                             NaN  \n",
       "2                             NaN  "
      ]
     },
     "execution_count": 7,
     "metadata": {},
     "output_type": "execute_result"
    }
   ],
   "source": [
    "raw_penguins_df.head(3)"
   ]
  },
  {
   "cell_type": "code",
   "execution_count": 8,
   "metadata": {},
   "outputs": [
    {
     "data": {
      "text/html": [
       "<div>\n",
       "<style scoped>\n",
       "    .dataframe tbody tr th:only-of-type {\n",
       "        vertical-align: middle;\n",
       "    }\n",
       "\n",
       "    .dataframe tbody tr th {\n",
       "        vertical-align: top;\n",
       "    }\n",
       "\n",
       "    .dataframe thead th {\n",
       "        text-align: right;\n",
       "    }\n",
       "</style>\n",
       "<table border=\"1\" class=\"dataframe\">\n",
       "  <thead>\n",
       "    <tr style=\"text-align: right;\">\n",
       "      <th></th>\n",
       "      <th>species</th>\n",
       "      <th>island</th>\n",
       "      <th>bill_length_mm</th>\n",
       "      <th>bill_depth_mm</th>\n",
       "      <th>flipper_length_mm</th>\n",
       "      <th>body_mass_g</th>\n",
       "      <th>sex</th>\n",
       "      <th>year</th>\n",
       "    </tr>\n",
       "  </thead>\n",
       "  <tbody>\n",
       "    <tr>\n",
       "      <th>0</th>\n",
       "      <td>Adelie</td>\n",
       "      <td>Torgersen</td>\n",
       "      <td>39.1</td>\n",
       "      <td>18.7</td>\n",
       "      <td>181.0</td>\n",
       "      <td>3750.0</td>\n",
       "      <td>male</td>\n",
       "      <td>2007</td>\n",
       "    </tr>\n",
       "    <tr>\n",
       "      <th>1</th>\n",
       "      <td>Adelie</td>\n",
       "      <td>Torgersen</td>\n",
       "      <td>39.5</td>\n",
       "      <td>17.4</td>\n",
       "      <td>186.0</td>\n",
       "      <td>3800.0</td>\n",
       "      <td>female</td>\n",
       "      <td>2007</td>\n",
       "    </tr>\n",
       "    <tr>\n",
       "      <th>2</th>\n",
       "      <td>Adelie</td>\n",
       "      <td>Torgersen</td>\n",
       "      <td>40.3</td>\n",
       "      <td>18.0</td>\n",
       "      <td>195.0</td>\n",
       "      <td>3250.0</td>\n",
       "      <td>female</td>\n",
       "      <td>2007</td>\n",
       "    </tr>\n",
       "  </tbody>\n",
       "</table>\n",
       "</div>"
      ],
      "text/plain": [
       "  species     island  bill_length_mm  bill_depth_mm  flipper_length_mm  \\\n",
       "0  Adelie  Torgersen            39.1           18.7              181.0   \n",
       "1  Adelie  Torgersen            39.5           17.4              186.0   \n",
       "2  Adelie  Torgersen            40.3           18.0              195.0   \n",
       "\n",
       "   body_mass_g     sex  year  \n",
       "0       3750.0    male  2007  \n",
       "1       3800.0  female  2007  \n",
       "2       3250.0  female  2007  "
      ]
     },
     "execution_count": 8,
     "metadata": {},
     "output_type": "execute_result"
    }
   ],
   "source": [
    "preprocess_penguins_df.head(3)"
   ]
  },
  {
   "cell_type": "markdown",
   "metadata": {},
   "source": [
    "#### Utilizando los conjuntos de datos de seaborn"
   ]
  },
  {
   "cell_type": "code",
   "execution_count": 9,
   "metadata": {},
   "outputs": [],
   "source": [
    "# preprocess_penguins_df = sns.load_dataset('penguins')\n"
   ]
  },
  {
   "cell_type": "markdown",
   "metadata": {},
   "source": [
    "Ahora tenemos los datos cruidos, es hora de hacernos las preguntas! Algunas preguntas interesantes pueden ser:\n",
    "\n",
    "- ¿Cuál es la vida promedio de un pingüino?\n",
    "- ¿Viven más las hembras o los machos?\n",
    "- ¿La altura es un rasgo distintivo del sexo?\n",
    "- ¿Cuál es la proporción altura/ancho de los picos?\n",
    "- ¿Correlación peso/sexo?\n",
    "- ¿Correlación especie pico?"
   ]
  },
  {
   "cell_type": "markdown",
   "metadata": {},
   "source": [
    "## Recolección de datos, limpieza y validación\n",
    "\n",
    "Anteriormente vimos que teniamos 2 conjuntos de datos, uno crudo y otro ya preprocesado, tambien constabamos con una validacion de que esos numeros y dates estaban bien.\n",
    "\n",
    "### Que es la recollecion de datos?\n",
    "\n",
    "Es la forma de recoleccion de informacion que permite obtener conocimiento de primera mano e ideas originales sobre el problema de investigacion.\n",
    "\n",
    "### Tipos de recoleccion de datos\n",
    "\n",
    "#### Primaria\n",
    "\n",
    "Datos colectados de **primera mano** a traves de encuestas, entrevistas, experimentos y otros. Puedes decidir que recolectas y que quiere medir. Tienes total control de los datos.\n",
    "\n",
    "\n",
    "#### Secundaria\n",
    "\n",
    "Datos previamente recolectados por **una fuente primaria externa al usuario primario**. Son datos abiertos que puedes utilizar. No tienes control sobre lo que se mide o sobre el objetivo del estudio\n",
    "\n",
    "Por ejemplo, datos de departamentos de gobienro o empresas similares a la del usuario primario.\n",
    "\n",
    "#### Terciaria\n",
    "\n",
    "Datos que se adquieren de **fuentes completamente externas al usuario primario**. Son datos accesibles a todo el mundo por lo que pierde su valor y tienden a ser datos genericos\n",
    "\n",
    "Por ejemplo, a traves de proveedores de datos.\n",
    "\n",
    "### Que es la validacion de datos?\n",
    "\n",
    "Es el proceso de asegura la consistencia y precision dentro de un conjunto de datos. Si los datos no son precisos desde el comienzo, los resultados no seran precisos.\n",
    "\n",
    "#### Que se debe validar para asegurar consistencia?\n",
    "\n",
    "- **Modelos de datos:**\n",
    "\n",
    "si un tercero recolecto los datos, **verifica que preguntas queria responder con los datos**. Si eres quien recolecta los datos, **hazte muchas preguntas y considera si esos datos son suficientes para responderlas.**\n",
    "\n",
    "- **Seguimiento de formato estandar de archivos:**\n",
    "\n",
    "verifica que la extensión de los archivos que estas manejando correspondan con el formato interno que tienen. Asegurate que los numeros se expresen en el formato que estas trabajando.\n",
    "\n",
    "Un ejemplo puede ser los distintos formatos de fechas.\n",
    "\n",
    "- **Tipos de datos:**\n",
    "\n",
    "verifica que los datos sen del tipo que se indica en el dataset.\n",
    "\n",
    "Un ejemplo es que te estes leyendo una variable que deberia tener datos booleanos y te encuentres un 0.5 en alguna de sus casillas, lo mas probable es que algo haya ocurrido en el proceso de recoleccion de datos.\n",
    "\n",
    "- **Rango de variables:**\n",
    "\n",
    "Verifica que las variables estén dentro del rango establecido en la recoleccion de datos. En caso de encontrar variables fuera del rango preguntate: como llegaron esos datos aqui? tienen algun significado alterno? debo preservarlos o eliminarlos?\n",
    "\n",
    "Un ejemplo puede ser que tienes los datos de unos examenes que sus notas van desde el 1 al 10, pero te encuentras a un alumno que se saco un 12 y en otro caso uno que se saco un -7, en este caso se salieron del rango establecido.\n",
    "\n",
    "- **Unicidad:**\n",
    "\n",
    "Verifica que tan unicos son los datos. detecta si existe duplicidad en los datos y corrige.\n",
    "\n",
    "Un ejemplo es que encuentres 2 identificadores unicos por pinguino, lo cual no estaria bien de misma forma que una persona tenga dos documentos de identidad nacional con distintos numeros para el mismo pais.\n",
    "\n",
    "- **Consistenica de expresiones:**\n",
    "\n",
    "Se refiere a como la persona que recolecta los datos define sus variables. Formato de fecha, de hora, variables escritas de la misma forma en toda la tabla. No son datos erroneos, solo es cuestion de darle el formato adecuado.\n",
    "\n",
    "- **Valores nulos:**\n",
    "\n",
    "Pueden estar explicitos o implicitos en el dataset. Son datos faltantes. Porque esta vacio? puedo rellenarlo con otro dato? esta vacio por un proceso aleatorio o tiene un sentido?"
   ]
  },
  {
   "cell_type": "markdown",
   "metadata": {},
   "source": [
    "## Ejercicio de validación de datos"
   ]
  },
  {
   "cell_type": "markdown",
   "metadata": {},
   "source": [
    "### Que tipo de datos son las variables del conjunto de datos?"
   ]
  },
  {
   "cell_type": "code",
   "execution_count": 10,
   "metadata": {},
   "outputs": [
    {
     "data": {
      "text/plain": [
       "species               object\n",
       "island                object\n",
       "bill_length_mm       float64\n",
       "bill_depth_mm        float64\n",
       "flipper_length_mm    float64\n",
       "body_mass_g          float64\n",
       "sex                   object\n",
       "year                   int64\n",
       "dtype: object"
      ]
     },
     "execution_count": 10,
     "metadata": {},
     "output_type": "execute_result"
    }
   ],
   "source": [
    "preprocess_penguins_df.dtypes"
   ]
  },
  {
   "cell_type": "markdown",
   "metadata": {},
   "source": [
    "### Cuantas variables de cada tipo de dato tenemos en el conjunto de datos?"
   ]
  },
  {
   "cell_type": "code",
   "execution_count": 11,
   "metadata": {},
   "outputs": [
    {
     "data": {
      "text/plain": [
       "float64    4\n",
       "object     3\n",
       "int64      1\n",
       "dtype: int64"
      ]
     },
     "execution_count": 11,
     "metadata": {},
     "output_type": "execute_result"
    }
   ],
   "source": [
    "(\n",
    "    preprocess_penguins_df\n",
    "    .dtypes\n",
    "    .value_counts()\n",
    ")"
   ]
  },
  {
   "cell_type": "markdown",
   "metadata": {},
   "source": [
    "### Cuantas observaciones y varibles tenemos en el conjunto de datos?"
   ]
  },
  {
   "cell_type": "code",
   "execution_count": 12,
   "metadata": {},
   "outputs": [
    {
     "data": {
      "text/plain": [
       "(344, 8)"
      ]
     },
     "execution_count": 12,
     "metadata": {},
     "output_type": "execute_result"
    }
   ],
   "source": [
    "preprocess_penguins_df.shape"
   ]
  },
  {
   "cell_type": "markdown",
   "metadata": {},
   "source": [
    "###  Existen valores nulos explicitos en el conjunto de datos?"
   ]
  },
  {
   "cell_type": "code",
   "execution_count": 13,
   "metadata": {},
   "outputs": [
    {
     "data": {
      "text/plain": [
       "species              False\n",
       "island               False\n",
       "bill_length_mm        True\n",
       "bill_depth_mm         True\n",
       "flipper_length_mm     True\n",
       "body_mass_g           True\n",
       "sex                   True\n",
       "year                 False\n",
       "dtype: bool"
      ]
     },
     "execution_count": 13,
     "metadata": {},
     "output_type": "execute_result"
    }
   ],
   "source": [
    "preprocess_penguins_df.isnull().any()"
   ]
  },
  {
   "cell_type": "markdown",
   "metadata": {},
   "source": [
    "### De tener observaciones con valores nulos, ?cuantas tenemos por cada variable?"
   ]
  },
  {
   "cell_type": "code",
   "execution_count": 14,
   "metadata": {},
   "outputs": [
    {
     "data": {
      "text/plain": [
       "species               0\n",
       "island                0\n",
       "bill_length_mm        2\n",
       "bill_depth_mm         2\n",
       "flipper_length_mm     2\n",
       "body_mass_g           2\n",
       "sex                  11\n",
       "year                  0\n",
       "dtype: int64"
      ]
     },
     "execution_count": 14,
     "metadata": {},
     "output_type": "execute_result"
    }
   ],
   "source": [
    "(\n",
    "    preprocess_penguins_df\n",
    "    .isnull()\n",
    "    .sum()\n",
    ")\n"
   ]
  },
  {
   "cell_type": "markdown",
   "metadata": {},
   "source": [
    "### Cuantos valores nulos tenemos en el total en el conjunto de datos?"
   ]
  },
  {
   "cell_type": "code",
   "execution_count": 15,
   "metadata": {},
   "outputs": [
    {
     "data": {
      "text/plain": [
       "19"
      ]
     },
     "execution_count": 15,
     "metadata": {},
     "output_type": "execute_result"
    }
   ],
   "source": [
    "(\n",
    "    preprocess_penguins_df\n",
    "    .isnull()\n",
    "    .sum()\n",
    "    .sum()\n",
    ")\n"
   ]
  },
  {
   "cell_type": "markdown",
   "metadata": {},
   "source": [
    "### Cual es la proporcion de valores nulos pro cada variable?"
   ]
  },
  {
   "cell_type": "code",
   "execution_count": 16,
   "metadata": {},
   "outputs": [
    {
     "data": {
      "text/plain": [
       "<seaborn.axisgrid.FacetGrid at 0x7f5f4dabb7f0>"
      ]
     },
     "execution_count": 16,
     "metadata": {},
     "output_type": "execute_result"
    },
    {
     "data": {
      "image/png": "[encoded data removed]",
      "text/plain": [
       "<Figure size 1147.47x360 with 1 Axes>"
      ]
     },
     "metadata": {},
     "output_type": "display_data"
    }
   ],
   "source": [
    "(\n",
    "    preprocess_penguins_df\n",
    "    .isnull()\n",
    "    .melt()\n",
    "    .pipe(\n",
    "        lambda df: (\n",
    "            sns.displot(\n",
    "                data=df,\n",
    "                y='variable',\n",
    "                hue='value',\n",
    "                multiple='fill',\n",
    "                aspect=3\n",
    "            )\n",
    "        )\n",
    "    )\n",
    ")"
   ]
  },
  {
   "cell_type": "markdown",
   "metadata": {},
   "source": [
    "### Como podemos visualizar los valores nulos en todo el conjunto de datos?"
   ]
  },
  {
   "cell_type": "code",
   "execution_count": 17,
   "metadata": {},
   "outputs": [
    {
     "data": {
      "text/plain": [
       "<AxesSubplot:>"
      ]
     },
     "execution_count": 17,
     "metadata": {},
     "output_type": "execute_result"
    },
    {
     "data": {
      "image/png": "[encoded data removed]",
      "text/plain": [
       "<Figure size 792x676.8 with 2 Axes>"
      ]
     },
     "metadata": {},
     "output_type": "display_data"
    }
   ],
   "source": [
    "(\n",
    "    preprocess_penguins_df\n",
    "    .isnull()\n",
    "    .transpose()\n",
    "    .pipe(\n",
    "        lambda df: (\n",
    "            sns.heatmap(\n",
    "                data=df,\n",
    "            )\n",
    "        )\n",
    "\n",
    "    )\n",
    ")"
   ]
  },
  {
   "cell_type": "markdown",
   "metadata": {},
   "source": [
    "En este caso podemos eliminar los valores nulos ya que no representan para este practico una gran cantidad de datos por lo que puede no afectarnos, en otro tipo de analisis sera importante evaluar si eliminar o no eliminar ya que puede afectarnos "
   ]
  },
  {
   "cell_type": "markdown",
   "metadata": {},
   "source": [
    "### Cuantas observaciones perdemos si eliminamos los datos faltantes?\n",
    "\n",
    "Veremos a comparacion de antes que tendremos menos filas, por lo que guardaremos el nuevo dataset que ya se eliminaron sus datos nulos"
   ]
  },
  {
   "cell_type": "code",
   "execution_count": 18,
   "metadata": {},
   "outputs": [
    {
     "data": {
      "text/plain": [
       "((344, 8), (333, 8))"
      ]
     },
     "execution_count": 18,
     "metadata": {},
     "output_type": "execute_result"
    }
   ],
   "source": [
    "(\n",
    "    preprocess_penguins_df.shape,\n",
    "    preprocess_penguins_df.dropna().shape\n",
    ")"
   ]
  },
  {
   "cell_type": "code",
   "execution_count": 19,
   "metadata": {},
   "outputs": [
    {
     "data": {
      "text/html": [
       "<div>\n",
       "<style scoped>\n",
       "    .dataframe tbody tr th:only-of-type {\n",
       "        vertical-align: middle;\n",
       "    }\n",
       "\n",
       "    .dataframe tbody tr th {\n",
       "        vertical-align: top;\n",
       "    }\n",
       "\n",
       "    .dataframe thead th {\n",
       "        text-align: right;\n",
       "    }\n",
       "</style>\n",
       "<table border=\"1\" class=\"dataframe\">\n",
       "  <thead>\n",
       "    <tr style=\"text-align: right;\">\n",
       "      <th></th>\n",
       "      <th>species</th>\n",
       "      <th>island</th>\n",
       "      <th>bill_length_mm</th>\n",
       "      <th>bill_depth_mm</th>\n",
       "      <th>flipper_length_mm</th>\n",
       "      <th>body_mass_g</th>\n",
       "      <th>sex</th>\n",
       "      <th>year</th>\n",
       "    </tr>\n",
       "  </thead>\n",
       "  <tbody>\n",
       "    <tr>\n",
       "      <th>0</th>\n",
       "      <td>Adelie</td>\n",
       "      <td>Torgersen</td>\n",
       "      <td>39.1</td>\n",
       "      <td>18.7</td>\n",
       "      <td>181.0</td>\n",
       "      <td>3750.0</td>\n",
       "      <td>male</td>\n",
       "      <td>2007</td>\n",
       "    </tr>\n",
       "    <tr>\n",
       "      <th>1</th>\n",
       "      <td>Adelie</td>\n",
       "      <td>Torgersen</td>\n",
       "      <td>39.5</td>\n",
       "      <td>17.4</td>\n",
       "      <td>186.0</td>\n",
       "      <td>3800.0</td>\n",
       "      <td>female</td>\n",
       "      <td>2007</td>\n",
       "    </tr>\n",
       "    <tr>\n",
       "      <th>2</th>\n",
       "      <td>Adelie</td>\n",
       "      <td>Torgersen</td>\n",
       "      <td>40.3</td>\n",
       "      <td>18.0</td>\n",
       "      <td>195.0</td>\n",
       "      <td>3250.0</td>\n",
       "      <td>female</td>\n",
       "      <td>2007</td>\n",
       "    </tr>\n",
       "    <tr>\n",
       "      <th>4</th>\n",
       "      <td>Adelie</td>\n",
       "      <td>Torgersen</td>\n",
       "      <td>36.7</td>\n",
       "      <td>19.3</td>\n",
       "      <td>193.0</td>\n",
       "      <td>3450.0</td>\n",
       "      <td>female</td>\n",
       "      <td>2007</td>\n",
       "    </tr>\n",
       "    <tr>\n",
       "      <th>5</th>\n",
       "      <td>Adelie</td>\n",
       "      <td>Torgersen</td>\n",
       "      <td>39.3</td>\n",
       "      <td>20.6</td>\n",
       "      <td>190.0</td>\n",
       "      <td>3650.0</td>\n",
       "      <td>male</td>\n",
       "      <td>2007</td>\n",
       "    </tr>\n",
       "    <tr>\n",
       "      <th>...</th>\n",
       "      <td>...</td>\n",
       "      <td>...</td>\n",
       "      <td>...</td>\n",
       "      <td>...</td>\n",
       "      <td>...</td>\n",
       "      <td>...</td>\n",
       "      <td>...</td>\n",
       "      <td>...</td>\n",
       "    </tr>\n",
       "    <tr>\n",
       "      <th>339</th>\n",
       "      <td>Chinstrap</td>\n",
       "      <td>Dream</td>\n",
       "      <td>55.8</td>\n",
       "      <td>19.8</td>\n",
       "      <td>207.0</td>\n",
       "      <td>4000.0</td>\n",
       "      <td>male</td>\n",
       "      <td>2009</td>\n",
       "    </tr>\n",
       "    <tr>\n",
       "      <th>340</th>\n",
       "      <td>Chinstrap</td>\n",
       "      <td>Dream</td>\n",
       "      <td>43.5</td>\n",
       "      <td>18.1</td>\n",
       "      <td>202.0</td>\n",
       "      <td>3400.0</td>\n",
       "      <td>female</td>\n",
       "      <td>2009</td>\n",
       "    </tr>\n",
       "    <tr>\n",
       "      <th>341</th>\n",
       "      <td>Chinstrap</td>\n",
       "      <td>Dream</td>\n",
       "      <td>49.6</td>\n",
       "      <td>18.2</td>\n",
       "      <td>193.0</td>\n",
       "      <td>3775.0</td>\n",
       "      <td>male</td>\n",
       "      <td>2009</td>\n",
       "    </tr>\n",
       "    <tr>\n",
       "      <th>342</th>\n",
       "      <td>Chinstrap</td>\n",
       "      <td>Dream</td>\n",
       "      <td>50.8</td>\n",
       "      <td>19.0</td>\n",
       "      <td>210.0</td>\n",
       "      <td>4100.0</td>\n",
       "      <td>male</td>\n",
       "      <td>2009</td>\n",
       "    </tr>\n",
       "    <tr>\n",
       "      <th>343</th>\n",
       "      <td>Chinstrap</td>\n",
       "      <td>Dream</td>\n",
       "      <td>50.2</td>\n",
       "      <td>18.7</td>\n",
       "      <td>198.0</td>\n",
       "      <td>3775.0</td>\n",
       "      <td>female</td>\n",
       "      <td>2009</td>\n",
       "    </tr>\n",
       "  </tbody>\n",
       "</table>\n",
       "<p>333 rows × 8 columns</p>\n",
       "</div>"
      ],
      "text/plain": [
       "       species     island  bill_length_mm  bill_depth_mm  flipper_length_mm  \\\n",
       "0       Adelie  Torgersen            39.1           18.7              181.0   \n",
       "1       Adelie  Torgersen            39.5           17.4              186.0   \n",
       "2       Adelie  Torgersen            40.3           18.0              195.0   \n",
       "4       Adelie  Torgersen            36.7           19.3              193.0   \n",
       "5       Adelie  Torgersen            39.3           20.6              190.0   \n",
       "..         ...        ...             ...            ...                ...   \n",
       "339  Chinstrap      Dream            55.8           19.8              207.0   \n",
       "340  Chinstrap      Dream            43.5           18.1              202.0   \n",
       "341  Chinstrap      Dream            49.6           18.2              193.0   \n",
       "342  Chinstrap      Dream            50.8           19.0              210.0   \n",
       "343  Chinstrap      Dream            50.2           18.7              198.0   \n",
       "\n",
       "     body_mass_g     sex  year  \n",
       "0         3750.0    male  2007  \n",
       "1         3800.0  female  2007  \n",
       "2         3250.0  female  2007  \n",
       "4         3450.0  female  2007  \n",
       "5         3650.0    male  2007  \n",
       "..           ...     ...   ...  \n",
       "339       4000.0    male  2009  \n",
       "340       3400.0  female  2009  \n",
       "341       3775.0    male  2009  \n",
       "342       4100.0    male  2009  \n",
       "343       3775.0  female  2009  \n",
       "\n",
       "[333 rows x 8 columns]"
      ]
     },
     "execution_count": 19,
     "metadata": {},
     "output_type": "execute_result"
    }
   ],
   "source": [
    "penguins_df = (\n",
    "    preprocess_penguins_df\n",
    "    .dropna()\n",
    ")\n",
    "\n",
    "penguins_df"
   ]
  },
  {
   "cell_type": "markdown",
   "metadata": {},
   "source": [
    "# Tema 2: Análisis univariado\n"
   ]
  },
  {
   "cell_type": "markdown",
   "metadata": {},
   "source": [
    "## Explorando una variable categórica: conteos y proporciones\n",
    "\n",
    "\n",
    "### Tabulacion\n",
    "\n",
    "Contabiliza la frecuencia de aparicion de cada valor unico de una variable.\n",
    "\n",
    "En el caso de nuestras especies tenemos 3 especies unicas, los Adelie, Gentoo y Chinstrap, de esta\n",
    "\n",
    "### Proporciones\n",
    "\n",
    "Relacion de correspondencia entre las partes y el todo.\n",
    "\n",
    "Como ya mencionamos tenemos 333 pinguinos de los datos ya procesados, donde se dividen en 3 especies, los Adelie que son 146, Gentoo 119 y los Chinstrap 68, lo cual corresponden a una proporcion de $\\frac{146}{333}$, $\\frac{119}{333}$ y $\\frac{68}{333}$\n",
    "\n",
    "Ahora pasemos a la practica"
   ]
  },
  {
   "cell_type": "markdown",
   "metadata": {},
   "source": [
    "### Preludio: Que estadisticos describen el conjunto de datos?\n",
    "\n"
   ]
  },
  {
   "cell_type": "markdown",
   "metadata": {},
   "source": [
    "#### Todas las variables"
   ]
  },
  {
   "cell_type": "code",
   "execution_count": 20,
   "metadata": {},
   "outputs": [
    {
     "data": {
      "text/html": [
       "<div>\n",
       "<style scoped>\n",
       "    .dataframe tbody tr th:only-of-type {\n",
       "        vertical-align: middle;\n",
       "    }\n",
       "\n",
       "    .dataframe tbody tr th {\n",
       "        vertical-align: top;\n",
       "    }\n",
       "\n",
       "    .dataframe thead th {\n",
       "        text-align: right;\n",
       "    }\n",
       "</style>\n",
       "<table border=\"1\" class=\"dataframe\">\n",
       "  <thead>\n",
       "    <tr style=\"text-align: right;\">\n",
       "      <th></th>\n",
       "      <th>species</th>\n",
       "      <th>island</th>\n",
       "      <th>bill_length_mm</th>\n",
       "      <th>bill_depth_mm</th>\n",
       "      <th>flipper_length_mm</th>\n",
       "      <th>body_mass_g</th>\n",
       "      <th>sex</th>\n",
       "      <th>year</th>\n",
       "    </tr>\n",
       "  </thead>\n",
       "  <tbody>\n",
       "    <tr>\n",
       "      <th>count</th>\n",
       "      <td>333</td>\n",
       "      <td>333</td>\n",
       "      <td>333.000000</td>\n",
       "      <td>333.000000</td>\n",
       "      <td>333.000000</td>\n",
       "      <td>333.000000</td>\n",
       "      <td>333</td>\n",
       "      <td>333.000000</td>\n",
       "    </tr>\n",
       "    <tr>\n",
       "      <th>unique</th>\n",
       "      <td>3</td>\n",
       "      <td>3</td>\n",
       "      <td>NaN</td>\n",
       "      <td>NaN</td>\n",
       "      <td>NaN</td>\n",
       "      <td>NaN</td>\n",
       "      <td>2</td>\n",
       "      <td>NaN</td>\n",
       "    </tr>\n",
       "    <tr>\n",
       "      <th>top</th>\n",
       "      <td>Adelie</td>\n",
       "      <td>Biscoe</td>\n",
       "      <td>NaN</td>\n",
       "      <td>NaN</td>\n",
       "      <td>NaN</td>\n",
       "      <td>NaN</td>\n",
       "      <td>male</td>\n",
       "      <td>NaN</td>\n",
       "    </tr>\n",
       "    <tr>\n",
       "      <th>freq</th>\n",
       "      <td>146</td>\n",
       "      <td>163</td>\n",
       "      <td>NaN</td>\n",
       "      <td>NaN</td>\n",
       "      <td>NaN</td>\n",
       "      <td>NaN</td>\n",
       "      <td>168</td>\n",
       "      <td>NaN</td>\n",
       "    </tr>\n",
       "    <tr>\n",
       "      <th>mean</th>\n",
       "      <td>NaN</td>\n",
       "      <td>NaN</td>\n",
       "      <td>43.992793</td>\n",
       "      <td>17.164865</td>\n",
       "      <td>200.966967</td>\n",
       "      <td>4207.057057</td>\n",
       "      <td>NaN</td>\n",
       "      <td>2008.042042</td>\n",
       "    </tr>\n",
       "    <tr>\n",
       "      <th>std</th>\n",
       "      <td>NaN</td>\n",
       "      <td>NaN</td>\n",
       "      <td>5.468668</td>\n",
       "      <td>1.969235</td>\n",
       "      <td>14.015765</td>\n",
       "      <td>805.215802</td>\n",
       "      <td>NaN</td>\n",
       "      <td>0.812944</td>\n",
       "    </tr>\n",
       "    <tr>\n",
       "      <th>min</th>\n",
       "      <td>NaN</td>\n",
       "      <td>NaN</td>\n",
       "      <td>32.100000</td>\n",
       "      <td>13.100000</td>\n",
       "      <td>172.000000</td>\n",
       "      <td>2700.000000</td>\n",
       "      <td>NaN</td>\n",
       "      <td>2007.000000</td>\n",
       "    </tr>\n",
       "    <tr>\n",
       "      <th>25%</th>\n",
       "      <td>NaN</td>\n",
       "      <td>NaN</td>\n",
       "      <td>39.500000</td>\n",
       "      <td>15.600000</td>\n",
       "      <td>190.000000</td>\n",
       "      <td>3550.000000</td>\n",
       "      <td>NaN</td>\n",
       "      <td>2007.000000</td>\n",
       "    </tr>\n",
       "    <tr>\n",
       "      <th>50%</th>\n",
       "      <td>NaN</td>\n",
       "      <td>NaN</td>\n",
       "      <td>44.500000</td>\n",
       "      <td>17.300000</td>\n",
       "      <td>197.000000</td>\n",
       "      <td>4050.000000</td>\n",
       "      <td>NaN</td>\n",
       "      <td>2008.000000</td>\n",
       "    </tr>\n",
       "    <tr>\n",
       "      <th>75%</th>\n",
       "      <td>NaN</td>\n",
       "      <td>NaN</td>\n",
       "      <td>48.600000</td>\n",
       "      <td>18.700000</td>\n",
       "      <td>213.000000</td>\n",
       "      <td>4775.000000</td>\n",
       "      <td>NaN</td>\n",
       "      <td>2009.000000</td>\n",
       "    </tr>\n",
       "    <tr>\n",
       "      <th>max</th>\n",
       "      <td>NaN</td>\n",
       "      <td>NaN</td>\n",
       "      <td>59.600000</td>\n",
       "      <td>21.500000</td>\n",
       "      <td>231.000000</td>\n",
       "      <td>6300.000000</td>\n",
       "      <td>NaN</td>\n",
       "      <td>2009.000000</td>\n",
       "    </tr>\n",
       "  </tbody>\n",
       "</table>\n",
       "</div>"
      ],
      "text/plain": [
       "       species  island  bill_length_mm  bill_depth_mm  flipper_length_mm  \\\n",
       "count      333     333      333.000000     333.000000         333.000000   \n",
       "unique       3       3             NaN            NaN                NaN   \n",
       "top     Adelie  Biscoe             NaN            NaN                NaN   \n",
       "freq       146     163             NaN            NaN                NaN   \n",
       "mean       NaN     NaN       43.992793      17.164865         200.966967   \n",
       "std        NaN     NaN        5.468668       1.969235          14.015765   \n",
       "min        NaN     NaN       32.100000      13.100000         172.000000   \n",
       "25%        NaN     NaN       39.500000      15.600000         190.000000   \n",
       "50%        NaN     NaN       44.500000      17.300000         197.000000   \n",
       "75%        NaN     NaN       48.600000      18.700000         213.000000   \n",
       "max        NaN     NaN       59.600000      21.500000         231.000000   \n",
       "\n",
       "        body_mass_g   sex         year  \n",
       "count    333.000000   333   333.000000  \n",
       "unique          NaN     2          NaN  \n",
       "top             NaN  male          NaN  \n",
       "freq            NaN   168          NaN  \n",
       "mean    4207.057057   NaN  2008.042042  \n",
       "std      805.215802   NaN     0.812944  \n",
       "min     2700.000000   NaN  2007.000000  \n",
       "25%     3550.000000   NaN  2007.000000  \n",
       "50%     4050.000000   NaN  2008.000000  \n",
       "75%     4775.000000   NaN  2009.000000  \n",
       "max     6300.000000   NaN  2009.000000  "
      ]
     },
     "execution_count": 20,
     "metadata": {},
     "output_type": "execute_result"
    }
   ],
   "source": [
    "penguins_df.describe(include='all')"
   ]
  },
  {
   "cell_type": "markdown",
   "metadata": {},
   "source": [
    "#### Solo las numericas\n"
   ]
  },
  {
   "cell_type": "code",
   "execution_count": 21,
   "metadata": {},
   "outputs": [
    {
     "data": {
      "text/html": [
       "<div>\n",
       "<style scoped>\n",
       "    .dataframe tbody tr th:only-of-type {\n",
       "        vertical-align: middle;\n",
       "    }\n",
       "\n",
       "    .dataframe tbody tr th {\n",
       "        vertical-align: top;\n",
       "    }\n",
       "\n",
       "    .dataframe thead th {\n",
       "        text-align: right;\n",
       "    }\n",
       "</style>\n",
       "<table border=\"1\" class=\"dataframe\">\n",
       "  <thead>\n",
       "    <tr style=\"text-align: right;\">\n",
       "      <th></th>\n",
       "      <th>bill_length_mm</th>\n",
       "      <th>bill_depth_mm</th>\n",
       "      <th>flipper_length_mm</th>\n",
       "      <th>body_mass_g</th>\n",
       "      <th>year</th>\n",
       "    </tr>\n",
       "  </thead>\n",
       "  <tbody>\n",
       "    <tr>\n",
       "      <th>count</th>\n",
       "      <td>333.000000</td>\n",
       "      <td>333.000000</td>\n",
       "      <td>333.000000</td>\n",
       "      <td>333.000000</td>\n",
       "      <td>333.000000</td>\n",
       "    </tr>\n",
       "    <tr>\n",
       "      <th>mean</th>\n",
       "      <td>43.992793</td>\n",
       "      <td>17.164865</td>\n",
       "      <td>200.966967</td>\n",
       "      <td>4207.057057</td>\n",
       "      <td>2008.042042</td>\n",
       "    </tr>\n",
       "    <tr>\n",
       "      <th>std</th>\n",
       "      <td>5.468668</td>\n",
       "      <td>1.969235</td>\n",
       "      <td>14.015765</td>\n",
       "      <td>805.215802</td>\n",
       "      <td>0.812944</td>\n",
       "    </tr>\n",
       "    <tr>\n",
       "      <th>min</th>\n",
       "      <td>32.100000</td>\n",
       "      <td>13.100000</td>\n",
       "      <td>172.000000</td>\n",
       "      <td>2700.000000</td>\n",
       "      <td>2007.000000</td>\n",
       "    </tr>\n",
       "    <tr>\n",
       "      <th>25%</th>\n",
       "      <td>39.500000</td>\n",
       "      <td>15.600000</td>\n",
       "      <td>190.000000</td>\n",
       "      <td>3550.000000</td>\n",
       "      <td>2007.000000</td>\n",
       "    </tr>\n",
       "    <tr>\n",
       "      <th>50%</th>\n",
       "      <td>44.500000</td>\n",
       "      <td>17.300000</td>\n",
       "      <td>197.000000</td>\n",
       "      <td>4050.000000</td>\n",
       "      <td>2008.000000</td>\n",
       "    </tr>\n",
       "    <tr>\n",
       "      <th>75%</th>\n",
       "      <td>48.600000</td>\n",
       "      <td>18.700000</td>\n",
       "      <td>213.000000</td>\n",
       "      <td>4775.000000</td>\n",
       "      <td>2009.000000</td>\n",
       "    </tr>\n",
       "    <tr>\n",
       "      <th>max</th>\n",
       "      <td>59.600000</td>\n",
       "      <td>21.500000</td>\n",
       "      <td>231.000000</td>\n",
       "      <td>6300.000000</td>\n",
       "      <td>2009.000000</td>\n",
       "    </tr>\n",
       "  </tbody>\n",
       "</table>\n",
       "</div>"
      ],
      "text/plain": [
       "       bill_length_mm  bill_depth_mm  flipper_length_mm  body_mass_g  \\\n",
       "count      333.000000     333.000000         333.000000   333.000000   \n",
       "mean        43.992793      17.164865         200.966967  4207.057057   \n",
       "std          5.468668       1.969235          14.015765   805.215802   \n",
       "min         32.100000      13.100000         172.000000  2700.000000   \n",
       "25%         39.500000      15.600000         190.000000  3550.000000   \n",
       "50%         44.500000      17.300000         197.000000  4050.000000   \n",
       "75%         48.600000      18.700000         213.000000  4775.000000   \n",
       "max         59.600000      21.500000         231.000000  6300.000000   \n",
       "\n",
       "              year  \n",
       "count   333.000000  \n",
       "mean   2008.042042  \n",
       "std       0.812944  \n",
       "min    2007.000000  \n",
       "25%    2007.000000  \n",
       "50%    2008.000000  \n",
       "75%    2009.000000  \n",
       "max    2009.000000  "
      ]
     },
     "execution_count": 21,
     "metadata": {},
     "output_type": "execute_result"
    }
   ],
   "source": [
    "penguins_df.describe(include=np.number)"
   ]
  },
  {
   "cell_type": "markdown",
   "metadata": {},
   "source": [
    "#### Solo categorias: Tipos de datos object\n"
   ]
  },
  {
   "cell_type": "code",
   "execution_count": 22,
   "metadata": {},
   "outputs": [
    {
     "data": {
      "text/html": [
       "<div>\n",
       "<style scoped>\n",
       "    .dataframe tbody tr th:only-of-type {\n",
       "        vertical-align: middle;\n",
       "    }\n",
       "\n",
       "    .dataframe tbody tr th {\n",
       "        vertical-align: top;\n",
       "    }\n",
       "\n",
       "    .dataframe thead th {\n",
       "        text-align: right;\n",
       "    }\n",
       "</style>\n",
       "<table border=\"1\" class=\"dataframe\">\n",
       "  <thead>\n",
       "    <tr style=\"text-align: right;\">\n",
       "      <th></th>\n",
       "      <th>species</th>\n",
       "      <th>island</th>\n",
       "      <th>sex</th>\n",
       "    </tr>\n",
       "  </thead>\n",
       "  <tbody>\n",
       "    <tr>\n",
       "      <th>count</th>\n",
       "      <td>333</td>\n",
       "      <td>333</td>\n",
       "      <td>333</td>\n",
       "    </tr>\n",
       "    <tr>\n",
       "      <th>unique</th>\n",
       "      <td>3</td>\n",
       "      <td>3</td>\n",
       "      <td>2</td>\n",
       "    </tr>\n",
       "    <tr>\n",
       "      <th>top</th>\n",
       "      <td>Adelie</td>\n",
       "      <td>Biscoe</td>\n",
       "      <td>male</td>\n",
       "    </tr>\n",
       "    <tr>\n",
       "      <th>freq</th>\n",
       "      <td>146</td>\n",
       "      <td>163</td>\n",
       "      <td>168</td>\n",
       "    </tr>\n",
       "  </tbody>\n",
       "</table>\n",
       "</div>"
      ],
      "text/plain": [
       "       species  island   sex\n",
       "count      333     333   333\n",
       "unique       3       3     2\n",
       "top     Adelie  Biscoe  male\n",
       "freq       146     163   168"
      ]
     },
     "execution_count": 22,
     "metadata": {},
     "output_type": "execute_result"
    }
   ],
   "source": [
    "penguins_df.describe(include=object)\n"
   ]
  },
  {
   "cell_type": "markdown",
   "metadata": {},
   "source": [
    "#### Solo categorias: Configurar tipo de dato category\n"
   ]
  },
  {
   "cell_type": "code",
   "execution_count": 23,
   "metadata": {},
   "outputs": [
    {
     "data": {
      "text/plain": [
       "species              category\n",
       "island               category\n",
       "bill_length_mm        float64\n",
       "bill_depth_mm         float64\n",
       "flipper_length_mm     float64\n",
       "body_mass_g           float64\n",
       "sex                  category\n",
       "year                    int64\n",
       "dtype: object"
      ]
     },
     "execution_count": 23,
     "metadata": {},
     "output_type": "execute_result"
    }
   ],
   "source": [
    "(\n",
    "    penguins_df\n",
    "    .astype(\n",
    "        {\n",
    "        'species': 'category',\n",
    "        'island': 'category',\n",
    "        'sex': 'category'\n",
    "        }\n",
    "    )\n",
    "    .dtypes\n",
    ")\n",
    "# No guardamos los datos!, En caso de que quieras guardarlos deberas sobreescribir los datos"
   ]
  },
  {
   "cell_type": "code",
   "execution_count": 24,
   "metadata": {},
   "outputs": [
    {
     "data": {
      "text/plain": [
       "species               object\n",
       "island                object\n",
       "bill_length_mm       float64\n",
       "bill_depth_mm        float64\n",
       "flipper_length_mm    float64\n",
       "body_mass_g          float64\n",
       "sex                   object\n",
       "year                   int64\n",
       "dtype: object"
      ]
     },
     "execution_count": 24,
     "metadata": {},
     "output_type": "execute_result"
    }
   ],
   "source": [
    "penguins_df.dtypes"
   ]
  },
  {
   "cell_type": "markdown",
   "metadata": {},
   "source": [
    "### Visualizar los conteos\n"
   ]
  },
  {
   "cell_type": "markdown",
   "metadata": {},
   "source": [
    "#### Pandas\n"
   ]
  },
  {
   "cell_type": "code",
   "execution_count": 25,
   "metadata": {},
   "outputs": [
    {
     "data": {
      "text/plain": [
       "<AxesSubplot:>"
      ]
     },
     "execution_count": 25,
     "metadata": {},
     "output_type": "execute_result"
    },
    {
     "data": {
      "image/png": "[encoded data removed]",
      "text/plain": [
       "<Figure size 792x676.8 with 1 Axes>"
      ]
     },
     "metadata": {},
     "output_type": "display_data"
    }
   ],
   "source": [
    "(\n",
    "    penguins_df\n",
    "    .species\n",
    "    .value_counts()\n",
    "    .plot(\n",
    "        kind='bar'\n",
    "    )\n",
    ")"
   ]
  },
  {
   "cell_type": "markdown",
   "metadata": {},
   "source": [
    "#### Seaborn"
   ]
  },
  {
   "cell_type": "code",
   "execution_count": 26,
   "metadata": {},
   "outputs": [
    {
     "data": {
      "text/plain": [
       "<seaborn.axisgrid.FacetGrid at 0x7f5f4cf08e20>"
      ]
     },
     "execution_count": 26,
     "metadata": {},
     "output_type": "execute_result"
    },
    {
     "data": {
      "image/png": "[encoded data removed]",
      "text/plain": [
       "<Figure size 360x360 with 1 Axes>"
      ]
     },
     "metadata": {},
     "output_type": "display_data"
    }
   ],
   "source": [
    "sns.catplot(\n",
    "    data=penguins_df, \n",
    "    x='species', \n",
    "    kind='count',\n",
    "    palette=penguin_color,\n",
    "    )"
   ]
  },
  {
   "cell_type": "code",
   "execution_count": 27,
   "metadata": {},
   "outputs": [
    {
     "data": {
      "text/plain": [
       "<AxesSubplot:xlabel='species', ylabel='count'>"
      ]
     },
     "execution_count": 27,
     "metadata": {},
     "output_type": "execute_result"
    },
    {
     "data": {
      "image/png": "[encoded data removed]",
      "text/plain": [
       "<Figure size 792x676.8 with 1 Axes>"
      ]
     },
     "metadata": {},
     "output_type": "display_data"
    }
   ],
   "source": [
    "\n",
    "(\n",
    "    penguins_df\n",
    "    .value_counts('species',sort=True)\n",
    "    .reset_index(name='count')\n",
    "    .pipe(\n",
    "        lambda df: (\n",
    "            sns.barplot( \n",
    "                data=df,\n",
    "                x='species',\n",
    "                y='count',\n",
    "                palette=penguin_color,\n",
    "                alpha=0.5\n",
    "            )\n",
    "        )\n",
    "    )\n",
    ")"
   ]
  },
  {
   "cell_type": "markdown",
   "metadata": {},
   "source": [
    "#### Como visualziar las proporciones"
   ]
  },
  {
   "cell_type": "code",
   "execution_count": 28,
   "metadata": {},
   "outputs": [
    {
     "data": {
      "text/plain": [
       "<seaborn.axisgrid.FacetGrid at 0x7f5f4cf40a90>"
      ]
     },
     "execution_count": 28,
     "metadata": {},
     "output_type": "execute_result"
    },
    {
     "data": {
      "image/png": "[encoded data removed]",
      "text/plain": [
       "<Figure size 452.85x360 with 1 Axes>"
      ]
     },
     "metadata": {},
     "output_type": "display_data"
    }
   ],
   "source": [
    "(  \n",
    "    penguins_df\n",
    "    .add_column('x','')\n",
    "    .pipe(\n",
    "        lambda df: (\n",
    "            sns.displot(\n",
    "                data=df,\n",
    "                x='x',\n",
    "                hue='species',\n",
    "                multiple='fill',\n",
    "                palette=penguin_color,\n",
    "                stat='percent',\n",
    "                alpha=0.5\n",
    "            )\n",
    "        )\n",
    "    )\n",
    ")"
   ]
  },
  {
   "cell_type": "markdown",
   "metadata": {},
   "source": [
    "## [Estadística descriptiva aplicada: medidas de tendencia central](https://deepnote.com/publish/b8622ee2-5fb0-44f3-8791-96915665574e)\n",
    "\n",
    "### Medidas de tendencia central\n",
    "\n",
    "- Media arimetica (promedio)\n",
    "\n",
    "- Media ponderada\n",
    "\n",
    "- Media geométrica\n",
    "\n",
    "- Media armónica\n",
    "\n",
    "- Mediana (dato central)\n",
    "\n",
    "- Moda (dato que mas se repite)\n",
    "\n"
   ]
  },
  {
   "cell_type": "markdown",
   "metadata": {},
   "source": [
    "### [Media o promedio](https://pandas.pydata.org/pandas-docs/stable/reference/api/pandas.DataFrame.mean.html)"
   ]
  },
  {
   "cell_type": "code",
   "execution_count": 29,
   "metadata": {},
   "outputs": [
    {
     "data": {
      "text/plain": [
       "17.164864864864867"
      ]
     },
     "execution_count": 29,
     "metadata": {},
     "output_type": "execute_result"
    }
   ],
   "source": [
    "penguins_df.bill_depth_mm.mean()"
   ]
  },
  {
   "cell_type": "markdown",
   "metadata": {},
   "source": [
    "### [Mediana](https://pandas.pydata.org/pandas-docs/stable/reference/api/pandas.DataFrame.median.html)"
   ]
  },
  {
   "cell_type": "code",
   "execution_count": 30,
   "metadata": {},
   "outputs": [
    {
     "data": {
      "text/plain": [
       "bill_length_mm         44.5\n",
       "bill_depth_mm          17.3\n",
       "flipper_length_mm     197.0\n",
       "body_mass_g          4050.0\n",
       "year                 2008.0\n",
       "dtype: float64"
      ]
     },
     "execution_count": 30,
     "metadata": {},
     "output_type": "execute_result"
    }
   ],
   "source": [
    "penguins_df.median(numeric_only=True)"
   ]
  },
  {
   "cell_type": "markdown",
   "metadata": {},
   "source": [
    "### [Moda](https://pandas.pydata.org/pandas-docs/stable/reference/api/pandas.DataFrame.mode.html)"
   ]
  },
  {
   "cell_type": "code",
   "execution_count": 31,
   "metadata": {},
   "outputs": [
    {
     "data": {
      "text/html": [
       "<div>\n",
       "<style scoped>\n",
       "    .dataframe tbody tr th:only-of-type {\n",
       "        vertical-align: middle;\n",
       "    }\n",
       "\n",
       "    .dataframe tbody tr th {\n",
       "        vertical-align: top;\n",
       "    }\n",
       "\n",
       "    .dataframe thead th {\n",
       "        text-align: right;\n",
       "    }\n",
       "</style>\n",
       "<table border=\"1\" class=\"dataframe\">\n",
       "  <thead>\n",
       "    <tr style=\"text-align: right;\">\n",
       "      <th></th>\n",
       "      <th>species</th>\n",
       "      <th>island</th>\n",
       "      <th>bill_length_mm</th>\n",
       "      <th>bill_depth_mm</th>\n",
       "      <th>flipper_length_mm</th>\n",
       "      <th>body_mass_g</th>\n",
       "      <th>sex</th>\n",
       "      <th>year</th>\n",
       "    </tr>\n",
       "  </thead>\n",
       "  <tbody>\n",
       "    <tr>\n",
       "      <th>0</th>\n",
       "      <td>Adelie</td>\n",
       "      <td>Biscoe</td>\n",
       "      <td>41.1</td>\n",
       "      <td>17.0</td>\n",
       "      <td>190.0</td>\n",
       "      <td>3800.0</td>\n",
       "      <td>male</td>\n",
       "      <td>2009</td>\n",
       "    </tr>\n",
       "  </tbody>\n",
       "</table>\n",
       "</div>"
      ],
      "text/plain": [
       "  species  island  bill_length_mm  bill_depth_mm  flipper_length_mm  \\\n",
       "0  Adelie  Biscoe            41.1           17.0              190.0   \n",
       "\n",
       "   body_mass_g   sex  year  \n",
       "0       3800.0  male  2009  "
      ]
     },
     "execution_count": 31,
     "metadata": {},
     "output_type": "execute_result"
    }
   ],
   "source": [
    "penguins_df.mode()"
   ]
  },
  {
   "cell_type": "code",
   "execution_count": 32,
   "metadata": {},
   "outputs": [
    {
     "data": {
      "text/html": [
       "<div>\n",
       "<style scoped>\n",
       "    .dataframe tbody tr th:only-of-type {\n",
       "        vertical-align: middle;\n",
       "    }\n",
       "\n",
       "    .dataframe tbody tr th {\n",
       "        vertical-align: top;\n",
       "    }\n",
       "\n",
       "    .dataframe thead th {\n",
       "        text-align: right;\n",
       "    }\n",
       "</style>\n",
       "<table border=\"1\" class=\"dataframe\">\n",
       "  <thead>\n",
       "    <tr style=\"text-align: right;\">\n",
       "      <th></th>\n",
       "      <th>species</th>\n",
       "      <th>island</th>\n",
       "      <th>sex</th>\n",
       "    </tr>\n",
       "  </thead>\n",
       "  <tbody>\n",
       "    <tr>\n",
       "      <th>count</th>\n",
       "      <td>333</td>\n",
       "      <td>333</td>\n",
       "      <td>333</td>\n",
       "    </tr>\n",
       "    <tr>\n",
       "      <th>unique</th>\n",
       "      <td>3</td>\n",
       "      <td>3</td>\n",
       "      <td>2</td>\n",
       "    </tr>\n",
       "    <tr>\n",
       "      <th>top</th>\n",
       "      <td>Adelie</td>\n",
       "      <td>Biscoe</td>\n",
       "      <td>male</td>\n",
       "    </tr>\n",
       "    <tr>\n",
       "      <th>freq</th>\n",
       "      <td>146</td>\n",
       "      <td>163</td>\n",
       "      <td>168</td>\n",
       "    </tr>\n",
       "  </tbody>\n",
       "</table>\n",
       "</div>"
      ],
      "text/plain": [
       "       species  island   sex\n",
       "count      333     333   333\n",
       "unique       3       3     2\n",
       "top     Adelie  Biscoe  male\n",
       "freq       146     163   168"
      ]
     },
     "execution_count": 32,
     "metadata": {},
     "output_type": "execute_result"
    }
   ],
   "source": [
    "penguins_df.describe(include=object)"
   ]
  },
  {
   "cell_type": "markdown",
   "metadata": {},
   "source": [
    "## [Estadística descriptiva aplicada: medidas de dispersión](https://deepnote.com/@mazzaroli/Estadistica-Descriptiva-para-Ciencias-de-Datos-b8622ee2-5fb0-44f3-8791-96915665574e)\n",
    "\n",
    "### Medidas de dispercion\n",
    "\n",
    "- Rango\n",
    "\n",
    "La diferencia entre el valor maximo y el valor minimo de los datos.\n",
    "\n",
    "- Rango intercuartico\n",
    "\n",
    "Comprenden $\\pm 25\\%$ de los datos respecto a la mediana.\n",
    "\n",
    "- Desviacion estandar\n",
    "\n",
    "Ofrece la dispersion media de una variable.\n",
    "\n",
    "<img src='https://static.platzi.com/media/user_upload/graph20-2da3c616-b5cf-4afe-b7d8-781d02f28d08.jpg' width=400>\n",
    "\n",
    "### Asimetria estadistica\n",
    "\n",
    "<img src='https://static.platzi.com/media/user_upload/graph21-d21e5c5d-7810-498e-a7d5-b763e8ebc152.jpg' width=500>\n",
    "\n",
    "- Asimetría positiva, distribución con mayor dispersión a la derecha de la media.\n",
    "\n",
    "- Asimetría negativa, distribución con mayor dispersión a la izquierda de la media."
   ]
  },
  {
   "cell_type": "markdown",
   "metadata": {},
   "source": [
    "### Rango"
   ]
  },
  {
   "cell_type": "code",
   "execution_count": 33,
   "metadata": {},
   "outputs": [
    {
     "data": {
      "text/plain": [
       "('RANGE',\n",
       " bill_length_mm         27.5\n",
       " bill_depth_mm           8.4\n",
       " flipper_length_mm      59.0\n",
       " body_mass_g          3600.0\n",
       " year                    2.0\n",
       " dtype: float64)"
      ]
     },
     "execution_count": 33,
     "metadata": {},
     "output_type": "execute_result"
    }
   ],
   "source": [
    "max=penguins_df.max(numeric_only=True)\n",
    "min=penguins_df.min(numeric_only=True)\n",
    "\n",
    "'RANGE',np.subtract(max,min)"
   ]
  },
  {
   "cell_type": "markdown",
   "metadata": {},
   "source": [
    "### Curtosis\n",
    "\n",
    "- Meoscurtica el indice vale 0\n",
    "- Leptocurtica el indice es mayor que 0\n",
    "- Platocurtica el indice es menor que 0\n",
    "\n",
    "<img src='https://static.platzi.com/media/user_upload/graph22-c7755fff-5b0f-42cb-83f1-70ce0c869cb9.jpg' width=400>\n",
    "\n",
    "Una curtosis mayor a 0 indica que la mayoria de los datos estan muy concentrados alrededor de la media, lo cual indica que hay poca variabilidad en los datos, es decir, el rango es pequeño\n",
    "\n",
    "Una curtosis negativa indica lo contrario, los datos estan alejados de la media, lo cual indica mucha variabilidad en los datos, su rango es amplio\n",
    "\n",
    "\n"
   ]
  },
  {
   "cell_type": "markdown",
   "metadata": {},
   "source": [
    "## Ejercicio de obtención de medidas de dispersión\n"
   ]
  },
  {
   "cell_type": "markdown",
   "metadata": {},
   "source": [
    "### Medidas de dispersion\n"
   ]
  },
  {
   "cell_type": "markdown",
   "metadata": {},
   "source": [
    "#### Cual es el valor maximo de las variables?"
   ]
  },
  {
   "cell_type": "code",
   "execution_count": 34,
   "metadata": {},
   "outputs": [
    {
     "data": {
      "text/plain": [
       "bill_length_mm         59.6\n",
       "bill_depth_mm          21.5\n",
       "flipper_length_mm     231.0\n",
       "body_mass_g          6300.0\n",
       "year                 2009.0\n",
       "dtype: float64"
      ]
     },
     "execution_count": 34,
     "metadata": {},
     "output_type": "execute_result"
    }
   ],
   "source": [
    "penguins_df.max(numeric_only=True)"
   ]
  },
  {
   "cell_type": "markdown",
   "metadata": {},
   "source": [
    "#### Cual es el valor minimo de las variables?\n"
   ]
  },
  {
   "cell_type": "code",
   "execution_count": 35,
   "metadata": {},
   "outputs": [
    {
     "data": {
      "text/plain": [
       "bill_length_mm         32.1\n",
       "bill_depth_mm          13.1\n",
       "flipper_length_mm     172.0\n",
       "body_mass_g          2700.0\n",
       "year                 2007.0\n",
       "dtype: float64"
      ]
     },
     "execution_count": 35,
     "metadata": {},
     "output_type": "execute_result"
    }
   ],
   "source": [
    "penguins_df.min(numeric_only=True)"
   ]
  },
  {
   "cell_type": "markdown",
   "metadata": {},
   "source": [
    "#### Cual es el rango de las variables?\n"
   ]
  },
  {
   "cell_type": "code",
   "execution_count": 36,
   "metadata": {},
   "outputs": [
    {
     "data": {
      "text/plain": [
       "bill_length_mm         27.5\n",
       "bill_depth_mm           8.4\n",
       "flipper_length_mm      59.0\n",
       "body_mass_g          3600.0\n",
       "year                    2.0\n",
       "dtype: float64"
      ]
     },
     "execution_count": 36,
     "metadata": {},
     "output_type": "execute_result"
    }
   ],
   "source": [
    "np.subtract(penguins_df.max(numeric_only=True), penguins_df.min(numeric_only=True))"
   ]
  },
  {
   "cell_type": "markdown",
   "metadata": {},
   "source": [
    "#### Cual es la desviacion estandar de las variables?\n"
   ]
  },
  {
   "cell_type": "code",
   "execution_count": 37,
   "metadata": {},
   "outputs": [
    {
     "data": {
      "text/plain": [
       "bill_length_mm         5.468668\n",
       "bill_depth_mm          1.969235\n",
       "flipper_length_mm     14.015765\n",
       "body_mass_g          805.215802\n",
       "year                   0.812944\n",
       "dtype: float64"
      ]
     },
     "execution_count": 37,
     "metadata": {},
     "output_type": "execute_result"
    }
   ],
   "source": [
    "penguins_df.std(numeric_only=True)"
   ]
  },
  {
   "cell_type": "markdown",
   "metadata": {},
   "source": [
    "<img src='https://camo.githubusercontent.com/548886f25906ee4390c27b8b98d6c0a69b9df81100b5e75635eaa1a3d16d5733/68747470733a2f2f6d69726f2e6d656469756d2e636f6d2f6d61782f313430302f312a4152706f6559334d646846496d71304a5841587452772e706e67' width=500>"
   ]
  },
  {
   "cell_type": "code",
   "execution_count": 38,
   "metadata": {},
   "outputs": [
    {
     "name": "stdout",
     "output_type": "stream",
     "text": [
      "\n",
      "mean + std\n",
      "bill_length_mm         49.461461\n",
      "bill_depth_mm          19.134100\n",
      "flipper_length_mm     214.982732\n",
      "body_mass_g          5012.272859\n",
      "year                 2008.854986\n",
      "dtype: float64\n",
      "\n",
      "mean - std\n",
      "bill_length_mm         38.524124\n",
      "bill_depth_mm          15.195629\n",
      "flipper_length_mm     186.951202\n",
      "body_mass_g          3401.841255\n",
      "year                 2007.229098\n",
      "dtype: float64\n",
      "\n"
     ]
    }
   ],
   "source": [
    "print(f'''\n",
    "mean + std\n",
    "{penguins_df.mean(numeric_only=True) + penguins_df.std(numeric_only=True)}\n",
    "\n",
    "mean - std\n",
    "{penguins_df.mean(numeric_only=True) - penguins_df.std(numeric_only=True)}\n",
    "''')"
   ]
  },
  {
   "cell_type": "markdown",
   "metadata": {},
   "source": [
    "#### Cual es el rango intercuartilico de las variables?\n"
   ]
  },
  {
   "cell_type": "code",
   "execution_count": 39,
   "metadata": {},
   "outputs": [
    {
     "data": {
      "text/html": [
       "<div>\n",
       "<style scoped>\n",
       "    .dataframe tbody tr th:only-of-type {\n",
       "        vertical-align: middle;\n",
       "    }\n",
       "\n",
       "    .dataframe tbody tr th {\n",
       "        vertical-align: top;\n",
       "    }\n",
       "\n",
       "    .dataframe thead th {\n",
       "        text-align: right;\n",
       "    }\n",
       "</style>\n",
       "<table border=\"1\" class=\"dataframe\">\n",
       "  <thead>\n",
       "    <tr style=\"text-align: right;\">\n",
       "      <th></th>\n",
       "      <th>0.25</th>\n",
       "      <th>0.5</th>\n",
       "      <th>0.75</th>\n",
       "      <th>iqr</th>\n",
       "    </tr>\n",
       "    <tr>\n",
       "      <th>variable</th>\n",
       "      <th></th>\n",
       "      <th></th>\n",
       "      <th></th>\n",
       "      <th></th>\n",
       "    </tr>\n",
       "  </thead>\n",
       "  <tbody>\n",
       "    <tr>\n",
       "      <th>bill_length_mm</th>\n",
       "      <td>39.5</td>\n",
       "      <td>44.5</td>\n",
       "      <td>48.6</td>\n",
       "      <td>9.1</td>\n",
       "    </tr>\n",
       "    <tr>\n",
       "      <th>bill_depth_mm</th>\n",
       "      <td>15.6</td>\n",
       "      <td>17.3</td>\n",
       "      <td>18.7</td>\n",
       "      <td>3.1</td>\n",
       "    </tr>\n",
       "    <tr>\n",
       "      <th>flipper_length_mm</th>\n",
       "      <td>190.0</td>\n",
       "      <td>197.0</td>\n",
       "      <td>213.0</td>\n",
       "      <td>23.0</td>\n",
       "    </tr>\n",
       "    <tr>\n",
       "      <th>body_mass_g</th>\n",
       "      <td>3550.0</td>\n",
       "      <td>4050.0</td>\n",
       "      <td>4775.0</td>\n",
       "      <td>1225.0</td>\n",
       "    </tr>\n",
       "    <tr>\n",
       "      <th>year</th>\n",
       "      <td>2007.0</td>\n",
       "      <td>2008.0</td>\n",
       "      <td>2009.0</td>\n",
       "      <td>2.0</td>\n",
       "    </tr>\n",
       "  </tbody>\n",
       "</table>\n",
       "</div>"
      ],
      "text/plain": [
       "                     0.25     0.5    0.75     iqr\n",
       "variable                                         \n",
       "bill_length_mm       39.5    44.5    48.6     9.1\n",
       "bill_depth_mm        15.6    17.3    18.7     3.1\n",
       "flipper_length_mm   190.0   197.0   213.0    23.0\n",
       "body_mass_g        3550.0  4050.0  4775.0  1225.0\n",
       "year               2007.0  2008.0  2009.0     2.0"
      ]
     },
     "execution_count": 39,
     "metadata": {},
     "output_type": "execute_result"
    }
   ],
   "source": [
    "(\n",
    "    penguins_df\n",
    "    .quantile([.25,.50,.75])\n",
    "    .T\n",
    "    .rename_axis('variable')\n",
    "    .assign(\n",
    "        iqr= lambda df: df[0.75] - df[0.25]\n",
    "    )\n",
    ")"
   ]
  },
  {
   "cell_type": "markdown",
   "metadata": {},
   "source": [
    "#### Como puedo visualizar la distribucion de una variable?\n"
   ]
  },
  {
   "cell_type": "markdown",
   "metadata": {},
   "source": [
    "Histograma"
   ]
  },
  {
   "cell_type": "code",
   "execution_count": 40,
   "metadata": {},
   "outputs": [
    {
     "data": {
      "text/plain": [
       "<matplotlib.lines.Line2D at 0x7f5f4cd3ef10>"
      ]
     },
     "execution_count": 40,
     "metadata": {},
     "output_type": "execute_result"
    },
    {
     "data": {
      "image/png": "[encoded data removed]",
      "text/plain": [
       "<Figure size 576x288 with 1 Axes>"
      ]
     },
     "metadata": {},
     "output_type": "display_data"
    }
   ],
   "source": [
    "plt.figure(figsize=(8,4))\n",
    "sns.histplot(\n",
    "    data=penguins_df,\n",
    "    x='flipper_length_mm',\n",
    ")\n",
    "plt.axvline(\n",
    "    x=penguins_df.flipper_length_mm.mean(),\n",
    "    color='red',\n",
    "    linestyle='dashed',\n",
    "    linewidth=2\n",
    ")"
   ]
  },
  {
   "cell_type": "markdown",
   "metadata": {},
   "source": [
    "En este caso, la distribución pareciera bimodal pero se debe a que las 3 especies tienen distribuciones distintas, sin embargo, cada especie pareciera tener una distribución normal."
   ]
  },
  {
   "cell_type": "code",
   "execution_count": 41,
   "metadata": {},
   "outputs": [],
   "source": [
    "species = penguins_df.species.unique()\n",
    "\n",
    "adelie_df = penguins_df.query(\"species == 'Adelie'\")\n",
    "gentoo_df = penguins_df.query(\"species == 'Gentoo'\")\n",
    "chinstrap_df = penguins_df.query(\"species == 'Chinstrap'\")\n",
    "\n",
    "specie = [adelie_df,gentoo_df,chinstrap_df]"
   ]
  },
  {
   "cell_type": "code",
   "execution_count": 42,
   "metadata": {},
   "outputs": [
    {
     "data": {
      "image/png": "[encoded data removed]",
      "text/plain": [
       "<Figure size 576x288 with 1 Axes>"
      ]
     },
     "metadata": {},
     "output_type": "display_data"
    }
   ],
   "source": [
    "plt.figure(figsize=(8,4))\n",
    "sns.histplot(\n",
    "    data=penguins_df,\n",
    "    x='flipper_length_mm',\n",
    "    hue='species',\n",
    "    bins=20\n",
    ")\n",
    "\n",
    "for i in specie:\n",
    "    plt.axvline(\n",
    "        x=i.flipper_length_mm.mean(),\n",
    "        color='red',\n",
    "        linestyle='dashed',\n",
    "        linewidth=2\n",
    "    )"
   ]
  },
  {
   "cell_type": "markdown",
   "metadata": {},
   "source": [
    "Diagrama de caja / boxplot"
   ]
  },
  {
   "cell_type": "code",
   "execution_count": 43,
   "metadata": {},
   "outputs": [
    {
     "data": {
      "text/plain": [
       "<AxesSubplot:xlabel='flipper_length_mm', ylabel='species'>"
      ]
     },
     "execution_count": 43,
     "metadata": {},
     "output_type": "execute_result"
    },
    {
     "data": {
      "image/png": "[encoded data removed]",
      "text/plain": [
       "<Figure size 576x288 with 1 Axes>"
      ]
     },
     "metadata": {},
     "output_type": "display_data"
    }
   ],
   "source": [
    "plt.figure(figsize=(8,4))\n",
    "sns.boxplot (\n",
    "    data=penguins_df,\n",
    "    x='flipper_length_mm',\n",
    "    y='species'\n",
    ")"
   ]
  },
  {
   "cell_type": "markdown",
   "metadata": {},
   "source": [
    "Determinación el tamaño de binwidth del histograma mediante la regla de [Freedman-Diaconis](https://en.wikipedia.org/wiki/Freedman%E2%80%93Diaconis_rule)\n",
    "\n",
    "$$2 \\frac{IQR(x)}{\\sqrt{n}}$$"
   ]
  },
  {
   "cell_type": "code",
   "execution_count": 44,
   "metadata": {},
   "outputs": [
    {
     "data": {
      "text/plain": [
       "0.006646646646646648"
      ]
     },
     "execution_count": 44,
     "metadata": {},
     "output_type": "execute_result"
    }
   ],
   "source": [
    "def freedman_diaconis_bindwith(x: pd.Series) -> float:\n",
    "    \"\"\"Find optimal bindwith using Freedman-Diaconis rule.\"\"\"\n",
    "\n",
    "    IQR = x.quantile(.075) - x.quantile(0.25)\n",
    "    N = x.size\n",
    "\n",
    "    return np.abs(2 * IQR / N * 1/3)\n",
    "freedman_diaconis_bindwith(penguins_df.bill_length_mm)"
   ]
  },
  {
   "cell_type": "code",
   "execution_count": 45,
   "metadata": {},
   "outputs": [
    {
     "data": {
      "image/png": "[encoded data removed]",
      "text/plain": [
       "<Figure size 792x676.8 with 1 Axes>"
      ]
     },
     "metadata": {},
     "output_type": "display_data"
    }
   ],
   "source": [
    "sns.histplot(\n",
    "    data=penguins_df,\n",
    "    x='flipper_length_mm',\n",
    "    hue='species',\n",
    "    multiple='layer',\n",
    "    # binwidth=freedman_diaconis_bindwith(penguins_df.bill_length_mm)\n",
    ")\n",
    "\n",
    "for i in specie:\n",
    "    plt.axvline(\n",
    "        x=i.flipper_length_mm.mean(),\n",
    "        color='red',\n",
    "        linestyle='dashed',\n",
    "        linewidth=2\n",
    "    )"
   ]
  },
  {
   "cell_type": "markdown",
   "metadata": {},
   "source": [
    "## Estadística descriptiva aplicada: distribuciones\n",
    "\n",
    "Nos enfocaremos en las probabilidades de encontrar un determinado valor.\n",
    "\n",
    "### Como visualziar una distribucion?\n",
    "\n",
    "Ya conociendo los histogramas, que basicamente definimos que tomara nuestra variable, realizar intervalos y contar las frecuencias de ocurrencias de estos valores dentro de nuestros intervalos. Pero ahora nos surgue la siguientes preguntas:\n",
    "\n",
    "- Cual es la probabilidad de encontrar un numero?\n",
    "- Cual es la probabilidad de encontrar un numero igual o menor a otro numero?\n",
    "- Cual es la probabilidad de encontrar un numero entre el intervalo $A$ y $B$?\n",
    "\n",
    "Estas preguntas evocan a las funciones de probabilidad:\n",
    "\n",
    "- Funcion de Probabilidad de masas (**PMF**, **P**robability **M**ass **F**unction)\n",
    "- Funcion de Distribucion Acumulada (**CDF**, **C**umulative **D**istribution **F**unction)\n",
    "- Funcion de Probabilidad de Densidad (**PDF**, **P**robability **D**ensity **F**unction)\n",
    "\n",
    "### **Funcion de Probabilidad de masas (PMFs)**\n",
    "\n",
    "Nos indica la probabilidad de que **una variable aleatoria discreta tome un valor** determinado.\n",
    "\n",
    "<u>Ejemplo:</u> Cual es la probabilidad de que en un salon haya personas de 23 annos.\n",
    "\n",
    "### **Funcion de Distribucion Acumulada (CDFs)**\n",
    "\n",
    "Devuelve la probabilidad de que **una variable sea menor o igual a un valor** determinado.\n",
    "\n",
    "<u>Ejemplo:</u> Cual es la probabilidad de que en un salon hayan personas de 23 o menos annos.\n",
    "\n",
    "### **Funcion de Probabilidad de Densidad (PDFs)**\n",
    "\n",
    "Determina la probabilidad de que **una variable continua tome un valor** determinado entre un intervalo de valores.\n",
    "\n",
    "<u>Ejemplo:</u> Cual es la probabilidad de que en un salon haya una persona de 1.845 metros"
   ]
  },
  {
   "cell_type": "markdown",
   "metadata": {},
   "source": [
    "## Distribuciones con Python: PMFs, CDFs y PDFs\n",
    "\n",
    "### PMF: Funcion de Probabilidad de masas"
   ]
  },
  {
   "cell_type": "markdown",
   "metadata": {},
   "source": [
    "#### Utilizando Seaborn\n",
    "\n",
    "Nos suplimos del parametro **stat** y lo configuramos con su opcion 'probability', el cual permitira comparar de manera sencilla la probabilidad de que obtengamos un valor determinado"
   ]
  },
  {
   "cell_type": "code",
   "execution_count": 46,
   "metadata": {},
   "outputs": [
    {
     "data": {
      "image/png": "[encoded data removed]",
      "text/plain": [
       "<Figure size 1440x360 with 4 Axes>"
      ]
     },
     "metadata": {},
     "output_type": "display_data"
    }
   ],
   "source": [
    "fig,ax = plt.subplots(ncols=4,nrows=1,figsize=(20,5))\n",
    "\n",
    "for i in range(len(specie) + 1):\n",
    "    sns.histplot(\n",
    "        ax = ax[i],\n",
    "        data=penguins_df if i == 0 else specie[i-1],\n",
    "        x='flipper_length_mm',\n",
    "        binwidth=1,\n",
    "        stat='probability',\n",
    "        hue='species',\n",
    "        palette=penguin_color\n",
    "    );"
   ]
  },
  {
   "cell_type": "markdown",
   "metadata": {},
   "source": [
    "#### Utilizando empiricaldist\n",
    "\n",
    "Con la funcion PMF.from_seq de empiricaldist, nos suplimos de su parametro normalize donde si le damos el valor booleano de True nos arrojara las probabilidades de que ocurra cada valor y si lo ponemos en False nos arrojara las veces que se repite. "
   ]
  },
  {
   "cell_type": "code",
   "execution_count": 47,
   "metadata": {},
   "outputs": [
    {
     "data": {
      "text/plain": [
       "190.0    0.063063\n",
       "195.0    0.051051\n",
       "187.0    0.048048\n",
       "193.0    0.042042\n",
       "210.0    0.042042\n",
       "Name: , dtype: float64"
      ]
     },
     "execution_count": 47,
     "metadata": {},
     "output_type": "execute_result"
    }
   ],
   "source": [
    "(\n",
    "    empiricaldist.Pmf.from_seq(\n",
    "    penguins_df.flipper_length_mm,\n",
    "    normalize=True # cambia a su probabilidad o a frecuencia\n",
    "    )\n",
    "    .sort_values(ascending=False) # remueve para que no se ordenen \n",
    "    .head() # remueve para ver los resultados completos\n",
    ") "
   ]
  },
  {
   "cell_type": "code",
   "execution_count": 48,
   "metadata": {},
   "outputs": [],
   "source": [
    "# Guardamos el objeto empiricaldist en una variable\n",
    "pmf_flipper_length_mm = empiricaldist.Pmf.from_seq(\n",
    "    penguins_df.flipper_length_mm,\n",
    "    normalize=True\n",
    ")"
   ]
  },
  {
   "cell_type": "code",
   "execution_count": 49,
   "metadata": {},
   "outputs": [
    {
     "data": {
      "image/png": "[encoded data removed]",
      "text/plain": [
       "<Figure size 792x676.8 with 1 Axes>"
      ]
     },
     "metadata": {},
     "output_type": "display_data"
    }
   ],
   "source": [
    "# usamos el metodo .bar para graficar el PMF como lo hicimos en seaborn \n",
    "pmf_flipper_length_mm.bar()"
   ]
  },
  {
   "cell_type": "code",
   "execution_count": 50,
   "metadata": {},
   "outputs": [
    {
     "name": "stdout",
     "output_type": "stream",
     "text": [
      "\n",
      "    180 = 1.2012 %\n",
      "    190 = 6.3063 %\n",
      "    200 = 1.2012 %\n",
      "    210 = 4.2042 %\n",
      "    230 = 2.1021 %\n",
      "    \n"
     ]
    }
   ],
   "source": [
    "# Usamos nuestro objeto para preguntar las probabilidades de encontrar un pinguino con una longitud de ala X\n",
    "print(f'''\n",
    "    180 = {(pmf_flipper_length_mm(180)*100).round(4)} %\n",
    "    190 = {(pmf_flipper_length_mm(190)*100).round(4)} %\n",
    "    200 = {(pmf_flipper_length_mm(200)*100).round(4)} %\n",
    "    210 = {(pmf_flipper_length_mm(210)*100).round(4)} %\n",
    "    230 = {(pmf_flipper_length_mm(230)*100).round(4)} %\n",
    "    ''')"
   ]
  },
  {
   "cell_type": "markdown",
   "metadata": {},
   "source": [
    "### ECDF: Funcion empirica de probabilidad acumulada"
   ]
  },
  {
   "cell_type": "markdown",
   "metadata": {},
   "source": [
    "#### Utilizando Seaborn\n",
    "\n",
    "[seaborn.ecdfplot](https://seaborn.pydata.org/generated/seaborn.ecdfplot.html?highlight=ecdf#seaborn.ecdfplot)\n",
    "\n",
    "Realizamos el grafico ECDF para saber cual es la probabilidad de obtener un valor igual o menor a partir de cierto valor."
   ]
  },
  {
   "cell_type": "code",
   "execution_count": 51,
   "metadata": {},
   "outputs": [
    {
     "data": {
      "image/png": "[encoded data removed]",
      "text/plain": [
       "<Figure size 1440x360 with 4 Axes>"
      ]
     },
     "metadata": {},
     "output_type": "display_data"
    }
   ],
   "source": [
    "fig,ax = plt.subplots(ncols=4,nrows=1,figsize=(20,5))\n",
    "\n",
    "for i in range(len(specie) + 1):\n",
    "    sns.ecdfplot(\n",
    "        ax = ax[i],\n",
    "        data=penguins_df if i == 0 else specie[i-1],\n",
    "        x='flipper_length_mm',\n",
    "        # stat='probability',\n",
    "        hue= None if i == 0 else 'species',\n",
    "        palette=penguin_color\n",
    "    );"
   ]
  },
  {
   "cell_type": "markdown",
   "metadata": {},
   "source": [
    "Para realizarnos una pregunta en este caso observemos el resultado de la especie Adelie.\n",
    "\n",
    "Si miramos en las $X$ el valor 200, podemos preguntarnos sobre cual es la probabilidad de que un pinguino en general (grafico 1) tenga tenga un ala igual o menos a 200 mm de largo.\n",
    "\n",
    "Al observar el grafico concluimos que seria aproximadamente a ojo del mas o menos 58%, lo cual es la desventaja de usar Seaborn que solo nos permite hacer una estimacion visual de la pregunta que buscamos responder"
   ]
  },
  {
   "cell_type": "markdown",
   "metadata": {},
   "source": [
    "#### Utilizando empiricaldist\n",
    "\n",
    "A mismo modo que en el ejercicio anterior podemos guardar nuestro objeto de **empericaldist.cdf** en una variable para empezar a trabajar sobre nuestras preguntas"
   ]
  },
  {
   "cell_type": "code",
   "execution_count": 52,
   "metadata": {},
   "outputs": [],
   "source": [
    "# Guardamos nuestro objeto CDF en una variable con los datos\n",
    "cdf_flipper_length_mm = empiricaldist.Cdf.from_seq(\n",
    "    penguins_df.flipper_length_mm,\n",
    "    normalize=True\n",
    ")"
   ]
  },
  {
   "cell_type": "code",
   "execution_count": 53,
   "metadata": {},
   "outputs": [
    {
     "name": "stdout",
     "output_type": "stream",
     "text": [
      "la probabilidad de tener una ala de: 200 mm es de: 56.75675675675676 %\n"
     ]
    },
    {
     "data": {
      "image/png": "[encoded data removed]",
      "text/plain": [
       "<Figure size 792x676.8 with 1 Axes>"
      ]
     },
     "metadata": {},
     "output_type": "display_data"
    }
   ],
   "source": [
    "# Graficamos nuestro CDF con la funcion plot\n",
    "cdf_flipper_length_mm.plot()\n",
    "\n",
    "q = 200 # quantity\n",
    "p = cdf_flipper_length_mm.forward(q) # probability\n",
    "print('la probabilidad de tener una ala de:' ,q, 'mm es de:',p*100,'%')"
   ]
  },
  {
   "cell_type": "markdown",
   "metadata": {},
   "source": [
    "Como vimos podemos graficar y obtener respuestas precisas con la libreria empiricaldist y agregando algo de codigo podemos conseguir algunas presentaciones mas visual"
   ]
  },
  {
   "cell_type": "code",
   "execution_count": 54,
   "metadata": {},
   "outputs": [
    {
     "data": {
      "text/plain": [
       "[<matplotlib.lines.Line2D at 0x7f5f4c5d9cd0>]"
      ]
     },
     "execution_count": 54,
     "metadata": {},
     "output_type": "execute_result"
    },
    {
     "data": {
      "image/png": "[encoded data removed]",
      "text/plain": [
       "<Figure size 792x676.8 with 1 Axes>"
      ]
     },
     "metadata": {},
     "output_type": "display_data"
    }
   ],
   "source": [
    "# Graficamos con empiricaldist\n",
    "cdf_flipper_length_mm.plot() # Graficamos\n",
    "\n",
    "q = 200 # quantity\n",
    "p = cdf_flipper_length_mm.forward(q) # probability\n",
    "\n",
    "plt.vlines( # Linea eje Y\n",
    "    x=q,\n",
    "    ymin=0,\n",
    "    ymax=p,\n",
    "    linestyles='dashed',color='black',linewidth=2\n",
    ")\n",
    "plt.hlines( # Linea eje X\n",
    "    y=p,\n",
    "    xmin=pmf_flipper_length_mm.qs[0], # cuantiles\n",
    "    xmax=q,\n",
    "    linestyles='dashed',color='black',linewidth=2\n",
    ")\n",
    "\n",
    "plt.plot(q,p,'ro') # Punto de interseccion rojo"
   ]
  },
  {
   "cell_type": "markdown",
   "metadata": {},
   "source": [
    "De esta manera podemos anadir lineas guias que nos ayuden a visualizar estos valores, en este caso realizamos una lineas guias para saber en donde encontrar el valor de 200 y su probabilidad, de esta forma podemos empezar a explorar distintas variables sin vernos afectados por valores extremos"
   ]
  },
  {
   "cell_type": "code",
   "execution_count": 55,
   "metadata": {},
   "outputs": [
    {
     "data": {
      "text/plain": [
       "[<matplotlib.lines.Line2D at 0x7f5f4c554d90>]"
      ]
     },
     "execution_count": 55,
     "metadata": {},
     "output_type": "execute_result"
    },
    {
     "data": {
      "image/png": "[encoded data removed]",
      "text/plain": [
       "<Figure size 792x676.8 with 1 Axes>"
      ]
     },
     "metadata": {},
     "output_type": "display_data"
    }
   ],
   "source": [
    "# Grafica CDF con sus respectivos cuantiles \n",
    "cdf_flipper_length_mm.step()\n",
    "\n",
    "p_1 = 0.25 # specifi probability\n",
    "p_2 = 0.75\n",
    "\n",
    "ps = (0.25, 0.75) # IQR\n",
    "qs = cdf_flipper_length_mm.inverse(ps) # {0.25 = 190} y {0.75 = 213}\n",
    "\n",
    "plt.vlines(\n",
    "    x=qs,\n",
    "    ymin=0,\n",
    "    ymax=ps,\n",
    "    linestyles='--',color='black',\n",
    ")\n",
    "\n",
    "plt.hlines(\n",
    "    y=ps,\n",
    "    xmin=cdf_flipper_length_mm.qs[0],\n",
    "    xmax=qs,\n",
    "    linestyles='--',color='black',\n",
    ")\n",
    "\n",
    "plt.plot(qs,ps,'ro') # puntos de interseccion\n"
   ]
  },
  {
   "cell_type": "markdown",
   "metadata": {},
   "source": [
    "La funcion de distribucion acumulada esta relacionado con el manejo de los cuantiles, ya que si marcamos la probabilidad de encontrar el 25% y 75% de nuestros datos, ya nos encontrariamos delimitando nuestro rango intercuartilico, que es lo que realizamos en la grafica."
   ]
  },
  {
   "cell_type": "markdown",
   "metadata": {},
   "source": [
    "**Comparando distribuciones**"
   ]
  },
  {
   "cell_type": "code",
   "execution_count": 56,
   "metadata": {},
   "outputs": [
    {
     "data": {
      "image/png": "[encoded data removed]",
      "text/plain": [
       "<Figure size 1440x576 with 4 Axes>"
      ]
     },
     "metadata": {},
     "output_type": "display_data"
    }
   ],
   "source": [
    "fig,ax = plt.subplots(1,4,figsize=(20,8))\n",
    "\n",
    "p_1 = 0.25 # specifi probability\n",
    "p_2 = 0.75\n",
    "ps = (p_1, p_2) # IQR\n",
    "\n",
    "for i in range(len(species)+1):\n",
    "    sns.ecdfplot(\n",
    "    ax = ax[i],\n",
    "    data=penguins_df if i == 0 else specie[i-1],\n",
    "    x='flipper_length_mm',\n",
    "    hue='species',\n",
    "    palette=penguin_color\n",
    "    )\n",
    "    \n",
    "    qs = empiricaldist.Cdf.from_seq(penguins_df.flipper_length_mm if i ==0 else specie[i-1].flipper_length_mm,normalize=True).inverse(ps)\n",
    "\n",
    "    if i == 0:\n",
    "        pass\n",
    "    else:\n",
    "        ax[i].vlines(\n",
    "            x=qs,\n",
    "            ymin=0,\n",
    "            ymax=ps,\n",
    "            linestyles='--',color='black',\n",
    "        )\n",
    "        ax[i].hlines(\n",
    "            y=ps,\n",
    "            xmin=empiricaldist.Cdf.from_seq(specie[i-1].flipper_length_mm,normalize=True).qs[0],\n",
    "            xmax=qs,\n",
    "            linestyles='--',color='black',\n",
    "        )\n",
    "        ax[i].plot(qs,ps,'ro') # puntos de interseccion\n"
   ]
  },
  {
   "cell_type": "markdown",
   "metadata": {},
   "source": [
    "### PDF: Funciones de Densidad de Probabilidad\n",
    "\n",
    "Nos ayudan a estimar la probabilidad para valores que no contiene el dataset, fomando una distribucion continua. Tambien son utiles para ver la forma de la distribucion a detalle y hacer comparaciones con la distribucion teorica.\n",
    "\n"
   ]
  },
  {
   "cell_type": "markdown",
   "metadata": {},
   "source": [
    "#### Utilizando Seaborn"
   ]
  },
  {
   "cell_type": "code",
   "execution_count": 57,
   "metadata": {},
   "outputs": [
    {
     "data": {
      "text/plain": [
       "<AxesSubplot:xlabel='flipper_length_mm', ylabel='Density'>"
      ]
     },
     "execution_count": 57,
     "metadata": {},
     "output_type": "execute_result"
    },
    {
     "data": {
      "image/png": "[encoded data removed]",
      "text/plain": [
       "<Figure size 792x676.8 with 1 Axes>"
      ]
     },
     "metadata": {},
     "output_type": "display_data"
    }
   ],
   "source": [
    "# Grafica de la Densidad de probabilidad.\n",
    "sns.kdeplot(\n",
    "    data=penguins_df,\n",
    "    x='flipper_length_mm',\n",
    "    bw_method=0.1,\n",
    ")"
   ]
  },
  {
   "cell_type": "code",
   "execution_count": 58,
   "metadata": {},
   "outputs": [
    {
     "data": {
      "text/plain": [
       "count     333.000000\n",
       "mean     4207.057057\n",
       "std       805.215802\n",
       "min      2700.000000\n",
       "25%      3550.000000\n",
       "50%      4050.000000\n",
       "75%      4775.000000\n",
       "max      6300.000000\n",
       "Name: body_mass_g, dtype: float64"
      ]
     },
     "execution_count": 58,
     "metadata": {},
     "output_type": "execute_result"
    }
   ],
   "source": [
    "# Obtenemos los estadisticos de la variable\n",
    "\n",
    "stats = penguins_df.body_mass_g.describe()\n",
    "stats"
   ]
  },
  {
   "cell_type": "code",
   "execution_count": 59,
   "metadata": {},
   "outputs": [
    {
     "data": {
      "text/plain": [
       "[<matplotlib.lines.Line2D at 0x7f5f4c30c3a0>]"
      ]
     },
     "execution_count": 59,
     "metadata": {},
     "output_type": "execute_result"
    },
    {
     "data": {
      "image/png": "[encoded data removed]",
      "text/plain": [
       "<Figure size 792x676.8 with 1 Axes>"
      ]
     },
     "metadata": {},
     "output_type": "display_data"
    }
   ],
   "source": [
    "# generamos los valores aleatorios a partir de los estadisticos de los datos para tener la distribucion teorica utilizando el ECDFs\n",
    "\n",
    "xs = np.linspace(stats['min'],stats['max']) # array de valores aleatorios\n",
    "ys = scipy.stats.norm(stats['mean'], stats['std']).cdf(xs) #valores de probabilidad para cada valor\n",
    "\n",
    "# grafica de la distribucion de datos aleatorios\n",
    "plt.plot(xs,ys, color='black',linestyle='--')"
   ]
  },
  {
   "cell_type": "markdown",
   "metadata": {},
   "source": [
    "De esta forma logramos graficar nuestra funcion de distribucion acumulada **teorica**, pero sabemos que nuestros **datos reales** probablemente no sigan una distribucion normal, pero para no andar en base a supociciones debemos comparar nuestra distribucion teorica de datos simulados con nuestra distribucion empirica de datos reales. "
   ]
  },
  {
   "cell_type": "code",
   "execution_count": 60,
   "metadata": {},
   "outputs": [
    {
     "data": {
      "text/plain": [
       "<AxesSubplot:>"
      ]
     },
     "execution_count": 60,
     "metadata": {},
     "output_type": "execute_result"
    },
    {
     "data": {
      "image/png": "[encoded data removed]",
      "text/plain": [
       "<Figure size 792x676.8 with 1 Axes>"
      ]
     },
     "metadata": {},
     "output_type": "display_data"
    }
   ],
   "source": [
    "xs = np.linspace(stats['min'],stats['max']) \n",
    "ys = scipy.stats.norm(stats['mean'], stats['std']).cdf(xs)\n",
    "\n",
    "plt.plot(xs,ys, color='black',linestyle='--')\n",
    "\n",
    "# grafica de la distribucion de los datos reales\n",
    "empiricaldist.Cdf.from_seq(\n",
    "    penguins_df.body_mass_g,\n",
    "    normalize=True\n",
    ").plot() "
   ]
  },
  {
   "cell_type": "markdown",
   "metadata": {},
   "source": [
    "Ahora tenemos nuestra funcion de cuanto pesa un pinguino comparado de como seria si aleatoriamente nuestros datos tuvieran un comportamiento de distribucion normal.\n",
    "\n",
    "Como podemos ver hay zonas del grafico en que la distribucion teorica se parece a los datos reales de los pinguino, pero en otras que no, por ejemplo nuestra distribucion normal teorica se encuentra por debajo de los datos reales, siendo que la linea azul esta por encima de la linea negra y en otras ocurre lo opuesto\n",
    "\n",
    "De este modo vemos que los datos no se comportan de una manera normal ya que es un caso de uso para las funciones acumuladas de probabilidad, pero a mismo modo tambien estamos interesados en las funciones de densidad de probabilidad."
   ]
  },
  {
   "cell_type": "markdown",
   "metadata": {},
   "source": [
    "##### Comparando la distribución de los datos con la teórica utilizando PDFs"
   ]
  },
  {
   "cell_type": "code",
   "execution_count": 61,
   "metadata": {},
   "outputs": [
    {
     "data": {
      "text/plain": [
       "<AxesSubplot:xlabel='body_mass_g', ylabel='Density'>"
      ]
     },
     "execution_count": 61,
     "metadata": {},
     "output_type": "execute_result"
    },
    {
     "data": {
      "image/png": "[encoded data removed]",
      "text/plain": [
       "<Figure size 792x676.8 with 1 Axes>"
      ]
     },
     "metadata": {},
     "output_type": "display_data"
    }
   ],
   "source": [
    "# generar valores aleatorios a partir de los estadisticos de los datos usando PDF\n",
    "\n",
    "xs = np.linspace(stats['min'],stats['max'])  # array de valores aleatorios\n",
    "ys = scipy.stats.norm(stats['mean'], stats['std']).pdf(xs) # valores de probabilidad para cada valor\n",
    "\n",
    "plt.plot(xs,ys, color='black',linestyle='--') # grafica de la distribucion de datos aleatorios\n",
    "\n",
    "# Grafico PDF con valores reales\n",
    "sns.kdeplot(\n",
    "    data = penguins_df,\n",
    "    x='body_mass_g',\n",
    ") "
   ]
  },
  {
   "cell_type": "markdown",
   "metadata": {},
   "source": [
    "Ahora tenemos otra forma donde podemos interpretar nuestros datos, teniendo nuestra distribucion teorica siendo representada por las lineas negras y los datos recolectados por las lineas azules.\n",
    "\n",
    "Podemos diferenciar como nuestra distribucion se encuentra positivamente sesgada a la izquierda, dandonos la idea de que nuestros datos no siguen una distribucion normal, lo cual es muy importante, ya que en el mundo de los datos muchos de los estadisticos, pruebas, analisis asumiran muchas cosas y donde una esas cosas es que tus datos seguiran una distribucion normal, tanto los datos como los residuos al ajustar un modelo."
   ]
  },
  {
   "cell_type": "markdown",
   "metadata": {},
   "source": [
    "## Bonus: Ley de los Grandes Numeros y Teorema del Límite Central\n",
    "\n",
    "### Que es la Ley de los Grandes Numeros?\n",
    "\n",
    "**La probabilidad experimental tiende a la probabilidad teorica a medida que aumenta el numero de repeticiones del experimento.**\n",
    "\n",
    "Es muy util cuando no se conoce la probabilidad teorica de un evento y tenemos la capacidad de aumentar la muestra. Mediante este teorema, al incrementar la muestra la probabilidad experimental al final se convertira en la probabilidad teorica.\n",
    "\n",
    "**Ejemplo:**\n",
    "\n",
    "Imaginemos que tenemos un dado de 6 caras que se encuentra en perfecto equilibrio, osea, que la probabilidad de que caiga cada cara es exactamente $1/6$.\n",
    "\n",
    "Si tiramos el dado 10 veces, el dado cayo mas veces de alguna cara que sus otras caras, pero si el experimento lo repetimos a un numero lo suficiente grande para que las probabilidades de emparejen, tendremos una distribucion casi exacta de $1/6$ por cara\n",
    "\n",
    "### Teorema del limite central\n",
    "\n",
    "**La media de las muestras tiende aproximadamente a una distribución normal**\n",
    "\n",
    "La suma de n variables aleatorias independientes con medias y varianzas finitas converge en distribucion a una variable aleatoria normal"
   ]
  },
  {
   "cell_type": "markdown",
   "metadata": {},
   "source": [
    "## Ley de los Grandes Numeros en Python\n",
    "\n",
    "Tomamos como ejemplo el lanzamiento de una dado de 6 caras con todas sus probabilidades iguales"
   ]
  },
  {
   "cell_type": "code",
   "execution_count": 62,
   "metadata": {},
   "outputs": [
    {
     "data": {
      "image/png": "[encoded data removed]",
      "text/plain": [
       "<Figure size 792x676.8 with 1 Axes>"
      ]
     },
     "metadata": {},
     "output_type": "display_data"
    }
   ],
   "source": [
    "# Creamos un dado de 6 caras con la libreria empiricaldist\n",
    "dice = empiricaldist.Pmf.from_seq([1,2,3,4,5,6]) \n",
    "dice.bar()"
   ]
  },
  {
   "cell_type": "markdown",
   "metadata": {},
   "source": [
    "Valores de probabilidad para cada cara del dado en diferentes tamaños de muestras"
   ]
  },
  {
   "cell_type": "code",
   "execution_count": 63,
   "metadata": {},
   "outputs": [
    {
     "data": {
      "image/png": "[encoded data removed]",
      "text/plain": [
       "<Figure size 360x360 with 1 Axes>"
      ]
     },
     "metadata": {},
     "output_type": "display_data"
    },
    {
     "data": {
      "image/png": "[encoded data removed]",
      "text/plain": [
       "<Figure size 360x360 with 1 Axes>"
      ]
     },
     "metadata": {},
     "output_type": "display_data"
    },
    {
     "data": {
      "image/png": "[encoded data removed]",
      "text/plain": [
       "<Figure size 360x360 with 1 Axes>"
      ]
     },
     "metadata": {},
     "output_type": "display_data"
    }
   ],
   "source": [
    "# Arrojamos el dado 100, 1000 y 10000 para el experimento\n",
    "for sample_size in (100, 1000, 10000):\n",
    "    sample_size = int(sample_size)\n",
    "    values = dice.sample(sample_size)\n",
    "\n",
    "    sample_pmf = empiricaldist.Pmf.from_seq(values)\n",
    "\n",
    "    plt.figure(figsize=(5,5))\n",
    "    sample_pmf.bar()\n",
    "\n",
    "    plt.axhline(y=1/6, color='r',linestyle='--')\n",
    "    plt.title(f'sample size: {sample_size}')\n"
   ]
  },
  {
   "cell_type": "markdown",
   "metadata": {},
   "source": [
    "## Teorema del Límite Central en Python\n"
   ]
  },
  {
   "cell_type": "markdown",
   "metadata": {},
   "source": [
    "Analizamos una variable binaria"
   ]
  },
  {
   "cell_type": "code",
   "execution_count": 64,
   "metadata": {},
   "outputs": [
    {
     "data": {
      "text/plain": [
       "(male      0.504505\n",
       " female    0.495495\n",
       " Name: sex, dtype: float64,\n",
       " <AxesSubplot:>)"
      ]
     },
     "execution_count": 64,
     "metadata": {},
     "output_type": "execute_result"
    },
    {
     "data": {
      "image/png": "[encoded data removed]",
      "text/plain": [
       "<Figure size 360x360 with 1 Axes>"
      ]
     },
     "metadata": {},
     "output_type": "display_data"
    }
   ],
   "source": [
    "# Distribucion binomial del sexo de los pinguinos\n",
    "plt.figure(figsize=(5,5))\n",
    "(penguins_df.sex.value_counts(normalize=True),\n",
    "penguins_df.sex.value_counts(normalize=True).plot(kind='bar'))"
   ]
  },
  {
   "cell_type": "markdown",
   "metadata": {},
   "source": [
    "La variable sex sigue una distribucion binomial. Como es categorica, debemos convertirla en una variable numerica"
   ]
  },
  {
   "cell_type": "code",
   "execution_count": 65,
   "metadata": {},
   "outputs": [],
   "source": [
    "sex_numeric = penguins_df.sex.replace(['male','female'], [1,0])"
   ]
  },
  {
   "cell_type": "markdown",
   "metadata": {},
   "source": [
    "Fijamos el numero de muestras a tomar y el tamaño de cada muestra, luego calculamos la media de los machos de cada muestra y a todas ellas le sacamos la media observando asi que se aproxima a la proporcion de machos dada por los datos"
   ]
  },
  {
   "cell_type": "code",
   "execution_count": 71,
   "metadata": {},
   "outputs": [
    {
     "name": "stderr",
     "output_type": "stream",
     "text": [
      "/tmp/ipykernel_424/2468532483.py:10: PerformanceWarning: DataFrame is highly fragmented.  This is usually the result of calling `frame.insert` many times, which has poor performance.  Consider joining all columns at once using pd.concat(axis=1) instead.  To get a de-fragmented frame, use `newframe = frame.copy()`\n",
      "  sample_df[sample_name] =  sex_numeric_sample.copy()\n"
     ]
    },
    {
     "name": "stdout",
     "output_type": "stream",
     "text": [
      "Estimated percentage of male penguins in populatio is: 50.83%\n"
     ]
    }
   ],
   "source": [
    "number_sample = 1000 #cantidad de muestras a tomar\n",
    "sample_size = 35 #tamaño de la muestra\n",
    "\n",
    "sample_df = pd.DataFrame() #dataframe donde se almacena las media de cada muestra\n",
    "\n",
    "\n",
    "for i in range(1, number_sample + 1):\n",
    "    sex_numeric_sample = sex_numeric.sample(sample_size, replace=True).to_numpy()\n",
    "    sample_name = f'sample {i}'\n",
    "    sample_df[sample_name] =  sex_numeric_sample.copy()\n",
    "\n",
    "male_population_mean = sample_df.mean().mean()\n",
    "print(f'Estimated percentage of male penguins in populatio is: {male_population_mean*100:.2f}%')"
   ]
  },
  {
   "cell_type": "markdown",
   "metadata": {},
   "source": [
    "La distribucion binomial se convierte en este caso en una distribucion Normal como se evidencia en la grafica que sigue"
   ]
  },
  {
   "cell_type": "code",
   "execution_count": 72,
   "metadata": {},
   "outputs": [
    {
     "data": {
      "text/plain": [
       "<matplotlib.lines.Line2D at 0x7f5f4c709a00>"
      ]
     },
     "execution_count": 72,
     "metadata": {},
     "output_type": "execute_result"
    },
    {
     "data": {
      "image/png": "[encoded data removed]",
      "text/plain": [
       "<Figure size 792x676.8 with 1 Axes>"
      ]
     },
     "metadata": {},
     "output_type": "display_data"
    }
   ],
   "source": [
    "sample_means_binomial = pd.DataFrame(sample_df.mean(), columns=['sample_mean'])\n",
    "\n",
    "# Distribucion Teorica\n",
    "stats = sample_means_binomial.describe()\n",
    "xs = np.linspace(stats.loc['min'],stats.loc['max']) \n",
    "ys = scipy.stats.norm(stats.loc['mean'], stats.loc['std']).pdf(xs)\n",
    "plt.plot(xs,ys, color='black',linestyle='--')\n",
    "\n",
    "# Distribucion empirica\n",
    "sns.kdeplot(data=sample_means_binomial)\n",
    "\n",
    "# promedio\n",
    "plt.axvline(x=sex_numeric.mean(),color='red',linestyle='--')"
   ]
  },
  {
   "cell_type": "markdown",
   "metadata": {},
   "source": [
    "Otra manera de verlo es ir incrementando la cantidad de muestras y observar el efecto en la proporcion de machos, vemos como"
   ]
  },
  {
   "cell_type": "code",
   "execution_count": 73,
   "metadata": {},
   "outputs": [
    {
     "data": {
      "text/plain": [
       "(0.30450450450450445, 0.7045045045045044)"
      ]
     },
     "execution_count": 73,
     "metadata": {},
     "output_type": "execute_result"
    },
    {
     "data": {
      "image/png": "[encoded data removed]",
      "text/plain": [
       "<Figure size 360x360 with 1 Axes>"
      ]
     },
     "metadata": {},
     "output_type": "display_data"
    }
   ],
   "source": [
    "plt.figure(figsize=(5,5))\n",
    "\n",
    "sample_size_experiment = pd.DataFrame(\n",
    "    [[i, sample_df.iloc[:, 0:i].mean().mean()] for i in range(1, number_sample + 1)],\n",
    "    columns=['sample_size', 'estimated_mean']\n",
    ")\n",
    "\n",
    "# grafica  del efecto\n",
    "sns.scatterplot(\n",
    "    data=sample_size_experiment,\n",
    "    x='sample_size',\n",
    "    y='estimated_mean'\n",
    ")\n",
    "\n",
    "plt.axhline(\n",
    "    y=sex_numeric.mean(),\n",
    "    color='red',\n",
    "    linestyle='dashed'\n",
    ")\n",
    "\n",
    "plt.ylim([sex_numeric.mean() - 0.20, sex_numeric.mean() + 0.20])"
   ]
  },
  {
   "cell_type": "markdown",
   "metadata": {},
   "source": [
    "Conforme vayamos incrementando el tamano de la muestras (Nuestro eje $X$) se va acercando a nuestra linea roja que representa la media estimada (Nuestro eje $Y$), por lo que pasamos de una distribucion bionomial a tener una distribucion normal de las medias que representan la proporcion de nuestros pinguinos de la poblacion."
   ]
  },
  {
   "cell_type": "markdown",
   "metadata": {},
   "source": [
    "# Tema 3: Análisis bivariado\n",
    "\n",
    "Anteriormente todos los analisis los realizamos en una sola variable, por ejemplo vimos el compartamiento de la variable flipper_length, tambien como se compara la distribucion teorica con la empirica para la variable body_mass y por ultimo la proporcion del sexo de los pingunos.\n",
    "\n",
    "Ahora aprenderemos a establecer las relaciones entre dos variables."
   ]
  },
  {
   "cell_type": "markdown",
   "metadata": {},
   "source": [
    "## Estableciendo relaciones: gráficos de puntos\n",
    "\n",
    "Las relaciones entre dos variables puede analizarse mediante un grafico de puntos o **scatterplot**. Nos da una idea de la **tendencia o agrupamiento de los datos** y ver como una variable afecta a la otra.\n",
    "\n",
    " Algunas sugerencias para construir un scatterplot son:\n",
    "\n"
   ]
  },
  {
   "cell_type": "markdown",
   "metadata": {},
   "source": [
    "## Estableciendo relaciones: gráficos de violín y boxplots\n"
   ]
  },
  {
   "cell_type": "markdown",
   "metadata": {},
   "source": [
    "## Estableciendo relaciones: matrices de correlación\n"
   ]
  },
  {
   "cell_type": "markdown",
   "metadata": {},
   "source": [
    "## Limitantes de los coeficientes de correlación lineal\n"
   ]
  },
  {
   "cell_type": "markdown",
   "metadata": {},
   "source": [
    "## Estableciendo relaciones: análisis de regresión simple\n"
   ]
  },
  {
   "cell_type": "markdown",
   "metadata": {},
   "source": [
    "## Limitaciones del análisis de regresión simple\n"
   ]
  },
  {
   "cell_type": "markdown",
   "metadata": {},
   "source": [
    "# Tema 4: Análisis multivariado\n"
   ]
  },
  {
   "cell_type": "markdown",
   "metadata": {},
   "source": [
    "## Análisis de regresión múltiple\n"
   ]
  },
  {
   "cell_type": "markdown",
   "metadata": {},
   "source": [
    "## Visualización del análisis de regresión múltiple\n"
   ]
  },
  {
   "cell_type": "markdown",
   "metadata": {},
   "source": [
    "## Análisis de regresión logística\n"
   ]
  },
  {
   "cell_type": "markdown",
   "metadata": {},
   "source": [
    "## Paradoja de Simpson\n"
   ]
  },
  {
   "cell_type": "markdown",
   "metadata": {},
   "source": [
    "## ¿Qué hacer cuando tengo muchas variables?\n"
   ]
  },
  {
   "cell_type": "markdown",
   "metadata": {},
   "source": [
    "# Conclusiones\n"
   ]
  },
  {
   "cell_type": "markdown",
   "metadata": {},
   "source": [
    "## Diversidad de gráficas al explorar datos\n"
   ]
  },
  {
   "cell_type": "markdown",
   "metadata": {},
   "source": [
    "## Continúa aprendiendo sobre EDA"
   ]
  }
 ],
 "metadata": {
  "kernelspec": {
   "display_name": "Python 3.9.7 ('base')",
   "language": "python",
   "name": "python3"
  },
  "language_info": {
   "codemirror_mode": {
    "name": "ipython",
    "version": 3
   },
   "file_extension": ".py",
   "mimetype": "text/x-python",
   "name": "python",
   "nbconvert_exporter": "python",
   "pygments_lexer": "ipython3",
   "version": "3.9.7"
  },
  "orig_nbformat": 4,
  "vscode": {
   "interpreter": {
    "hash": "642679db579c39e8c54388d8c67ee59d6b9479549eff357c7b1dae31a7261e66"
   }
  }
 },
 "nbformat": 4,
 "nbformat_minor": 2
}
