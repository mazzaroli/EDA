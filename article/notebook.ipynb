{
 "cells": [
  {
   "cell_type": "markdown",
   "metadata": {},
   "source": [
    "\n",
    "# Análisis Exploratorio de Datos\n"
   ]
  },
  {
   "cell_type": "markdown",
   "metadata": {},
   "source": [
    "# Tema 1: Introducción al análisis exploratorio de datos\n"
   ]
  },
  {
   "cell_type": "markdown",
   "metadata": {},
   "source": [
    "## ¿Qué es y para qué sirve el análisis exploratorio de datos?\n",
    "\n",
    "**Que aprenderas en esta lectura?**\n",
    "\n",
    "- Entenderas que es y para que sirve un **A**nalisis **E**xploratorio de **D**atos (**E**xploratory **D**ata **A**nalysis o **E.D.A**).\n",
    "- Concoeras los dsitintos tipos de analisis de datos que existen.\n",
    "0 Identificaras distintos tipos de variables y analisis que puedes realizar con ellas.\n",
    "- Seras capaz de explorar conjuntos de datos de $n$ varaiables.\n",
    "- Identificaras las **ventajas** y **desventajas** de distintas visualizaciones de datos.\n",
    "\n",
    "**Conocimientos requeridos:**\n",
    "\n",
    "Para que puedas ir realizando y entendiendo los trabajos al par de la lectura, se asume que posees conocimientos previos en.\n",
    "\n",
    "- Python y algun notebook de tu preferencia.\n",
    "- Principios de visualizacion de datos.\n",
    "- Pandas y NumPy.\n",
    "- Matplotlib y Seaborn.\n",
    "- Estadistica.\n",
    "\n",
    "### Que es el Analisis Exploratorio de Datos (E.D.A)\n",
    "\n",
    "En pocas palabras un [Analisis exploratorio de datos](https://es.wikipedia.org/wiki/An%C3%A1lisis_exploratorio_de_datos) es el proceso determinado por el cientifico [John W. Turkey](https://es.wikipedia.org/wiki/John_W._Tukey) para su tratamiento estadistico de muestras recogidas durante la investigacion.\n",
    "\n",
    "**Los procesos basicos para un E.D.A**\n",
    "\n",
    "1. **Transformar los datos:** Nos sirve para saber que hacer frente a valores nulos, faltantes o datos atípicos. Además de establecer si hay necesidad de reducir la dimensionalidad de datos.\n",
    "\n",
    "1. **Visualizar:** Utilizar alguna herramienta para hacer una representación gráfica de los datos por ejemplo, R, Jupyter notebook, Google Colab, etc.\n",
    "\n",
    "1. **Analizar e Interpretar:** Analizar e interpretar los datos a través de diferentes visualizaciones.\n",
    "\n",
    "1. **Documentar:** Documentar todas las gráficas y estadísticas generadas.\n",
    "\n",
    "Los puntos sera trabajar en el proceso de **conocer en detalle nuestros datos** y ortogarles un sentido, poder **determinaremos la forma correcta de como tratarlos**, indagar en en ellos para **obtener las respuestas que necesitemos** y **transformar los datos en informacion util**."
   ]
  },
  {
   "cell_type": "markdown",
   "metadata": {},
   "source": [
    "## ¿Cómo hacer un análisis exploratorio de datos?\n",
    "\n",
    "### Por que deberias realizar un Analisis Exploratorio de Datos?\n",
    "\n",
    "**Organizar y entender las variables**\n",
    "\n",
    "Lograremos identificar los distintos tipos de variables, las categorias a las que pertenecen y por consiguiente el tipo de analisis que podemos realizar con ellas.\n",
    "\n",
    "**Establecer relaciones entre variables**\n",
    "\n",
    "Lograr establecer realciones entre las variables, por ejemplo ver como una variable se modifica si la grafico junto a otra,\n",
    "\n",
    "**Encontrar patrones ocultos en los datos**\n",
    "\n",
    "Encontraras patrones que de no haber hecho las visualizaciones y la exploracion de los datos no hubieran sido visibles a simple vista.\n",
    "\n",
    "Este sera el punto donde buscaremos encontrar los **data insights**\n",
    "\n",
    "**Ayudarte a escorger el modelo correcto para la necesidad correcta**\n",
    "\n",
    "Al empezar con un conjunto de datos podemos pensar que elegiremos algun modelo que prediga $X$ cosa, pero no obstante sin antes identificar que varibles sirven, cuales no sirven, como se encuentran relacionadas, cuales son las variables que mejor se ajustan a algun tipo de modelo u otro, lo mas probable es que al construir el modelo tengamos un resultado deficiente.\n",
    "\n",
    "El realizar el EDA nos ayudara a encontrar el modelo correcto para la necesidad correcta.\n",
    "\n",
    "**Ayuda a la toma de decisiones basadas en datos**\n",
    "\n",
    "La toma de decisiones basadas en los datos sera uso de hechos, métricas y datos para guiar decisiones estratégicas que se alineen con las metas, objetivos y las iniciativas de nuestra organización.\n",
    "\n",
    "### Cuales son los pasos para realizar un analisis exploratorio de datos?\n",
    "\n",
    "En cada paso para nuestro EDA, deberemos tener en cuenta una serie de preguntas para lograr avanzar en el analisis.\n",
    "\n",
    "**PASO 1: Hacer preguntas**\n",
    "\n",
    "Una vez visualizados los datos, debemos empezar a preguntarnos sobre ellos.\n",
    "\n",
    "- Que te gustaria encontrar?\n",
    "- Que quisieras saber de los datos?\n",
    "- Cual es la razon para realizar el analisis?\n",
    "\n",
    "Una vez tengamos nuestras preguntas, podremos generar una guia para nuestro proceso de exploracion de datos\n",
    "\n",
    "**PASO 2: Determinar el tamano de los datos**\n",
    "\n",
    "\n",
    "- Cuantas observaciones existen?\n",
    "- Cuantas variables hay?\n",
    "- Necesito todas las observaciones?\n",
    "- Necesito todas las variables?\n",
    "\n",
    "**PASO 3: Categorizar las variables**\n",
    "\n",
    "- Cuantas variables categoricas existen?\n",
    "- Cuantas variables continuas existen?\n",
    "- Como puedo explorar cada variable dependiendo de su categoria?\n",
    "\n",
    "**PASO 4: Limpieza y validacion de datos**\n",
    "\n",
    "- tengo valores faltantes?\n",
    "- Cual es la proporcion de datos faltantes\n",
    "- Como puedo tratar los datos faltantes?\n",
    "- Cual es la distribucion de los datos?\n",
    "- Tengo valores atipicos?\n",
    "\n",
    "**PASO 5: Establecer relaciones**\n",
    "\n",
    "- Existen algun tipo de relacion entre mi variable $X$ y $Y$>\n",
    "- Que pasa si ahora considero a la variable $Z$ en el analisis?\n",
    "- Que significa que las observaciones se agrupen?\n",
    "- Que significa el patron que se observa?\n",
    "\n",
    "\n",
    "> Este proceso es ciclico. A pesar de que pueda parecer infinito, este proceso en algun momento debe salir del ciclo y continuar para obtener algun tipo de valor\n",
    "\n",
    "<img src='https://www.researchgate.net/publication/284215308/figure/fig12/AS:668708305383433@1536443892537/Fases-componentes-de-la-metodologia-CRISP-DM-7.ppm' width='328'>\n",
    "<img src='https://static.platzi.com/media/user_upload/graph13-1d72d4bc-0711-48fc-b529-6c232c79259e.jpg' width='500'>\n"
   ]
  },
  {
   "cell_type": "markdown",
   "metadata": {},
   "source": [
    "## Tipos de análisis de datos\n",
    "\n",
    "### Tipos de analitica de datos\n",
    "\n",
    "Sin importar el tamano del conjunto de datos que tengamos, podemos dividir el conjunto de datos en 4 partes evocando a una pregunta escencial por cada etapa\n",
    "\n",
    "#### Analitica Descriptiva \n",
    "\n",
    "Es el análisis más básico. Permite dar una vista general de las propiedades, dimensiones y comportamiento de un fenómeno desde la mera descripción de los datos.\n",
    "\n",
    "#### Analitica Diagnostica \n",
    "\n",
    "Es aplicar unos criterios diferenciales a los datos descriptivos para identificar una situación problemática. Permite establecer relaciones entre variables y crear hipótesis sobre las posibles causas de su comportamiento actual.\n",
    "\n",
    "#### Analitica Predictiva \n",
    "\n",
    "Utiliza datos para explicar un posible comportamiento de las variables de interés si se siguen las tendencias actuales o si estas cambian. Permite determinar si la situación problemática identificada puede representar mayor o menor riesgo en el futuro.\n",
    "\n",
    "#### Analitica Prescriptiva \n",
    "\n",
    "Utiliza datos para apoyar la toma de decisiones, con base en eventos del pasado. Propone soluciones basadas en evidencia. Igualmente, la etapa prescriptiva también puede hacer iniciar el ciclo de nuevo, ya que monitorear la solución también da pie a procesos nuevos de descripción y diagnóstico de ese monitoreo, volviendo a iniciar el ciclo una vez más.\n",
    "\n",
    "<img src='https://gravitar.biz/wp-content/uploads/2021/07/tipos-de-analitica-gravitar_Mesa-de-trabajo-1.png' width='450'>\n",
    "\n",
    "### Ejemplo\n",
    "\n",
    "1. __Analitica Descriptiva (Que sucedio?)__\\\n",
    "    Fuiste a dormir por la noche como cualquier otra sintiendote bien, pero al despertar te das cuenta que te sientes fatigado, con dolor muscular, flema y fiebre. Al preguntarte que esta sucedientio hiciste una descripcion de los sintomas que te hacen sentir mal.\n",
    "    Al tratar de averiguar por que te sientes mal recuerdas que estuviste junto a un companero de trabajo que se sentia enfermo hace dos dias, por lo que que decides ir al medico para poder recibir un diagnostico\n",
    "\n",
    "2. __Analitica Diagnostica (Porque sucedio?)__\\\n",
    "    Cuando llegas al hospital, el doctor hara un breve interrogatorio para tener una descripcion general de lo que te esta ocurriendo, pidiendote que le repitas los sintomas que tienes en ese momento para luego darte un diagnostico y concluir de que tienes un resfriado comun tas la descripcion de tus sintomas.\n",
    "\n",
    "3. __Analitica Predictiva (Que podría pasar si?)__\\\n",
    "    Antes de irte del hospital, una enfermeta te detiene y te menciona que quiere hacerte unos analisis ya que puede ocurrir el caso de lo que seria una enfermedad comun para la normalidad de las personas, a ti te trate completamente diferente, por lo cual la enfermera realiza los analisis necesarios para saber si puede ocurrir una situacion inesperada ante esta enfermedad por cierta condicion, tras los analisis se concluye que estas bien y pasas a la siguiente etapa\n",
    "\n",
    "4. __Analitica Prescriptiva (Que debería hacerse?)__\\\n",
    "    La enfermera al llegar a la conclusion de que te encuentras bien, te da el alta y previamente te preescribe los medicamentos y tipo de descanso que tendras que realizar. "
   ]
  },
  {
   "cell_type": "markdown",
   "metadata": {},
   "source": [
    "## Tipos de datos y análisis de variables\n",
    "\n",
    "### Tipos de variables\n",
    "\n",
    "Las variables categóricas pueden clasificarse en:\n",
    "\n",
    "#### Variables categóricas\n",
    "\n",
    "[**Variable nominal**](https://es.wikipedia.org/wiki/Variable_estad%C3%ADstica#Variable_nominal)\n",
    "\n",
    "Es aquella variable cualitativa cuya categoría no sigue ningún orden, se agrupa sin ninguna jerarquía entre sí.\n",
    "\n",
    "Ejemplos:\n",
    "\n",
    "- Lateralidad (zurdo, diestro)\n",
    "- Estado civil (soltero, casado, divorciado, unión libre)\n",
    "- Grupo sanguíneo (Grupo A-Grupo B-Grupo AB-Grupo 0)\n",
    "\n",
    "[**Variable ordinal**](https://es.wikipedia.org/wiki/Variable_estad%C3%ADstica#Variable_ordinal)\n",
    "\n",
    "Son aquellas variables categóricas con orden secuencial o progresión natural esperable o jerarquía.\n",
    "\n",
    "Ejemplos:\n",
    "\n",
    "- Medalla deportiva (oro, plata, bronce)\n",
    "- Nivel de clase educativa (último año, primer año, etc.)\n",
    "\n",
    "#### Variables numéricas\n",
    "\n",
    "[**Variables continuas**](https://es.wikipedia.org/wiki/Variable_estad%C3%ADstica#Variables_continuas)\n",
    "\n",
    "Son aquellas características que se miden dentro de un rango continuo infinito de valores numéricos y se registran con números reales. Pueden presentar cualquier valor dentro de cierto intervalo.\n",
    "\n",
    "Ejemplos:\n",
    "\n",
    "- Estatura (1,76543 m)\n",
    "- Peso (55,6625 kg)\n",
    "- Tamaño de lesión de leishmaniasis (6,0458 mm)\n",
    "\n",
    "[**Variables discretas**](https://es.wikipedia.org/wiki/Variable_estad%C3%ADstica#Variables_discretas)\n",
    "\n",
    "También llamadas discontinuas, están asociadas a conteos o enumeraciones, razón por la cual solo pueden registrarse con números enteros (0,1,2,3, etc.)\n",
    "\n",
    "Ejemplos:\n",
    "\n",
    "- Número de hijos en una familia (0, 1, 2, 3, etc.)\n",
    "- Número de familias residentes en una manzana (20, 25, 45)\n",
    "- Número de insectos atrapados en una red (0, 1, 2, 5, 10)\n",
    "\n",
    "### Tipos de analisis\n",
    "\n",
    "#### Analisis Univariado\n",
    "\n",
    "El Analisis Univariado busca analizar cada variable por separado, entender sus caracteristicas y como se definen por si misma.\n",
    "\n",
    "#### Analisis Bivariado\n",
    "\n",
    "El Analisis Bivariado busca analizar la relacion de cada par de variables. Permite buscar relaciones intrinsecas entre los datos\n",
    "\n",
    "#### Analisis Multivariado\n",
    "\n",
    "El Analisis Multivariado busca analizar el efecto simultaneo de multiples variables. Analiza la variables como un conjunto\n",
    "______\n",
    "\n",
    "> En el comienzo de la EDA, el análisis univariado te va a dar informacion mucho mas valiosa que comenzar con todas las variables al mismo tiempo. Te ayuda a analizar la contribución individual de una variable sobre las demas para luego incrementar la cantidad de variables y analizar los efectos en conjunto."
   ]
  },
  {
   "cell_type": "markdown",
   "metadata": {},
   "source": [
    "## Herramientas de software para el análisis exploratorio de datos\n",
    "\n",
    "Existen una gran variedad de herramientas que podemos usar, esto sera un proceso en el que tendras que ver por tu cuenta cual es tu herramienta preferida, ya que al fin de cuentas lo que importara son los resultados que entregues.\n",
    "\n",
    "Aca tienes un listado de herramientas de las que puedes probar:\n",
    "\n",
    "- Jupyter \n",
    "- R Studio\n",
    "- Visual Studio COde\n",
    "- Google Colab\n",
    "- Deepnote\n",
    "- Amazon EMR\n",
    "- Amazon SageMaker\n",
    "- Azure Machine Learning\n",
    "- Google Cloud Plataform\n",
    "- Apache Spark\n",
    "\n",
    "La plataforma que usaremos sera la de Deepnote, pero sientete comodo de escoger la que mas te guste!"
   ]
  },
  {
   "cell_type": "markdown",
   "metadata": {},
   "source": [
    "## Conociendo nuestros datos:\n"
   ]
  },
  {
   "cell_type": "markdown",
   "metadata": {},
   "source": [
    "### Instalar librerias necesarias"
   ]
  },
  {
   "cell_type": "code",
   "execution_count": 5,
   "metadata": {},
   "outputs": [
    {
     "name": "stdout",
     "output_type": "stream",
     "text": [
      "Requirement already satisfied: pip in /home/mazzaroli/anaconda3/lib/python3.9/site-packages (21.2.4)\n",
      "Collecting pip\n",
      "  Downloading pip-22.2.2-py3-none-any.whl (2.0 MB)\n",
      "\u001b[K     |████████████████████████████████| 2.0 MB 1.8 MB/s eta 0:00:01\n",
      "\u001b[?25hInstalling collected packages: pip\n",
      "  Attempting uninstall: pip\n",
      "    Found existing installation: pip 21.2.4\n",
      "    Uninstalling pip-21.2.4:\n",
      "      Successfully uninstalled pip-21.2.4\n",
      "Successfully installed pip-22.2.2\n",
      "Collecting palmerpenguins\n",
      "  Downloading palmerpenguins-0.1.4-py3-none-any.whl (17 kB)\n",
      "Requirement already satisfied: numpy in /home/mazzaroli/anaconda3/lib/python3.9/site-packages (1.20.3)\n",
      "Requirement already satisfied: pandas in /home/mazzaroli/anaconda3/lib/python3.9/site-packages (1.3.4)\n",
      "Requirement already satisfied: seaborn in /home/mazzaroli/anaconda3/lib/python3.9/site-packages (0.11.2)\n",
      "Requirement already satisfied: matplotlib in /home/mazzaroli/anaconda3/lib/python3.9/site-packages (3.4.3)\n",
      "Collecting empiricaldist\n",
      "  Downloading empiricaldist-0.6.7.tar.gz (11 kB)\n",
      "  Preparing metadata (setup.py) ... \u001b[?25ldone\n",
      "\u001b[?25hRequirement already satisfied: statsmodels in /home/mazzaroli/anaconda3/lib/python3.9/site-packages (0.12.2)\n",
      "Collecting sklearn\n",
      "  Downloading sklearn-0.0.tar.gz (1.1 kB)\n",
      "  Preparing metadata (setup.py) ... \u001b[?25ldone\n",
      "\u001b[?25hCollecting pyjanitor\n",
      "  Downloading pyjanitor-0.23.1-py3-none-any.whl (147 kB)\n",
      "\u001b[2K     \u001b[90m━━━━━━━━━━━━━━━━━━━━━━━━━━━━━━━━━━━━━━━\u001b[0m \u001b[32m147.7/147.7 kB\u001b[0m \u001b[31m2.4 MB/s\u001b[0m eta \u001b[36m0:00:00\u001b[0ma \u001b[36m0:00:01\u001b[0m\n",
      "\u001b[?25hRequirement already satisfied: python-dateutil>=2.7.3 in /home/mazzaroli/anaconda3/lib/python3.9/site-packages (from pandas) (2.8.2)\n",
      "Requirement already satisfied: pytz>=2017.3 in /home/mazzaroli/anaconda3/lib/python3.9/site-packages (from pandas) (2021.3)\n",
      "Requirement already satisfied: scipy>=1.0 in /home/mazzaroli/anaconda3/lib/python3.9/site-packages (from seaborn) (1.7.1)\n",
      "Requirement already satisfied: kiwisolver>=1.0.1 in /home/mazzaroli/anaconda3/lib/python3.9/site-packages (from matplotlib) (1.3.1)\n",
      "Requirement already satisfied: cycler>=0.10 in /home/mazzaroli/anaconda3/lib/python3.9/site-packages (from matplotlib) (0.10.0)\n",
      "Requirement already satisfied: pillow>=6.2.0 in /home/mazzaroli/anaconda3/lib/python3.9/site-packages (from matplotlib) (8.4.0)\n",
      "Requirement already satisfied: pyparsing>=2.2.1 in /home/mazzaroli/anaconda3/lib/python3.9/site-packages (from matplotlib) (3.0.4)\n",
      "Requirement already satisfied: patsy>=0.5 in /home/mazzaroli/anaconda3/lib/python3.9/site-packages (from statsmodels) (0.5.2)\n",
      "Requirement already satisfied: scikit-learn in /home/mazzaroli/anaconda3/lib/python3.9/site-packages (from sklearn) (1.1.2)\n",
      "Requirement already satisfied: multipledispatch in /home/mazzaroli/anaconda3/lib/python3.9/site-packages (from pyjanitor) (0.6.0)\n",
      "Collecting pandas-flavor\n",
      "  Downloading pandas_flavor-0.3.0-py3-none-any.whl (6.3 kB)\n",
      "Collecting natsort\n",
      "  Downloading natsort-8.2.0-py3-none-any.whl (37 kB)\n",
      "Requirement already satisfied: six in /home/mazzaroli/anaconda3/lib/python3.9/site-packages (from cycler>=0.10->matplotlib) (1.16.0)\n",
      "Collecting lazy-loader==0.1rc2\n",
      "  Downloading lazy_loader-0.1rc2-py3-none-any.whl (5.1 kB)\n",
      "Collecting xarray\n",
      "  Downloading xarray-2022.9.0-py3-none-any.whl (943 kB)\n",
      "\u001b[2K     \u001b[90m━━━━━━━━━━━━━━━━━━━━━━━━━━━━━━━━━━━━━━━\u001b[0m \u001b[32m943.1/943.1 kB\u001b[0m \u001b[31m9.7 MB/s\u001b[0m eta \u001b[36m0:00:00\u001b[0ma \u001b[36m0:00:01\u001b[0m\n",
      "\u001b[?25hRequirement already satisfied: threadpoolctl>=2.0.0 in /home/mazzaroli/anaconda3/lib/python3.9/site-packages (from scikit-learn->sklearn) (2.2.0)\n",
      "Requirement already satisfied: joblib>=1.0.0 in /home/mazzaroli/anaconda3/lib/python3.9/site-packages (from scikit-learn->sklearn) (1.1.0)\n",
      "Requirement already satisfied: packaging>=20.0 in /home/mazzaroli/anaconda3/lib/python3.9/site-packages (from xarray->pandas-flavor->pyjanitor) (21.0)\n",
      "Building wheels for collected packages: empiricaldist, sklearn\n",
      "  Building wheel for empiricaldist (setup.py) ... \u001b[?25ldone\n",
      "\u001b[?25h  Created wheel for empiricaldist: filename=empiricaldist-0.6.7-py3-none-any.whl size=11972 sha256=80902440607b877e81d4ab892d0ad559d717873887ac75b720a41e380486f852\n",
      "  Stored in directory: /home/mazzaroli/.cache/pip/wheels/1a/33/5a/05bbe93cd4709e7a777f8379efb54114a8f7f6dcb3787805fb\n",
      "  Building wheel for sklearn (setup.py) ... \u001b[?25ldone\n",
      "\u001b[?25h  Created wheel for sklearn: filename=sklearn-0.0-py2.py3-none-any.whl size=1309 sha256=30b4021998bf28936e0bed7361696242f3aae568d965e08a49b3f058cd06f1bf\n",
      "  Stored in directory: /home/mazzaroli/.cache/pip/wheels/e4/7b/98/b6466d71b8d738a0c547008b9eb39bf8676d1ff6ca4b22af1c\n",
      "Successfully built empiricaldist sklearn\n",
      "Installing collected packages: empiricaldist, natsort, lazy-loader, xarray, sklearn, palmerpenguins, pandas-flavor, pyjanitor\n",
      "Successfully installed empiricaldist-0.6.7 lazy-loader-0.1rc2 natsort-8.2.0 palmerpenguins-0.1.4 pandas-flavor-0.3.0 pyjanitor-0.23.1 sklearn-0.0 xarray-2022.9.0\n"
     ]
    }
   ],
   "source": [
    "!pip install --upgrade pip\n",
    "!pip install palmerpenguins numpy pandas seaborn matplotlib empiricaldist statsmodels sklearn pyjanitor"
   ]
  },
  {
   "cell_type": "markdown",
   "metadata": {},
   "source": [
    "### Importar librerias"
   ]
  },
  {
   "cell_type": "code",
   "execution_count": 1,
   "metadata": {},
   "outputs": [],
   "source": [
    "import empiricaldist\n",
    "import janitor\n",
    "import matplotlib.pyplot as plt\n",
    "import numpy as np\n",
    "import pandas as pd\n",
    "import palmerpenguins\n",
    "import scipy.stats\n",
    "import seaborn as sns\n",
    "import sklearn.metrics\n",
    "import statsmodels.api as sm\n",
    "import statsmodels.formula.api as smf\n",
    "import statsmodels.stats as ss"
   ]
  },
  {
   "cell_type": "markdown",
   "metadata": {},
   "source": [
    "### Establecer apariencia general de los graficos"
   ]
  },
  {
   "cell_type": "code",
   "execution_count": null,
   "metadata": {},
   "outputs": [],
   "source": [
    "%matplotlib inline\n",
    "sns.set_style(style='whitegrid')\n",
    "sns.set_context(context='notebook')\n",
    "plt.rcParams['figure.figsize'] = (11,9.4)\n",
    "\n",
    "penguin_color = {\n",
    "    'Adelie':'#ff6602ff',\n",
    "    'Gentoo':'#0f7175ff',\n",
    "    'Chinstrap':'#c65dc9ff',\n",
    "}"
   ]
  },
  {
   "cell_type": "markdown",
   "metadata": {},
   "source": [
    "## Recolección de datos, limpieza y validación\n"
   ]
  },
  {
   "cell_type": "markdown",
   "metadata": {},
   "source": [
    "## Ejercicio de validación de datos\n"
   ]
  },
  {
   "cell_type": "markdown",
   "metadata": {},
   "source": [
    "# Tema 2: Análisis univariado\n"
   ]
  },
  {
   "cell_type": "markdown",
   "metadata": {},
   "source": [
    "## Explorando una variable categórica: conteos y proporciones\n"
   ]
  },
  {
   "cell_type": "markdown",
   "metadata": {},
   "source": [
    "## Estadística descriptiva aplicada: medidas de tendencia central\n"
   ]
  },
  {
   "cell_type": "markdown",
   "metadata": {},
   "source": [
    "## Estadística descriptiva aplicada: medidas de dispersión\n"
   ]
  },
  {
   "cell_type": "markdown",
   "metadata": {},
   "source": [
    "## Ejercicio de obtención de medidas de dispersión\n"
   ]
  },
  {
   "cell_type": "markdown",
   "metadata": {},
   "source": [
    "## Estadística descriptiva aplicada: distribuciones\n"
   ]
  },
  {
   "cell_type": "markdown",
   "metadata": {},
   "source": [
    "## Estadística descriptiva aplicada: funciones de densidad de probabilidad\n"
   ]
  },
  {
   "cell_type": "markdown",
   "metadata": {},
   "source": [
    "## Bonus: Teorema del límite central\n"
   ]
  },
  {
   "cell_type": "markdown",
   "metadata": {},
   "source": [
    "# Tema 3: Análisis bivariado\n"
   ]
  },
  {
   "cell_type": "markdown",
   "metadata": {},
   "source": [
    "## Estableciendo relaciones: gráficos de puntos\n"
   ]
  },
  {
   "cell_type": "markdown",
   "metadata": {},
   "source": [
    "## Estableciendo relaciones: gráficos de violín y boxplots\n"
   ]
  },
  {
   "cell_type": "markdown",
   "metadata": {},
   "source": [
    "## Estableciendo relaciones: matrices de correlación\n"
   ]
  },
  {
   "cell_type": "markdown",
   "metadata": {},
   "source": [
    "## Limitantes de los coeficientes de correlación lineal\n"
   ]
  },
  {
   "cell_type": "markdown",
   "metadata": {},
   "source": [
    "## Estableciendo relaciones: análisis de regresión simple\n"
   ]
  },
  {
   "cell_type": "markdown",
   "metadata": {},
   "source": [
    "## Limitaciones del análisis de regresión simple\n"
   ]
  },
  {
   "cell_type": "markdown",
   "metadata": {},
   "source": [
    "# Tema 4: Análisis multivariado\n"
   ]
  },
  {
   "cell_type": "markdown",
   "metadata": {},
   "source": [
    "## Análisis de regresión múltiple\n"
   ]
  },
  {
   "cell_type": "markdown",
   "metadata": {},
   "source": [
    "## Visualización del análisis de regresión múltiple\n"
   ]
  },
  {
   "cell_type": "markdown",
   "metadata": {},
   "source": [
    "## Análisis de regresión logística\n"
   ]
  },
  {
   "cell_type": "markdown",
   "metadata": {},
   "source": [
    "## Paradoja de Simpson\n"
   ]
  },
  {
   "cell_type": "markdown",
   "metadata": {},
   "source": [
    "## ¿Qué hacer cuando tengo muchas variables?\n"
   ]
  },
  {
   "cell_type": "markdown",
   "metadata": {},
   "source": [
    "# Conclusiones\n"
   ]
  },
  {
   "cell_type": "markdown",
   "metadata": {},
   "source": [
    "## Diversidad de gráficas al explorar datos\n"
   ]
  },
  {
   "cell_type": "markdown",
   "metadata": {},
   "source": [
    "## Continúa aprendiendo sobre EDA"
   ]
  }
 ],
 "metadata": {
  "kernelspec": {
   "display_name": "Python 3.9.7 ('base')",
   "language": "python",
   "name": "python3"
  },
  "language_info": {
   "codemirror_mode": {
    "name": "ipython",
    "version": 3
   },
   "file_extension": ".py",
   "mimetype": "text/x-python",
   "name": "python",
   "nbconvert_exporter": "python",
   "pygments_lexer": "ipython3",
   "version": "3.9.7"
  },
  "orig_nbformat": 4,
  "vscode": {
   "interpreter": {
    "hash": "642679db579c39e8c54388d8c67ee59d6b9479549eff357c7b1dae31a7261e66"
   }
  }
 },
 "nbformat": 4,
 "nbformat_minor": 2
}
