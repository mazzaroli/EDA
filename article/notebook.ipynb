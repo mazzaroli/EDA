{
 "cells": [
  {
   "cell_type": "markdown",
   "metadata": {},
   "source": [
    "\n",
    "# Análisis Exploratorio de Datos\n"
   ]
  },
  {
   "cell_type": "markdown",
   "metadata": {},
   "source": [
    "# Tema 1: Introducción al análisis exploratorio de datos\n"
   ]
  },
  {
   "cell_type": "markdown",
   "metadata": {},
   "source": [
    "## ¿Qué es y para qué sirve el análisis exploratorio de datos?\n",
    "\n",
    "**Que aprenderas en esta lectura?**\n",
    "\n",
    "- Entenderas que es y para que sirve un **A**nalisis **E**xploratorio de **D**atos (**E**xploratory **D**ata **A**nalysis o **E.D.A**).\n",
    "- Concoeras los dsitintos tipos de analisis de datos que existen.\n",
    "0 Identificaras distintos tipos de variables y analisis que puedes realizar con ellas.\n",
    "- Seras capaz de explorar conjuntos de datos de $n$ varaiables.\n",
    "- Identificaras las **ventajas** y **desventajas** de distintas visualizaciones de datos.\n",
    "\n",
    "**Conocimientos requeridos:**\n",
    "\n",
    "Para que puedas ir realizando y entendiendo los trabajos al par de la lectura, se asume que posees conocimientos previos en.\n",
    "\n",
    "- Python y algun notebook de tu preferencia.\n",
    "- Principios de visualizacion de datos.\n",
    "- Pandas y NumPy.\n",
    "- Matplotlib y Seaborn.\n",
    "- Estadistica.\n",
    "\n",
    "### Que es el Analisis Exploratorio de Datos (E.D.A)\n",
    "\n",
    "En pocas palabras un [Analisis exploratorio de datos](https://es.wikipedia.org/wiki/An%C3%A1lisis_exploratorio_de_datos) es el proceso determinado por el cientifico [John W. Turkey](https://es.wikipedia.org/wiki/John_W._Tukey) para su tratamiento estadistico de muestras recogidas durante la investigacion.\n",
    "\n",
    "**Los procesos basicos para un E.D.A**\n",
    "\n",
    "1. **Transformar los datos:** Nos sirve para saber que hacer frente a valores nulos, faltantes o datos atípicos. Además de establecer si hay necesidad de reducir la dimensionalidad de datos.\n",
    "\n",
    "1. **Visualizar:** Utilizar alguna herramienta para hacer una representación gráfica de los datos por ejemplo, R, Jupyter notebook, Google Colab, etc.\n",
    "\n",
    "1. **Analizar e Interpretar:** Analizar e interpretar los datos a través de diferentes visualizaciones.\n",
    "\n",
    "1. **Documentar:** Documentar todas las gráficas y estadísticas generadas.\n",
    "\n",
    "Los puntos sera trabajar en el proceso de **conocer en detalle nuestros datos** y ortogarles un sentido, poder **determinaremos la forma correcta de como tratarlos**, indagar en en ellos para **obtener las respuestas que necesitemos** y **transformar los datos en informacion util**."
   ]
  },
  {
   "cell_type": "markdown",
   "metadata": {},
   "source": [
    "## ¿Cómo hacer un análisis exploratorio de datos?\n",
    "\n",
    "### Por que deberias realizar un Analisis Exploratorio de Datos?\n",
    "\n",
    "**Organizar y entender las variables**\n",
    "\n",
    "Lograremos identificar los distintos tipos de variables, las categorias a las que pertenecen y por consiguiente el tipo de analisis que podemos realizar con ellas.\n",
    "\n",
    "**Establecer relaciones entre variables**\n",
    "\n",
    "Lograr establecer realciones entre las variables, por ejemplo ver como una variable se modifica si la grafico junto a otra,\n",
    "\n",
    "**Encontrar patrones ocultos en los datos**\n",
    "\n",
    "Encontraras patrones que de no haber hecho las visualizaciones y la exploracion de los datos no hubieran sido visibles a simple vista.\n",
    "\n",
    "Este sera el punto donde buscaremos encontrar los **data insights**\n",
    "\n",
    "**Ayudarte a escorger el modelo correcto para la necesidad correcta**\n",
    "\n",
    "Al empezar con un conjunto de datos podemos pensar que elegiremos algun modelo que prediga $X$ cosa, pero no obstante sin antes identificar que varibles sirven, cuales no sirven, como se encuentran relacionadas, cuales son las variables que mejor se ajustan a algun tipo de modelo u otro, lo mas probable es que al construir el modelo tengamos un resultado deficiente.\n",
    "\n",
    "El realizar el EDA nos ayudara a encontrar el modelo correcto para la necesidad correcta.\n",
    "\n",
    "**Ayuda a la toma de decisiones basadas en datos**\n",
    "\n",
    "La toma de decisiones basadas en los datos sera uso de hechos, métricas y datos para guiar decisiones estratégicas que se alineen con las metas, objetivos y las iniciativas de nuestra organización.\n",
    "\n",
    "### Cuales son los pasos para realizar un analisis exploratorio de datos?\n",
    "\n",
    "En cada paso para nuestro EDA, deberemos tener en cuenta una serie de preguntas para lograr avanzar en el analisis.\n",
    "\n",
    "**PASO 1: Hacer preguntas**\n",
    "\n",
    "Una vez visualizados los datos, debemos empezar a preguntarnos sobre ellos.\n",
    "\n",
    "- Que te gustaria encontrar?\n",
    "- Que quisieras saber de los datos?\n",
    "- Cual es la razon para realizar el analisis?\n",
    "\n",
    "Una vez tengamos nuestras preguntas, podremos generar una guia para nuestro proceso de exploracion de datos\n",
    "\n",
    "**PASO 2: Determinar el tamano de los datos**\n",
    "\n",
    "\n",
    "- Cuantas observaciones existen?\n",
    "- Cuantas variables hay?\n",
    "- Necesito todas las observaciones?\n",
    "- Necesito todas las variables?\n",
    "\n",
    "**PASO 3: Categorizar las variables**\n",
    "\n",
    "- Cuantas variables categoricas existen?\n",
    "- Cuantas variables continuas existen?\n",
    "- Como puedo explorar cada variable dependiendo de su categoria?\n",
    "\n",
    "**PASO 4: Limpieza y validacion de datos**\n",
    "\n",
    "- tengo valores faltantes?\n",
    "- Cual es la proporcion de datos faltantes\n",
    "- Como puedo tratar los datos faltantes?\n",
    "- Cual es la distribucion de los datos?\n",
    "- Tengo valores atipicos?\n",
    "\n",
    "**PASO 5: Establecer relaciones**\n",
    "\n",
    "- Existen algun tipo de relacion entre mi variable $X$ y $Y$>\n",
    "- Que pasa si ahora considero a la variable $Z$ en el analisis?\n",
    "- Que significa que las observaciones se agrupen?\n",
    "- Que significa el patron que se observa?\n",
    "\n",
    "\n",
    "> Este proceso es ciclico. A pesar de que pueda parecer infinito, este proceso en algun momento debe salir del ciclo y continuar para obtener algun tipo de valor\n",
    "\n",
    "<img src='https://www.researchgate.net/publication/284215308/figure/fig12/AS:668708305383433@1536443892537/Fases-componentes-de-la-metodologia-CRISP-DM-7.ppm' width='328'>\n",
    "<img src='https://static.platzi.com/media/user_upload/graph13-1d72d4bc-0711-48fc-b529-6c232c79259e.jpg' width='500'>\n"
   ]
  },
  {
   "cell_type": "markdown",
   "metadata": {},
   "source": [
    "## Tipos de análisis de datos\n",
    "\n",
    "### Tipos de analitica de datos\n",
    "\n",
    "Sin importar el tamano del conjunto de datos que tengamos, podemos dividir el conjunto de datos en 4 partes evocando a una pregunta escencial por cada etapa\n",
    "\n",
    "#### Analitica Descriptiva \n",
    "\n",
    "Es el análisis más básico. Permite dar una vista general de las propiedades, dimensiones y comportamiento de un fenómeno desde la mera descripción de los datos.\n",
    "\n",
    "#### Analitica Diagnostica \n",
    "\n",
    "Es aplicar unos criterios diferenciales a los datos descriptivos para identificar una situación problemática. Permite establecer relaciones entre variables y crear hipótesis sobre las posibles causas de su comportamiento actual.\n",
    "\n",
    "#### Analitica Predictiva \n",
    "\n",
    "Utiliza datos para explicar un posible comportamiento de las variables de interés si se siguen las tendencias actuales o si estas cambian. Permite determinar si la situación problemática identificada puede representar mayor o menor riesgo en el futuro.\n",
    "\n",
    "#### Analitica Prescriptiva \n",
    "\n",
    "Utiliza datos para apoyar la toma de decisiones, con base en eventos del pasado. Propone soluciones basadas en evidencia. Igualmente, la etapa prescriptiva también puede hacer iniciar el ciclo de nuevo, ya que monitorear la solución también da pie a procesos nuevos de descripción y diagnóstico de ese monitoreo, volviendo a iniciar el ciclo una vez más.\n",
    "\n",
    "<img src='https://gravitar.biz/wp-content/uploads/2021/07/tipos-de-analitica-gravitar_Mesa-de-trabajo-1.png' width='450'>\n",
    "\n",
    "### Ejemplo\n",
    "\n",
    "1. __Analitica Descriptiva (Que sucedio?)__\\\n",
    "    Fuiste a dormir por la noche como cualquier otra sintiendote bien, pero al despertar te das cuenta que te sientes fatigado, con dolor muscular, flema y fiebre. Al preguntarte que esta sucedientio hiciste una descripcion de los sintomas que te hacen sentir mal.\n",
    "    Al tratar de averiguar por que te sientes mal recuerdas que estuviste junto a un companero de trabajo que se sentia enfermo hace dos dias, por lo que que decides ir al medico para poder recibir un diagnostico\n",
    "\n",
    "2. __Analitica Diagnostica (Porque sucedio?)__\\\n",
    "    Cuando llegas al hospital, el doctor hara un breve interrogatorio para tener una descripcion general de lo que te esta ocurriendo, pidiendote que le repitas los sintomas que tienes en ese momento para luego darte un diagnostico y concluir de que tienes un resfriado comun tas la descripcion de tus sintomas.\n",
    "\n",
    "3. __Analitica Predictiva (Que podría pasar si?)__\\\n",
    "    Antes de irte del hospital, una enfermeta te detiene y te menciona que quiere hacerte unos analisis ya que puede ocurrir el caso de lo que seria una enfermedad comun para la normalidad de las personas, a ti te trate completamente diferente, por lo cual la enfermera realiza los analisis necesarios para saber si puede ocurrir una situacion inesperada ante esta enfermedad por cierta condicion, tras los analisis se concluye que estas bien y pasas a la siguiente etapa\n",
    "\n",
    "4. __Analitica Prescriptiva (Que debería hacerse?)__\\\n",
    "    La enfermera al llegar a la conclusion de que te encuentras bien, te da el alta y previamente te preescribe los medicamentos y tipo de descanso que tendras que realizar. "
   ]
  },
  {
   "cell_type": "markdown",
   "metadata": {},
   "source": [
    "## Tipos de datos y análisis de variables\n",
    "\n",
    "### Tipos de variables\n",
    "\n",
    "Las variables categóricas pueden clasificarse en:\n",
    "\n",
    "#### Variables categóricas\n",
    "\n",
    "[**Variable nominal**](https://es.wikipedia.org/wiki/Variable_estad%C3%ADstica#Variable_nominal)\n",
    "\n",
    "Es aquella variable cualitativa cuya categoría no sigue ningún orden, se agrupa sin ninguna jerarquía entre sí.\n",
    "\n",
    "Ejemplos:\n",
    "\n",
    "- Lateralidad (zurdo, diestro)\n",
    "- Estado civil (soltero, casado, divorciado, unión libre)\n",
    "- Grupo sanguíneo (Grupo A-Grupo B-Grupo AB-Grupo 0)\n",
    "\n",
    "[**Variable ordinal**](https://es.wikipedia.org/wiki/Variable_estad%C3%ADstica#Variable_ordinal)\n",
    "\n",
    "Son aquellas variables categóricas con orden secuencial o progresión natural esperable o jerarquía.\n",
    "\n",
    "Ejemplos:\n",
    "\n",
    "- Medalla deportiva (oro, plata, bronce)\n",
    "- Nivel de clase educativa (último año, primer año, etc.)\n",
    "\n",
    "#### Variables numéricas\n",
    "\n",
    "[**Variables continuas**](https://es.wikipedia.org/wiki/Variable_estad%C3%ADstica#Variables_continuas)\n",
    "\n",
    "Son aquellas características que se miden dentro de un rango continuo infinito de valores numéricos y se registran con números reales. Pueden presentar cualquier valor dentro de cierto intervalo.\n",
    "\n",
    "Ejemplos:\n",
    "\n",
    "- Estatura (1,76543 m)\n",
    "- Peso (55,6625 kg)\n",
    "- Tamaño de lesión de leishmaniasis (6,0458 mm)\n",
    "\n",
    "[**Variables discretas**](https://es.wikipedia.org/wiki/Variable_estad%C3%ADstica#Variables_discretas)\n",
    "\n",
    "También llamadas discontinuas, están asociadas a conteos o enumeraciones, razón por la cual solo pueden registrarse con números enteros (0,1,2,3, etc.)\n",
    "\n",
    "Ejemplos:\n",
    "\n",
    "- Número de hijos en una familia (0, 1, 2, 3, etc.)\n",
    "- Número de familias residentes en una manzana (20, 25, 45)\n",
    "- Número de insectos atrapados en una red (0, 1, 2, 5, 10)\n",
    "\n",
    "### Tipos de analisis\n",
    "\n",
    "#### Analisis Univariado\n",
    "\n",
    "El Analisis Univariado busca analizar cada variable por separado, entender sus caracteristicas y como se definen por si misma.\n",
    "\n",
    "#### Analisis Bivariado\n",
    "\n",
    "El Analisis Bivariado busca analizar la relacion de cada par de variables. Permite buscar relaciones intrinsecas entre los datos\n",
    "\n",
    "#### Analisis Multivariado\n",
    "\n",
    "El Analisis Multivariado busca analizar el efecto simultaneo de multiples variables. Analiza la variables como un conjunto\n",
    "______\n",
    "\n",
    "> En el comienzo de la EDA, el análisis univariado te va a dar informacion mucho mas valiosa que comenzar con todas las variables al mismo tiempo. Te ayuda a analizar la contribución individual de una variable sobre las demas para luego incrementar la cantidad de variables y analizar los efectos en conjunto."
   ]
  },
  {
   "cell_type": "markdown",
   "metadata": {},
   "source": [
    "## Herramientas de software para el análisis exploratorio de datos\n"
   ]
  },
  {
   "cell_type": "markdown",
   "metadata": {},
   "source": [
    "## Conociendo nuestros datos: palmerpenguins\n"
   ]
  },
  {
   "cell_type": "markdown",
   "metadata": {},
   "source": [
    "## Recolección de datos, limpieza y validación\n"
   ]
  },
  {
   "cell_type": "markdown",
   "metadata": {},
   "source": [
    "## Ejercicio de validación de datos\n"
   ]
  },
  {
   "cell_type": "markdown",
   "metadata": {},
   "source": [
    "# Tema 2: Análisis univariado\n"
   ]
  },
  {
   "cell_type": "markdown",
   "metadata": {},
   "source": [
    "## Explorando una variable categórica: conteos y proporciones\n"
   ]
  },
  {
   "cell_type": "markdown",
   "metadata": {},
   "source": [
    "## Estadística descriptiva aplicada: medidas de tendencia central\n"
   ]
  },
  {
   "cell_type": "markdown",
   "metadata": {},
   "source": [
    "## Estadística descriptiva aplicada: medidas de dispersión\n"
   ]
  },
  {
   "cell_type": "markdown",
   "metadata": {},
   "source": [
    "## Ejercicio de obtención de medidas de dispersión\n"
   ]
  },
  {
   "cell_type": "markdown",
   "metadata": {},
   "source": [
    "## Estadística descriptiva aplicada: distribuciones\n"
   ]
  },
  {
   "cell_type": "markdown",
   "metadata": {},
   "source": [
    "## Estadística descriptiva aplicada: funciones de densidad de probabilidad\n"
   ]
  },
  {
   "cell_type": "markdown",
   "metadata": {},
   "source": [
    "## Bonus: Teorema del límite central\n"
   ]
  },
  {
   "cell_type": "markdown",
   "metadata": {},
   "source": [
    "# Tema 3: Análisis bivariado\n"
   ]
  },
  {
   "cell_type": "markdown",
   "metadata": {},
   "source": [
    "## Estableciendo relaciones: gráficos de puntos\n"
   ]
  },
  {
   "cell_type": "markdown",
   "metadata": {},
   "source": [
    "## Estableciendo relaciones: gráficos de violín y boxplots\n"
   ]
  },
  {
   "cell_type": "markdown",
   "metadata": {},
   "source": [
    "## Estableciendo relaciones: matrices de correlación\n"
   ]
  },
  {
   "cell_type": "markdown",
   "metadata": {},
   "source": [
    "## Limitantes de los coeficientes de correlación lineal\n"
   ]
  },
  {
   "cell_type": "markdown",
   "metadata": {},
   "source": [
    "## Estableciendo relaciones: análisis de regresión simple\n"
   ]
  },
  {
   "cell_type": "markdown",
   "metadata": {},
   "source": [
    "## Limitaciones del análisis de regresión simple\n"
   ]
  },
  {
   "cell_type": "markdown",
   "metadata": {},
   "source": [
    "# Tema 4: Análisis multivariado\n"
   ]
  },
  {
   "cell_type": "markdown",
   "metadata": {},
   "source": [
    "## Análisis de regresión múltiple\n"
   ]
  },
  {
   "cell_type": "markdown",
   "metadata": {},
   "source": [
    "## Visualización del análisis de regresión múltiple\n"
   ]
  },
  {
   "cell_type": "markdown",
   "metadata": {},
   "source": [
    "## Análisis de regresión logística\n"
   ]
  },
  {
   "cell_type": "markdown",
   "metadata": {},
   "source": [
    "## Paradoja de Simpson\n"
   ]
  },
  {
   "cell_type": "markdown",
   "metadata": {},
   "source": [
    "## ¿Qué hacer cuando tengo muchas variables?\n"
   ]
  },
  {
   "cell_type": "markdown",
   "metadata": {},
   "source": [
    "# Conclusiones\n"
   ]
  },
  {
   "cell_type": "markdown",
   "metadata": {},
   "source": [
    "## Diversidad de gráficas al explorar datos\n"
   ]
  },
  {
   "cell_type": "markdown",
   "metadata": {},
   "source": [
    "## Continúa aprendiendo sobre EDA"
   ]
  }
 ],
 "metadata": {
  "kernelspec": {
   "display_name": "Python 3.8.10 64-bit",
   "language": "python",
   "name": "python3"
  },
  "language_info": {
   "name": "python",
   "version": "3.8.10"
  },
  "orig_nbformat": 4,
  "vscode": {
   "interpreter": {
    "hash": "916dbcbb3f70747c44a77c7bcd40155683ae19c65e1c03b4aa3499c5328201f1"
   }
  }
 },
 "nbformat": 4,
 "nbformat_minor": 2
}
