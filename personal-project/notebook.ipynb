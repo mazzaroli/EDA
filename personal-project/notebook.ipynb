{
 "cells": [
  {
   "cell_type": "markdown",
   "metadata": {},
   "source": [
    "# Exploratory Data Analysis Palmer Penguins\n",
    "<img src='https://allisonhorst.github.io/palmerpenguins/reference/figures/lter_penguins.png' width=500>\n",
    "\n",
    "Done by: Carlos M Mazzaroli\n",
    "\n",
    "## Data comes from:\n",
    "\n",
    "https://raw.githubusercontent.com/allisonhorst/palmerpenguins/master/inst/extdata/penguins.csv\n",
    "\n",
    "## About the data\n",
    "\n",
    "Data were collected and made available by [Dr. Kristen Gorman](https://www.uaf.edu/cfos/people/faculty/detail/kristen-gorman.php) and the [Palmer Station, Antarctica LTER](https://pallter.marine.rutgers.edu/), a member of the [Long Term Ecological Research Network](https://pallter.marine.rutgers.edu/)."
   ]
  },
  {
   "cell_type": "markdown",
   "metadata": {},
   "source": [
    "## Atributes:\n",
    "\n",
    "Numeric\n",
    "\n",
    "1. **species:** the penguin species (Adelie, Chinstrap or Gento)\n",
    "\n",
    "1. **island:**  isla en la Antártida donde se observó cada pingüino (Biscoe, Torgersen or Dream)\n",
    "\n",
    "1. **bill_length_mm:** bill length measurement in millimeters\n",
    "\n",
    "1. **bill_depth_mm:** bill depth measurement in millimeters\n",
    "\n",
    "1. **flipper_length_mm:** flipper length measurement in millimeters\n",
    "\n",
    "1. **body_mass_g:** penguin body weight measurement\n",
    "\n",
    "1. **sex:**  (female or male)  \n",
    "\n",
    "1. **year:** year of study"
   ]
  },
  {
   "cell_type": "markdown",
   "metadata": {},
   "source": [
    "## Initial configuration\n",
    "\n",
    "\n",
    "\n"
   ]
  },
  {
   "cell_type": "markdown",
   "metadata": {},
   "source": [
    "### install libraries"
   ]
  },
  {
   "cell_type": "code",
   "execution_count": 111,
   "metadata": {},
   "outputs": [
    {
     "name": "stdout",
     "output_type": "stream",
     "text": [
      "Requirement already satisfied: pip in /home/mazzaroli/anaconda3/lib/python3.9/site-packages (22.3)\n",
      "Requirement already satisfied: numpy in /home/mazzaroli/anaconda3/lib/python3.9/site-packages (1.20.3)\n",
      "Requirement already satisfied: pandas in /home/mazzaroli/anaconda3/lib/python3.9/site-packages (1.3.4)\n",
      "Requirement already satisfied: matplotlib in /home/mazzaroli/anaconda3/lib/python3.9/site-packages (3.4.3)\n",
      "Requirement already satisfied: seaborn in /home/mazzaroli/anaconda3/lib/python3.9/site-packages (0.11.2)\n",
      "Requirement already satisfied: empiricaldist in /home/mazzaroli/anaconda3/lib/python3.9/site-packages (0.6.7)\n",
      "Requirement already satisfied: statsmodels in /home/mazzaroli/anaconda3/lib/python3.9/site-packages (0.13.2)\n",
      "Requirement already satisfied: sklearn in /home/mazzaroli/anaconda3/lib/python3.9/site-packages (0.0)\n",
      "Requirement already satisfied: pyjanitor in /home/mazzaroli/anaconda3/lib/python3.9/site-packages (0.23.1)\n",
      "Requirement already satisfied: python-dateutil>=2.7.3 in /home/mazzaroli/anaconda3/lib/python3.9/site-packages (from pandas) (2.8.2)\n",
      "Requirement already satisfied: pytz>=2017.3 in /home/mazzaroli/anaconda3/lib/python3.9/site-packages (from pandas) (2021.3)\n",
      "Requirement already satisfied: cycler>=0.10 in /home/mazzaroli/anaconda3/lib/python3.9/site-packages (from matplotlib) (0.10.0)\n",
      "Requirement already satisfied: pyparsing>=2.2.1 in /home/mazzaroli/anaconda3/lib/python3.9/site-packages (from matplotlib) (3.0.4)\n",
      "Requirement already satisfied: pillow>=6.2.0 in /home/mazzaroli/anaconda3/lib/python3.9/site-packages (from matplotlib) (8.4.0)\n",
      "Requirement already satisfied: kiwisolver>=1.0.1 in /home/mazzaroli/anaconda3/lib/python3.9/site-packages (from matplotlib) (1.3.1)\n",
      "Requirement already satisfied: scipy>=1.0 in /home/mazzaroli/anaconda3/lib/python3.9/site-packages (from seaborn) (1.7.1)\n",
      "Requirement already satisfied: patsy>=0.5.2 in /home/mazzaroli/anaconda3/lib/python3.9/site-packages (from statsmodels) (0.5.2)\n",
      "Requirement already satisfied: packaging>=21.3 in /home/mazzaroli/anaconda3/lib/python3.9/site-packages (from statsmodels) (21.3)\n",
      "Requirement already satisfied: scikit-learn in /home/mazzaroli/anaconda3/lib/python3.9/site-packages (from sklearn) (1.1.2)\n",
      "Requirement already satisfied: multipledispatch in /home/mazzaroli/anaconda3/lib/python3.9/site-packages (from pyjanitor) (0.6.0)\n",
      "Requirement already satisfied: natsort in /home/mazzaroli/anaconda3/lib/python3.9/site-packages (from pyjanitor) (8.2.0)\n",
      "Requirement already satisfied: pandas-flavor in /home/mazzaroli/anaconda3/lib/python3.9/site-packages (from pyjanitor) (0.3.0)\n",
      "Requirement already satisfied: six in /home/mazzaroli/anaconda3/lib/python3.9/site-packages (from cycler>=0.10->matplotlib) (1.16.0)\n",
      "Requirement already satisfied: xarray in /home/mazzaroli/anaconda3/lib/python3.9/site-packages (from pandas-flavor->pyjanitor) (2022.9.0)\n",
      "Requirement already satisfied: lazy-loader==0.1rc2 in /home/mazzaroli/anaconda3/lib/python3.9/site-packages (from pandas-flavor->pyjanitor) (0.1rc2)\n",
      "Requirement already satisfied: joblib>=1.0.0 in /home/mazzaroli/anaconda3/lib/python3.9/site-packages (from scikit-learn->sklearn) (1.1.0)\n",
      "Requirement already satisfied: threadpoolctl>=2.0.0 in /home/mazzaroli/anaconda3/lib/python3.9/site-packages (from scikit-learn->sklearn) (2.2.0)\n"
     ]
    }
   ],
   "source": [
    "!pip install --upgrade pip\n",
    "!pip install numpy pandas matplotlib seaborn empiricaldist statsmodels sklearn pyjanitor"
   ]
  },
  {
   "cell_type": "markdown",
   "metadata": {},
   "source": [
    "### Import libraries"
   ]
  },
  {
   "cell_type": "code",
   "execution_count": 112,
   "metadata": {},
   "outputs": [],
   "source": [
    "import numpy as np\n",
    "import pandas as pd\n",
    "import matplotlib.pyplot as plt\n",
    "import seaborn as sns\n",
    "import scipy.stats\n",
    "import sklearn.metrics\n",
    "import statsmodels.api as sm\n",
    "import statsmodels.formula.api as smf\n",
    "import statsmodels.stats as ss\n",
    "import empiricaldist\n",
    "import janitor"
   ]
  },
  {
   "cell_type": "markdown",
   "metadata": {},
   "source": [
    "###  Graphs appareance"
   ]
  },
  {
   "cell_type": "code",
   "execution_count": 113,
   "metadata": {},
   "outputs": [
    {
     "ename": "IndentationError",
     "evalue": "unexpected indent (186775463.py, line 6)",
     "output_type": "error",
     "traceback": [
      "\u001b[0;36m  File \u001b[0;32m\"/tmp/ipykernel_483/186775463.py\"\u001b[0;36m, line \u001b[0;32m6\u001b[0m\n\u001b[0;31m    Seaborn\u001b[0m\n\u001b[0m    ^\u001b[0m\n\u001b[0;31mIndentationError\u001b[0m\u001b[0;31m:\u001b[0m unexpected indent\n"
     ]
    }
   ],
   "source": [
    "%matplotlib inline\n",
    "sns.set_style(style='whitegrid')\n",
    "sns.set_context(context='notebook')\n",
    "plt.rcParams['figure.figsize'] = (11,9.4)\n",
    "\n",
    " Seaborn\n",
    "penguin_color = {\n",
    "    'Adelie':'ff6602ff',\n",
    "    'Gentoo':'0f7175ff',\n",
    "    'Chinstrap':'c65dc9ff',\n",
    "    'Torgersen': '955FC8', \n",
    "    'Biscoe': '94e2c3', \n",
    "    'Dream': '345469',\n",
    "    'Female': 'pink',\n",
    "    'Male': 'skyblue',\n",
    "}\n",
    "\n",
    " Matplotlib\n",
    "pcolors =['ff6602ff','0f7175ff','c65dc9ff']\n",
    "icolors =['955FC8', '94e2c3', '345469']\n",
    "scolors =['pink','skyblue',]\n",
    "\n",
    "plt_colors=[pcolors,icolors,scolors]"
   ]
  },
  {
   "cell_type": "markdown",
   "metadata": {},
   "source": [
    "## Data validation"
   ]
  },
  {
   "cell_type": "markdown",
   "metadata": {},
   "source": [
    "###  Load dataset"
   ]
  },
  {
   "cell_type": "code",
   "execution_count": null,
   "metadata": {},
   "outputs": [],
   "source": [
    "df = sns.load_dataset('penguins')\n",
    "df"
   ]
  },
  {
   "cell_type": "markdown",
   "metadata": {},
   "source": [
    "###  Dataset information"
   ]
  },
  {
   "cell_type": "code",
   "execution_count": null,
   "metadata": {},
   "outputs": [],
   "source": [
    "df.info()"
   ]
  },
  {
   "cell_type": "markdown",
   "metadata": {},
   "source": [
    "### Variables from the dataset\n",
    "\n",
    "1. **species:** (Categorical)\n",
    "1. **island:** (Categorical)\n",
    "1. **bill_length_mm:** (Numerical)\n",
    "1. **bill_depth_mm:** (Numerical)\n",
    "1. **flipper_length_mm:** (Numerical)\n",
    "1. **body_mass_g:** (Numerical)\n",
    "1. **sex:** (Categorical)\n",
    "1. **year:** (Numerical)\n",
    "\n",
    "- **Numerical data**: 4\n",
    "- **Categorical data**: 3\n",
    "\n",
    "Shape of the dataset: \n",
    "\n",
    "- rows: 344\n",
    "- cols: 7"
   ]
  },
  {
   "cell_type": "code",
   "execution_count": null,
   "metadata": {},
   "outputs": [],
   "source": [
    "category_columns = ['species','island','sex']\n",
    "numeric_columns = df.select_dtypes(include=np.number).columns\n",
    "penguin_columns = ['Adelie', 'Chinstrap', 'Gentoo' ]"
   ]
  },
  {
   "cell_type": "markdown",
   "metadata": {},
   "source": [
    "## Data Cleaning"
   ]
  },
  {
   "cell_type": "markdown",
   "metadata": {},
   "source": [
    "### Not missing values"
   ]
  },
  {
   "cell_type": "code",
   "execution_count": null,
   "metadata": {},
   "outputs": [],
   "source": [
    "df.notnull().sum()"
   ]
  },
  {
   "cell_type": "markdown",
   "metadata": {},
   "source": [
    "### Missing values"
   ]
  },
  {
   "cell_type": "code",
   "execution_count": null,
   "metadata": {},
   "outputs": [],
   "source": [
    "df.isnull().sum()"
   ]
  },
  {
   "cell_type": "markdown",
   "metadata": {},
   "source": [
    "### Proportion of missing values"
   ]
  },
  {
   "cell_type": "code",
   "execution_count": null,
   "metadata": {},
   "outputs": [],
   "source": [
    "df.isnull().sum()/df.notnull().sum()"
   ]
  },
  {
   "cell_type": "markdown",
   "metadata": {},
   "source": [
    "### Missing values"
   ]
  },
  {
   "cell_type": "code",
   "execution_count": null,
   "metadata": {},
   "outputs": [],
   "source": [
    "sex_null = df.isnull().any(True)\n",
    "sex_null\n",
    "df[sex_null]"
   ]
  },
  {
   "cell_type": "markdown",
   "metadata": {},
   "source": [
    " **Observation:**\n",
    " The missing values come mainly from the gender variable, except for two penguins that are missing all of their numeric and gender variables. A new data frame will be created with the null values removed to continue the study and then the null values will be retaken."
   ]
  },
  {
   "cell_type": "code",
   "execution_count": null,
   "metadata": {},
   "outputs": [],
   "source": [
    "df2 = df.dropna()\n",
    "print(f'''\n",
    "{df2.isna().any()}\n",
    "''')"
   ]
  },
  {
   "cell_type": "markdown",
   "metadata": {},
   "source": [
    "###  Convert data type"
   ]
  },
  {
   "cell_type": "code",
   "execution_count": null,
   "metadata": {},
   "outputs": [],
   "source": [
    "df = df.astype({'species': 'category','island': 'category','sex': 'category',}) \n",
    "df2 = df2.astype({'species': 'category','island': 'category','sex': 'category',}) \n"
   ]
  },
  {
   "cell_type": "code",
   "execution_count": null,
   "metadata": {},
   "outputs": [],
   "source": [
    "df2.info()"
   ]
  },
  {
   "cell_type": "markdown",
   "metadata": {},
   "source": [
    "# Data exploration: Univariate Analysis"
   ]
  },
  {
   "cell_type": "markdown",
   "metadata": {},
   "source": [
    "## Numerical analysis"
   ]
  },
  {
   "cell_type": "markdown",
   "metadata": {},
   "source": [
    "### See the basic statistics from the numerical Data"
   ]
  },
  {
   "cell_type": "code",
   "execution_count": null,
   "metadata": {},
   "outputs": [],
   "source": [
    "numerical_statistics = pd.concat([\n",
    "    df2.describe(include=np.number).iloc[0:1],\n",
    "    df2.mode(numeric_only=True).rename(index={0:'mode'}),\n",
    "    pd.DataFrame(df2.median(numeric_only=True),columns=['median']).T,\n",
    "    df2.describe(include=np.number).iloc[1:8],\n",
    "    ])\n",
    "numerical_statistics"
   ]
  },
  {
   "cell_type": "markdown",
   "metadata": {},
   "source": [
    "###  Numerical statistics visualization"
   ]
  },
  {
   "cell_type": "code",
   "execution_count": null,
   "metadata": {},
   "outputs": [],
   "source": [
    "fig,ax = plt.subplots(1,4,figsize=(20,5))\n",
    "for i,col in enumerate(numerical_statistics):\n",
    "    sns.histplot( \n",
    "        ax=ax[i],\n",
    "        data=df2,\n",
    "        x=col,\n",
    "        palette=penguin_color,\n",
    "        bins=50,\n",
    "        alpha=.55,\n",
    "        color='0f7175ff',\n",
    "        kde=True,\n",
    "        )\n",
    "    ax[i].lines[0].set_color('4c36f5')\n",
    "\n",
    "    ax[i].axvline(\n",
    "        x=numerical_statistics.iloc[:,i:i+1].loc['25%'][0],\n",
    "        color='f26a02',\n",
    "        linestyle='dashed',\n",
    "        linewidth=2.5,\n",
    "        label='Q1'\n",
    "    ) \n",
    "    ax[i].axvline(\n",
    "        x=numerical_statistics.iloc[:,i:i+1].loc['75%'][0],\n",
    "        color='bd00b0',\n",
    "        linestyle='dashed',\n",
    "        linewidth=2.5,\n",
    "        label='Q3'\n",
    "    )\n",
    "    ax[i].axvline(\n",
    "        x=numerical_statistics.iloc[:,i:i+1].loc['mean'][0],\n",
    "        color='f75c6b',\n",
    "        linestyle='dashed',\n",
    "        linewidth=2.5,\n",
    "        label='mean',\n",
    "    )\n",
    "    ax[i].legend()\n",
    "\n",
    "\n",
    "\t"
   ]
  },
  {
   "cell_type": "markdown",
   "metadata": {},
   "source": [
    "### Partial conclutions\n",
    "\n",
    "From the graphs, we can conclude:\n",
    "- The variables **bill_length_mm, bill_ depth_m, flipper_length_mm** tend to be a bimodal distribution.\n",
    "- As for the variable body_mass_g, it tends to be a positively Skewed Distribution."
   ]
  },
  {
   "cell_type": "markdown",
   "metadata": {},
   "source": [
    "## Categorical analysis"
   ]
  },
  {
   "cell_type": "markdown",
   "metadata": {},
   "source": [
    "### See the basic statistics from the categorical data"
   ]
  },
  {
   "cell_type": "code",
   "execution_count": null,
   "metadata": {},
   "outputs": [],
   "source": [
    "df2.describe(include='category')"
   ]
  },
  {
   "cell_type": "markdown",
   "metadata": {},
   "source": [
    "### Categorical variables count visualization"
   ]
  },
  {
   "cell_type": "code",
   "execution_count": null,
   "metadata": {},
   "outputs": [],
   "source": [
    "fig, ax = plt.subplots(1,3,figsize=(20,5))\n",
    "for i,category in enumerate(category_columns):\n",
    "    sns.histplot(\n",
    "        ax=ax[i], \n",
    "        data=df2,\n",
    "        y=category,\n",
    "        hue=category,\n",
    "        palette=penguin_color,\n",
    "        alpha=0.6\n",
    "    )\n",
    "    "
   ]
  },
  {
   "cell_type": "markdown",
   "metadata": {},
   "source": [
    "$\n",
    "\\begin{matrix}\n",
    "\\text{SPECIES}   & count &&&&  & \\text{ISLAND} & count &&&& \\text{SEX}  & count\\\\\n",
    "Adelie           & 146   &&&&  & Biscoe        & 163   &&&& Male        & 168  \\\\\n",
    "Gentoo           & 119   &&&&  & Dream         & 123   &&&& Female      & 165  \\\\\n",
    "Chinstrap        & 68    &&&&  & Torgersen     & 47    &&&&                    \\\\\n",
    "\\end{matrix}\n",
    "$\n",
    "\n",
    "- In the previous graph, it is seen that the data of the species and the islands are not balanced, except for the sex of the penguins, which is balanced."
   ]
  },
  {
   "cell_type": "markdown",
   "metadata": {},
   "source": [
    "###  Categorical variables proportion visualization"
   ]
  },
  {
   "cell_type": "code",
   "execution_count": null,
   "metadata": {},
   "outputs": [],
   "source": [
    "fig, ax = plt.subplots(1,3,figsize=(20,5))\n",
    "for i,category in enumerate(category_columns):\n",
    "    sns.histplot(\n",
    "        ax=ax[i],\n",
    "        data=df2.add_column(category[i],',').reset_index(),\n",
    "        y=category[i],\n",
    "        palette=penguin_color,\n",
    "        multiple='fill',\n",
    "        stat='count',\n",
    "        hue=category,\n",
    "        alpha=0.6\n",
    "    )\n",
    "    ax[i].set(ylabel=category, xlabel='proportion')\n",
    "\n",
    "    \n"
   ]
  },
  {
   "cell_type": "markdown",
   "metadata": {},
   "source": [
    "$\n",
    "\\begin{matrix}\n",
    "\\text{SPECIES}   & proportion  &&&&  & \\text{ISLAND} & proportion &&&& \\text{SEX}  & proportion\\\\\n",
    "Adelie           & 43.84\\%     &&&&  & Biscoe        & 48.94\\%    &&&& Male        & 50.45\\%     \\\\\n",
    "Gentoo           & 35.73\\%     &&&&  & Dream         & 36.93\\%    &&&& Female      & 49.54\\%     \\\\\n",
    "Chinstrap        & 20.42\\%     &&&&  & Torgersen     & 14.11\\%    &&&& \n",
    "\\end{matrix}\n",
    "$\n",
    "\n"
   ]
  },
  {
   "cell_type": "markdown",
   "metadata": {},
   "source": [
    "The proportion of penguins between the Adelie and Gentoo species is similar, however there is a smaller number of Chinstraps\n",
    "\n",
    "The same situation occurs with the islands, where we have the highest concentration of penguins on Biscoe Island, followed by Dream and Torsergen with the fewest records.\n",
    "\n",
    "###  Partial Conclusions\n",
    "\n",
    "From the previous calculus several things can be concluded:\n",
    "\n",
    "- The proportion of species and islands is similar.\n",
    "- More than 40% of the penguins are of the Adelie species.\n",
    "- Nearly 50% of the penguins inhabit Biscoe Island."
   ]
  },
  {
   "cell_type": "markdown",
   "metadata": {},
   "source": [
    "# Data exploration: Bivariate Analysis"
   ]
  },
  {
   "cell_type": "markdown",
   "metadata": {},
   "source": [
    "## Numerical & Categorical analysis\n",
    "\n",
    "Prepare filters for analysis\n"
   ]
  },
  {
   "cell_type": "code",
   "execution_count": null,
   "metadata": {},
   "outputs": [],
   "source": [
    "male = df2.sex == 'Male'\n",
    "female = ~male\n",
    "\n",
    "adelie = df2.species == 'Adelie'\n",
    "chinstrap = df2.species == 'Chinstrap'\n",
    "gentoo = df2.species == 'Gentoo'\n",
    "\n",
    "torgersen = df2.island == 'Torgersen'\n",
    "dream = df2.island == 'Dream'\n",
    "biscoe = df2.island == 'Biscoe'\n",
    "\n",
    "species = [adelie,chinstrap,gentoo]\n",
    "islands = [torgersen,dream,biscoe]\n",
    "sex = [male, female]"
   ]
  },
  {
   "cell_type": "markdown",
   "metadata": {},
   "source": [
    "###  Analysis of penguin features"
   ]
  },
  {
   "cell_type": "markdown",
   "metadata": {},
   "source": [
    "####  Penguin features statistics "
   ]
  },
  {
   "cell_type": "code",
   "execution_count": null,
   "metadata": {},
   "outputs": [],
   "source": [
    "df2.groupby(['species','island']).agg(['min','mean','max',]).dropna()"
   ]
  },
  {
   "cell_type": "markdown",
   "metadata": {},
   "source": [
    "#### Penguin features visualization:"
   ]
  },
  {
   "cell_type": "code",
   "execution_count": null,
   "metadata": {},
   "outputs": [],
   "source": [
    "fig,ax = plt.subplots(3,len(numeric_columns), figsize=(20,15))\n",
    "\n",
    "for i, i_col in enumerate(category_columns):\n",
    "    for j, j_col in enumerate(numeric_columns):\n",
    "        sns.violinplot(\n",
    "             split=True,\n",
    "            ax=ax[i][j],\n",
    "            data=df2,\n",
    "            x='species',\n",
    "            y=j_col,\n",
    "            hue=i_col,\n",
    "            palette=penguin_color,\n",
    "            )\n",
    "        ax[i][j].set_title(j_col) if i ==0 else None\n",
    "        ax[i][j].set_xlabel(None)\n",
    "        ax[i][j].set_ylabel(None)"
   ]
  },
  {
   "cell_type": "markdown",
   "metadata": {},
   "source": [
    "#### Conclusions\n",
    "\n",
    "**Adelie penguins:**\n",
    "1. They are present on all three islands.\n",
    "1. Adelies are smaller than the Chinstrap and Gentoo species. Except for the depth of its bill.\n",
    "1. Its flipper and bill, both long and wide, are longer on Torgersen Island than its species\n",
    "1. They tend to be heavier on Biscoe Island.\n",
    "\n",
    "**Chinstrap penguins:**\n",
    "1. Its only found on Dream Island.\n",
    "1. Chinstrap penguins have longer wings and are heavier than Adelie penguins but less than the Gentoo penguins.\n",
    "1. The length of its bill is similar to the Adelie penguin, but it is wider than the Gentoo penguin.\n",
    "\n",
    "**Gentoo penguins:**\n",
    "\n",
    "1. Its only located on Biscoe Island.\n",
    "1. They are heaviest than the other species.\n",
    "1. They have longer flippers than the other species.\n",
    "1. Gentoo penguins have the longest bill and the thinnest at the same time\n",
    "\n",
    "In all species, males were bigger than females. But it was discovered a female chinstrap penguin had longer flippers than other males from the same species."
   ]
  },
  {
   "cell_type": "markdown",
   "metadata": {},
   "source": [
    "### Analysis of penguin distribution"
   ]
  },
  {
   "cell_type": "markdown",
   "metadata": {},
   "source": [
    "#### General distribution"
   ]
  },
  {
   "cell_type": "code",
   "execution_count": null,
   "metadata": {},
   "outputs": [],
   "source": [
    "fig,ax = plt.subplots(3,len(numeric_columns), figsize=(20,15))\n",
    "\n",
    "for i, i_col in enumerate(category_columns):\n",
    "    for j, j_col in enumerate(numeric_columns):\n",
    "        sns.histplot( \n",
    "            ax=ax[i][j],\n",
    "            data=df2,\n",
    "            x=j_col,\n",
    "            hue=i_col,\n",
    "            bins=40,\n",
    "            kde=True,\n",
    "            palette=penguin_color,\n",
    "            )"
   ]
  },
  {
   "cell_type": "markdown",
   "metadata": {},
   "source": [
    "#####  **Partial Conclusions**\n",
    "\n",
    "**With the last graph, we can conclude that:**\n",
    "\n",
    "1. The species category is the one that most closely corresponds to a normal distribution.\n",
    "1. Biscoe Island has a bimodal trend.\n",
    "1. Dream Island appears to follow a normal distribution except for the variable bill length, which tends to have a bimodal distribution.\n",
    "1. Torgersen Island tends to have a normal distribution.\n",
    "1. The sex of penguins has a bimodal tendency.\n",
    "\n",
    "**Data insights**\n",
    "\n",
    "- Biases in the species category may arise from the difference in values between sexes of the same species.\n",
    "- Bimodal trends in the island category may be suggesting the presence of more than one penguin per island.\n",
    "- Bimodal tendencies in sex are due to different species.\n"
   ]
  },
  {
   "cell_type": "markdown",
   "metadata": {},
   "source": [
    "#### Individual species distribution"
   ]
  },
  {
   "cell_type": "code",
   "execution_count": null,
   "metadata": {},
   "outputs": [],
   "source": [
    "fig,ax = plt.subplots(len(numeric_columns),len(species), figsize=(15,13))\n",
    "bins = 20\n",
    "for i, i_col in enumerate(numeric_columns):\n",
    "    for j, j_col in enumerate(category_columns): \n",
    "        sns.histplot( \n",
    "            ax=ax[i][j],\n",
    "            data=df2[adelie],\n",
    "            x=i_col,\n",
    "            hue=j_col,\n",
    "            multiple='layer',\n",
    "            bins=30,\n",
    "            kde=True,\n",
    "            palette=penguin_color,\n",
    "            )\n",
    "            \n",
    "        ax[i][j].set_ylabel(numeric_columns[i], labelpad=60,rotation=0) if j==0 else ax[i][j].set_ylabel(None)\n",
    "        ax[i][j].set_xlabel(None)\n",
    "fig.suptitle('Adelie species');\n",
    "plt.subplots_adjust(top=0.95);\n"
   ]
  },
  {
   "cell_type": "code",
   "execution_count": null,
   "metadata": {},
   "outputs": [],
   "source": [
    "fig,ax = plt.subplots(len(numeric_columns),len(species), figsize=(15,13))\n",
    "bins = 20\n",
    "for i, i_col in enumerate(numeric_columns):\n",
    "    for j, j_col in enumerate(category_columns): \n",
    "        sns.histplot( \n",
    "            ax=ax[i][j],\n",
    "            data=df2[chinstrap],\n",
    "            x=i_col,\n",
    "            hue=j_col,\n",
    "            multiple='layer',\n",
    "            bins=30,\n",
    "            kde=True,\n",
    "            palette=penguin_color,\n",
    "            )\n",
    "            \n",
    "        ax[i][j].set_ylabel(numeric_columns[i], labelpad=60,rotation=0) if j==0 else ax[i][j].set_ylabel(None)\n",
    "        ax[i][j].set_xlabel(None)\n",
    "         ax[0][j].set_title(penguin_columns[j])\n",
    "         ax[i][j].get_legend().remove()\n",
    "plt.suptitle('Chinstrap species');\n",
    "plt.subplots_adjust(top=0.95);\n"
   ]
  },
  {
   "cell_type": "code",
   "execution_count": null,
   "metadata": {},
   "outputs": [],
   "source": [
    "fig,ax = plt.subplots(len(numeric_columns),len(species), figsize=(15,13))\n",
    "bins = 20\n",
    "for i, i_col in enumerate(numeric_columns):\n",
    "    for j, j_col in enumerate(category_columns): \n",
    "        sns.histplot( \n",
    "            ax=ax[i][j],\n",
    "            data=df2[gentoo],\n",
    "            x=i_col,\n",
    "            hue=j_col,\n",
    "            multiple='layer',\n",
    "            bins=30,\n",
    "            kde=True,\n",
    "            palette=penguin_color,\n",
    "            )\n",
    "            \n",
    "        ax[i][j].set_ylabel(numeric_columns[i], labelpad=60,rotation=0) if j==0 else ax[i][j].set_ylabel(None)\n",
    "        ax[i][j].set_xlabel(None)\n",
    "         ax[0][j].set_title(penguin_columns[j])\n",
    "         ax[i][j].get_legend().remove()\n",
    "plt.suptitle('Gentoo species');\n",
    "plt.subplots_adjust(top=0.95);"
   ]
  },
  {
   "cell_type": "markdown",
   "metadata": {},
   "source": [
    "##### Conclusions\n",
    "\n",
    "Se ajusta a una distribucion normal\n",
    "alas de los gentoo y los chinstrap\n",
    "\n",
    "peso de los chinstrap\n",
    "\n",
    "Todas las otras se encuentran con sesgos o tienden a ser bimodales por el sexo"
   ]
  }
 ],
 "metadata": {
  "kernelspec": {
   "display_name": "Python 3.9.7 ('base')",
   "language": "python",
   "name": "python3"
  },
  "language_info": {
   "codemirror_mode": {
    "name": "ipython",
    "version": 3
   },
   "file_extension": ".py",
   "mimetype": "text/x-python",
   "name": "python",
   "nbconvert_exporter": "python",
   "pygments_lexer": "ipython3",
   "version": "3.9.7"
  },
  "orig_nbformat": 4,
  "vscode": {
   "interpreter": {
    "hash": "642679db579c39e8c54388d8c67ee59d6b9479549eff357c7b1dae31a7261e66"
   }
  }
 },
 "nbformat": 4,
 "nbformat_minor": 2
}
